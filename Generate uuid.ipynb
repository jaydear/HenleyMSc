{
 "cells": [
  {
   "cell_type": "code",
   "execution_count": null,
   "metadata": {},
   "outputs": [],
   "source": [
    "import numpy as np\n",
    "import pandas as pd\n",
    "import matplotlib.pyplot as plt\n",
    "from scipy import stats\n",
    "from sklearn.cluster import KMeans\n",
    "from sklearn.preprocessing import Imputer, StandardScaler\n",
    "from io import StringIO\n"
   ]
  },
  {
   "cell_type": "code",
   "execution_count": 2,
   "metadata": {},
   "outputs": [],
   "source": [
    "import os\n",
    "path = os.getcwd()\n",
    "print(path)"
   ]
  },
  {
   "cell_type": "code",
   "execution_count": 3,
   "metadata": {},
   "outputs": [
    {
     "name": "stdout",
     "output_type": "stream",
     "text": [
      "/Users/jdear/HBSDissertation\n"
     ]
    }
   ],
   "source": [
    "os.chdir('/Users/jdear/HBSDissertation')\n",
    "path = os.getcwd()\n",
    "print(path)"
   ]
  },
  {
   "cell_type": "code",
   "execution_count": 5,
   "metadata": {},
   "outputs": [
    {
     "data": {
      "text/plain": [
       "Index(['_', 'Id', 'Name'], dtype='object')"
      ]
     },
     "execution_count": 5,
     "metadata": {},
     "output_type": "execute_result"
    }
   ],
   "source": [
    "AccUUID = pd.read_csv('/Users/jdear/HBSDissertation/accountlist.csv')\n",
    "AccUUID.columns"
   ]
  },
  {
   "cell_type": "code",
   "execution_count": 6,
   "metadata": {},
   "outputs": [
    {
     "data": {
      "text/html": [
       "<div>\n",
       "<style scoped>\n",
       "    .dataframe tbody tr th:only-of-type {\n",
       "        vertical-align: middle;\n",
       "    }\n",
       "\n",
       "    .dataframe tbody tr th {\n",
       "        vertical-align: top;\n",
       "    }\n",
       "\n",
       "    .dataframe thead th {\n",
       "        text-align: right;\n",
       "    }\n",
       "</style>\n",
       "<table border=\"1\" class=\"dataframe\">\n",
       "  <thead>\n",
       "    <tr style=\"text-align: right;\">\n",
       "      <th></th>\n",
       "      <th>_</th>\n",
       "      <th>Id</th>\n",
       "      <th>Name</th>\n",
       "    </tr>\n",
       "  </thead>\n",
       "  <tbody>\n",
       "    <tr>\n",
       "      <th>0</th>\n",
       "      <td>[Account]</td>\n",
       "      <td>0010000000000ABAAY</td>\n",
       "      <td>Butler Home Products, LLC</td>\n",
       "    </tr>\n",
       "    <tr>\n",
       "      <th>1</th>\n",
       "      <td>[Account]</td>\n",
       "      <td>0010000000000X1AAI</td>\n",
       "      <td>Slalom</td>\n",
       "    </tr>\n",
       "    <tr>\n",
       "      <th>2</th>\n",
       "      <td>[Account]</td>\n",
       "      <td>001000000001LQ0AAM</td>\n",
       "      <td>OutSource Management, Inc.</td>\n",
       "    </tr>\n",
       "    <tr>\n",
       "      <th>3</th>\n",
       "      <td>[Account]</td>\n",
       "      <td>00100000000r6moAAA</td>\n",
       "      <td>Legacy TWC ResiDirect Sales</td>\n",
       "    </tr>\n",
       "    <tr>\n",
       "      <th>4</th>\n",
       "      <td>[Account]</td>\n",
       "      <td>00100000001cptWAAQ</td>\n",
       "      <td>Hitachi Vantara</td>\n",
       "    </tr>\n",
       "  </tbody>\n",
       "</table>\n",
       "</div>"
      ],
      "text/plain": [
       "           _                  Id                         Name\n",
       "0  [Account]  0010000000000ABAAY    Butler Home Products, LLC\n",
       "1  [Account]  0010000000000X1AAI                       Slalom\n",
       "2  [Account]  001000000001LQ0AAM   OutSource Management, Inc.\n",
       "3  [Account]  00100000000r6moAAA  Legacy TWC ResiDirect Sales\n",
       "4  [Account]  00100000001cptWAAQ              Hitachi Vantara"
      ]
     },
     "execution_count": 6,
     "metadata": {},
     "output_type": "execute_result"
    }
   ],
   "source": [
    "AccUUID.head(5)"
   ]
  },
  {
   "cell_type": "code",
   "execution_count": 7,
   "metadata": {},
   "outputs": [
    {
     "data": {
      "text/html": [
       "<div>\n",
       "<style scoped>\n",
       "    .dataframe tbody tr th:only-of-type {\n",
       "        vertical-align: middle;\n",
       "    }\n",
       "\n",
       "    .dataframe tbody tr th {\n",
       "        vertical-align: top;\n",
       "    }\n",
       "\n",
       "    .dataframe thead th {\n",
       "        text-align: right;\n",
       "    }\n",
       "</style>\n",
       "<table border=\"1\" class=\"dataframe\">\n",
       "  <thead>\n",
       "    <tr style=\"text-align: right;\">\n",
       "      <th></th>\n",
       "      <th>Id</th>\n",
       "      <th>Name</th>\n",
       "    </tr>\n",
       "  </thead>\n",
       "  <tbody>\n",
       "    <tr>\n",
       "      <th>0</th>\n",
       "      <td>0010000000000ABAAY</td>\n",
       "      <td>Butler Home Products, LLC</td>\n",
       "    </tr>\n",
       "    <tr>\n",
       "      <th>1</th>\n",
       "      <td>0010000000000X1AAI</td>\n",
       "      <td>Slalom</td>\n",
       "    </tr>\n",
       "    <tr>\n",
       "      <th>2</th>\n",
       "      <td>001000000001LQ0AAM</td>\n",
       "      <td>OutSource Management, Inc.</td>\n",
       "    </tr>\n",
       "    <tr>\n",
       "      <th>3</th>\n",
       "      <td>00100000000r6moAAA</td>\n",
       "      <td>Legacy TWC ResiDirect Sales</td>\n",
       "    </tr>\n",
       "    <tr>\n",
       "      <th>4</th>\n",
       "      <td>00100000001cptWAAQ</td>\n",
       "      <td>Hitachi Vantara</td>\n",
       "    </tr>\n",
       "  </tbody>\n",
       "</table>\n",
       "</div>"
      ],
      "text/plain": [
       "                   Id                         Name\n",
       "0  0010000000000ABAAY    Butler Home Products, LLC\n",
       "1  0010000000000X1AAI                       Slalom\n",
       "2  001000000001LQ0AAM   OutSource Management, Inc.\n",
       "3  00100000000r6moAAA  Legacy TWC ResiDirect Sales\n",
       "4  00100000001cptWAAQ              Hitachi Vantara"
      ]
     },
     "execution_count": 7,
     "metadata": {},
     "output_type": "execute_result"
    }
   ],
   "source": [
    "del AccUUID['_']\n",
    "AccUUID.head(5)"
   ]
  },
  {
   "cell_type": "code",
   "execution_count": 8,
   "metadata": {},
   "outputs": [
    {
     "data": {
      "text/html": [
       "<div>\n",
       "<style scoped>\n",
       "    .dataframe tbody tr th:only-of-type {\n",
       "        vertical-align: middle;\n",
       "    }\n",
       "\n",
       "    .dataframe tbody tr th {\n",
       "        vertical-align: top;\n",
       "    }\n",
       "\n",
       "    .dataframe thead th {\n",
       "        text-align: right;\n",
       "    }\n",
       "</style>\n",
       "<table border=\"1\" class=\"dataframe\">\n",
       "  <thead>\n",
       "    <tr style=\"text-align: right;\">\n",
       "      <th></th>\n",
       "      <th>Id</th>\n",
       "      <th>Name</th>\n",
       "    </tr>\n",
       "  </thead>\n",
       "  <tbody>\n",
       "    <tr>\n",
       "      <th>count</th>\n",
       "      <td>200100</td>\n",
       "      <td>200077</td>\n",
       "    </tr>\n",
       "    <tr>\n",
       "      <th>unique</th>\n",
       "      <td>200100</td>\n",
       "      <td>192738</td>\n",
       "    </tr>\n",
       "    <tr>\n",
       "      <th>top</th>\n",
       "      <td>0013000001JzBDaAAN</td>\n",
       "      <td>Google LLC</td>\n",
       "    </tr>\n",
       "    <tr>\n",
       "      <th>freq</th>\n",
       "      <td>1</td>\n",
       "      <td>118</td>\n",
       "    </tr>\n",
       "  </tbody>\n",
       "</table>\n",
       "</div>"
      ],
      "text/plain": [
       "                        Id        Name\n",
       "count               200100      200077\n",
       "unique              200100      192738\n",
       "top     0013000001JzBDaAAN  Google LLC\n",
       "freq                     1         118"
      ]
     },
     "execution_count": 8,
     "metadata": {},
     "output_type": "execute_result"
    }
   ],
   "source": [
    "AccUUID.describe()"
   ]
  },
  {
   "cell_type": "code",
   "execution_count": 9,
   "metadata": {},
   "outputs": [],
   "source": [
    "import uuid"
   ]
  },
  {
   "cell_type": "code",
   "execution_count": 10,
   "metadata": {},
   "outputs": [
    {
     "data": {
      "text/html": [
       "<div>\n",
       "<style scoped>\n",
       "    .dataframe tbody tr th:only-of-type {\n",
       "        vertical-align: middle;\n",
       "    }\n",
       "\n",
       "    .dataframe tbody tr th {\n",
       "        vertical-align: top;\n",
       "    }\n",
       "\n",
       "    .dataframe thead th {\n",
       "        text-align: right;\n",
       "    }\n",
       "</style>\n",
       "<table border=\"1\" class=\"dataframe\">\n",
       "  <thead>\n",
       "    <tr style=\"text-align: right;\">\n",
       "      <th></th>\n",
       "      <th>Id</th>\n",
       "      <th>Name</th>\n",
       "      <th>uuid</th>\n",
       "    </tr>\n",
       "  </thead>\n",
       "  <tbody>\n",
       "    <tr>\n",
       "      <th>0</th>\n",
       "      <td>0010000000000ABAAY</td>\n",
       "      <td>Butler Home Products, LLC</td>\n",
       "      <td>b3f57495-67b9-4bb1-89b5-013f58be041b</td>\n",
       "    </tr>\n",
       "    <tr>\n",
       "      <th>1</th>\n",
       "      <td>0010000000000X1AAI</td>\n",
       "      <td>Slalom</td>\n",
       "      <td>850699e0-956f-42d1-97e0-f49aa41a05a6</td>\n",
       "    </tr>\n",
       "    <tr>\n",
       "      <th>2</th>\n",
       "      <td>001000000001LQ0AAM</td>\n",
       "      <td>OutSource Management, Inc.</td>\n",
       "      <td>95b17569-502a-491d-a2ff-85b66d206df4</td>\n",
       "    </tr>\n",
       "    <tr>\n",
       "      <th>3</th>\n",
       "      <td>00100000000r6moAAA</td>\n",
       "      <td>Legacy TWC ResiDirect Sales</td>\n",
       "      <td>93d798a3-9bb1-46b1-a9b9-a93c1e53f706</td>\n",
       "    </tr>\n",
       "    <tr>\n",
       "      <th>4</th>\n",
       "      <td>00100000001cptWAAQ</td>\n",
       "      <td>Hitachi Vantara</td>\n",
       "      <td>25a27bb6-9aa2-4871-837b-34f83383760f</td>\n",
       "    </tr>\n",
       "  </tbody>\n",
       "</table>\n",
       "</div>"
      ],
      "text/plain": [
       "                   Id                         Name  \\\n",
       "0  0010000000000ABAAY    Butler Home Products, LLC   \n",
       "1  0010000000000X1AAI                       Slalom   \n",
       "2  001000000001LQ0AAM   OutSource Management, Inc.   \n",
       "3  00100000000r6moAAA  Legacy TWC ResiDirect Sales   \n",
       "4  00100000001cptWAAQ              Hitachi Vantara   \n",
       "\n",
       "                                   uuid  \n",
       "0  b3f57495-67b9-4bb1-89b5-013f58be041b  \n",
       "1  850699e0-956f-42d1-97e0-f49aa41a05a6  \n",
       "2  95b17569-502a-491d-a2ff-85b66d206df4  \n",
       "3  93d798a3-9bb1-46b1-a9b9-a93c1e53f706  \n",
       "4  25a27bb6-9aa2-4871-837b-34f83383760f  "
      ]
     },
     "execution_count": 10,
     "metadata": {},
     "output_type": "execute_result"
    }
   ],
   "source": [
    "AccUUID['uuid'] = [uuid.uuid4() for x in range(len(AccUUID))] \n",
    "AccUUID.head(5)\n"
   ]
  },
  {
   "cell_type": "code",
   "execution_count": 11,
   "metadata": {},
   "outputs": [
    {
     "data": {
      "text/plain": [
       "Index(['_', 'Id', 'Name', 'Customer_Status__c', 'AOV_Band__c',\n",
       "       'Org_Status_DW__c', 'Open_Red_Account_Issues__c'],\n",
       "      dtype='object')"
      ]
     },
     "execution_count": 11,
     "metadata": {},
     "output_type": "execute_result"
    }
   ],
   "source": [
    "testAcc = pd.read_csv('/Users/jdear/test-account.csv')\n",
    "testAcc.columns"
   ]
  },
  {
   "cell_type": "code",
   "execution_count": 12,
   "metadata": {},
   "outputs": [
    {
     "data": {
      "text/html": [
       "<div>\n",
       "<style scoped>\n",
       "    .dataframe tbody tr th:only-of-type {\n",
       "        vertical-align: middle;\n",
       "    }\n",
       "\n",
       "    .dataframe tbody tr th {\n",
       "        vertical-align: top;\n",
       "    }\n",
       "\n",
       "    .dataframe thead th {\n",
       "        text-align: right;\n",
       "    }\n",
       "</style>\n",
       "<table border=\"1\" class=\"dataframe\">\n",
       "  <thead>\n",
       "    <tr style=\"text-align: right;\">\n",
       "      <th></th>\n",
       "      <th>Id</th>\n",
       "      <th>Name_x</th>\n",
       "      <th>uuid</th>\n",
       "      <th>_</th>\n",
       "      <th>Name_y</th>\n",
       "      <th>Customer_Status__c</th>\n",
       "      <th>AOV_Band__c</th>\n",
       "      <th>Org_Status_DW__c</th>\n",
       "      <th>Open_Red_Account_Issues__c</th>\n",
       "    </tr>\n",
       "  </thead>\n",
       "  <tbody>\n",
       "    <tr>\n",
       "      <th>0</th>\n",
       "      <td>0010000000000ABAAY</td>\n",
       "      <td>Butler Home Products, LLC</td>\n",
       "      <td>b3f57495-67b9-4bb1-89b5-013f58be041b</td>\n",
       "      <td>[Account]</td>\n",
       "      <td>Butler Home Products, LLC</td>\n",
       "      <td>Customer</td>\n",
       "      <td>$1-10k</td>\n",
       "      <td>ACTIVE</td>\n",
       "      <td>0.0</td>\n",
       "    </tr>\n",
       "    <tr>\n",
       "      <th>1</th>\n",
       "      <td>0010000000000X1AAI</td>\n",
       "      <td>Slalom</td>\n",
       "      <td>850699e0-956f-42d1-97e0-f49aa41a05a6</td>\n",
       "      <td>[Account]</td>\n",
       "      <td>Slalom</td>\n",
       "      <td>Customer</td>\n",
       "      <td>$1M-5M</td>\n",
       "      <td>ACTIVE</td>\n",
       "      <td>1.0</td>\n",
       "    </tr>\n",
       "    <tr>\n",
       "      <th>2</th>\n",
       "      <td>001000000001LQ0AAM</td>\n",
       "      <td>OutSource Management, Inc.</td>\n",
       "      <td>95b17569-502a-491d-a2ff-85b66d206df4</td>\n",
       "      <td>[Account]</td>\n",
       "      <td>OutSource Management, Inc.</td>\n",
       "      <td>Customer</td>\n",
       "      <td>$1-10k</td>\n",
       "      <td>ACTIVE</td>\n",
       "      <td>0.0</td>\n",
       "    </tr>\n",
       "    <tr>\n",
       "      <th>3</th>\n",
       "      <td>00100000000r6moAAA</td>\n",
       "      <td>Legacy TWC ResiDirect Sales</td>\n",
       "      <td>93d798a3-9bb1-46b1-a9b9-a93c1e53f706</td>\n",
       "      <td>NaN</td>\n",
       "      <td>NaN</td>\n",
       "      <td>NaN</td>\n",
       "      <td>NaN</td>\n",
       "      <td>NaN</td>\n",
       "      <td>NaN</td>\n",
       "    </tr>\n",
       "    <tr>\n",
       "      <th>4</th>\n",
       "      <td>00100000001cptWAAQ</td>\n",
       "      <td>Hitachi Vantara</td>\n",
       "      <td>25a27bb6-9aa2-4871-837b-34f83383760f</td>\n",
       "      <td>NaN</td>\n",
       "      <td>NaN</td>\n",
       "      <td>NaN</td>\n",
       "      <td>NaN</td>\n",
       "      <td>NaN</td>\n",
       "      <td>NaN</td>\n",
       "    </tr>\n",
       "  </tbody>\n",
       "</table>\n",
       "</div>"
      ],
      "text/plain": [
       "                   Id                       Name_x  \\\n",
       "0  0010000000000ABAAY    Butler Home Products, LLC   \n",
       "1  0010000000000X1AAI                       Slalom   \n",
       "2  001000000001LQ0AAM   OutSource Management, Inc.   \n",
       "3  00100000000r6moAAA  Legacy TWC ResiDirect Sales   \n",
       "4  00100000001cptWAAQ              Hitachi Vantara   \n",
       "\n",
       "                                   uuid          _  \\\n",
       "0  b3f57495-67b9-4bb1-89b5-013f58be041b  [Account]   \n",
       "1  850699e0-956f-42d1-97e0-f49aa41a05a6  [Account]   \n",
       "2  95b17569-502a-491d-a2ff-85b66d206df4  [Account]   \n",
       "3  93d798a3-9bb1-46b1-a9b9-a93c1e53f706        NaN   \n",
       "4  25a27bb6-9aa2-4871-837b-34f83383760f        NaN   \n",
       "\n",
       "                       Name_y Customer_Status__c AOV_Band__c Org_Status_DW__c  \\\n",
       "0   Butler Home Products, LLC           Customer      $1-10k           ACTIVE   \n",
       "1                      Slalom           Customer      $1M-5M           ACTIVE   \n",
       "2  OutSource Management, Inc.           Customer      $1-10k           ACTIVE   \n",
       "3                         NaN                NaN         NaN              NaN   \n",
       "4                         NaN                NaN         NaN              NaN   \n",
       "\n",
       "   Open_Red_Account_Issues__c  \n",
       "0                         0.0  \n",
       "1                         1.0  \n",
       "2                         0.0  \n",
       "3                         NaN  \n",
       "4                         NaN  "
      ]
     },
     "execution_count": 12,
     "metadata": {},
     "output_type": "execute_result"
    }
   ],
   "source": [
    "df = pd.merge(AccUUID, testAcc, on='Id', how='left')\n",
    "df.head()"
   ]
  },
  {
   "cell_type": "code",
   "execution_count": 13,
   "metadata": {},
   "outputs": [],
   "source": [
    "AccUUID.to_csv('UUIDmapping.csv')"
   ]
  },
  {
   "cell_type": "code",
   "execution_count": null,
   "metadata": {},
   "outputs": [],
   "source": []
  },
  {
   "cell_type": "code",
   "execution_count": null,
   "metadata": {},
   "outputs": [],
   "source": []
  }
 ],
 "metadata": {
  "kernelspec": {
   "display_name": "Python 3",
   "language": "python",
   "name": "python3"
  },
  "language_info": {
   "codemirror_mode": {
    "name": "ipython",
    "version": 3
   },
   "file_extension": ".py",
   "mimetype": "text/x-python",
   "name": "python",
   "nbconvert_exporter": "python",
   "pygments_lexer": "ipython3",
   "version": "3.7.3"
  }
 },
 "nbformat": 4,
 "nbformat_minor": 2
}
