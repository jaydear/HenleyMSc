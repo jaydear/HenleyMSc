{
 "cells": [
  {
   "cell_type": "code",
   "execution_count": 1,
   "metadata": {},
   "outputs": [],
   "source": [
    "import numpy as np\n",
    "import pandas as pd\n",
    "import matplotlib.pyplot as plt\n",
    "from scipy import stats\n",
    "from sklearn.cluster import KMeans\n",
    "from sklearn.preprocessing import Imputer, StandardScaler\n",
    "from io import StringIO\n"
   ]
  },
  {
   "cell_type": "code",
   "execution_count": 2,
   "metadata": {},
   "outputs": [],
   "source": [
    "import seaborn as sns"
   ]
  },
  {
   "cell_type": "code",
   "execution_count": 3,
   "metadata": {},
   "outputs": [
    {
     "name": "stdout",
     "output_type": "stream",
     "text": [
      "/Users/jdear/HBSDissertation\n"
     ]
    }
   ],
   "source": [
    "import os\n",
    "path = os.getcwd()\n",
    "print(path)"
   ]
  },
  {
   "cell_type": "code",
   "execution_count": 4,
   "metadata": {},
   "outputs": [
    {
     "name": "stdout",
     "output_type": "stream",
     "text": [
      "/Users/jdear/HBSDissertation\n"
     ]
    }
   ],
   "source": [
    "os.chdir('/Users/jdear/HBSDissertation')\n",
    "path = os.getcwd()\n",
    "print(path)"
   ]
  },
  {
   "cell_type": "code",
   "execution_count": 5,
   "metadata": {},
   "outputs": [
    {
     "data": {
      "text/plain": [
       "Index(['Unnamed: 0', 'Account__r.CSG_Coverage__c', 'Account__r.AOV_Band__c',\n",
       "       'Account__r.CSM_lookup__r', 'Core_SFA_EWS_360_Score__c',\n",
       "       'Lightning_Adoption_Stage__c', 'Core_Service_EWS_360_Score__c',\n",
       "       'Weighted_EWS_Score__c', 'Platform_Adoption__c',\n",
       "       'Lightning_Adoption__c', 'Current_Adoption_Growth__c',\n",
       "       'TLP_TTM30Days_SalesService__c', 'FY_TLP_Baseline_SalesService__c',\n",
       "       'TLP_30Days_SalesService__c', 'EWS_360_Scores_Snap_Date__c', 'uuid',\n",
       "       'ADR', 'Accelerator', 'Admin Assist', 'Community',\n",
       "       'Customer Success Request', 'Digital Campaigns', 'Einstein Assessor',\n",
       "       'Email', 'Executive/Critical Incidents', 'High Touch',\n",
       "       'In Person Training', 'In-App', 'JavaScript Buttons Check',\n",
       "       'Live and Virtual Events', 'MANUAL_PROD', 'Optimizer',\n",
       "       'Readiness Check', 'Renewal Touch', 'SCHEDULED_PROD', 'Success Apps',\n",
       "       'Success Assessment', 'Success Play', 'Support Case', 'Trail',\n",
       "       'User Group', 'Video', 'Visualforce Check', 'Web', 'Webinar',\n",
       "       'Total Sprogs', 'High Count', 'Low Count', 'Tech Count'],\n",
       "      dtype='object')"
      ]
     },
     "execution_count": 5,
     "metadata": {},
     "output_type": "execute_result"
    }
   ],
   "source": [
    "AcctSuccessProgMerged = pd.read_csv('/Users/jdear/HBSDissertation/AcctSuccessProgMerged.csv')\n",
    "AcctSuccessProgMerged.columns"
   ]
  },
  {
   "cell_type": "code",
   "execution_count": 6,
   "metadata": {},
   "outputs": [],
   "source": [
    "# tidyup\n",
    "del AcctSuccessProgMerged['Unnamed: 0']"
   ]
  },
  {
   "cell_type": "code",
   "execution_count": 7,
   "metadata": {},
   "outputs": [
    {
     "data": {
      "text/html": [
       "<div>\n",
       "<style scoped>\n",
       "    .dataframe tbody tr th:only-of-type {\n",
       "        vertical-align: middle;\n",
       "    }\n",
       "\n",
       "    .dataframe tbody tr th {\n",
       "        vertical-align: top;\n",
       "    }\n",
       "\n",
       "    .dataframe thead th {\n",
       "        text-align: right;\n",
       "    }\n",
       "</style>\n",
       "<table border=\"1\" class=\"dataframe\">\n",
       "  <thead>\n",
       "    <tr style=\"text-align: right;\">\n",
       "      <th></th>\n",
       "      <th>Account__r.CSG_Coverage__c</th>\n",
       "      <th>Account__r.AOV_Band__c</th>\n",
       "      <th>Account__r.CSM_lookup__r</th>\n",
       "      <th>Core_SFA_EWS_360_Score__c</th>\n",
       "      <th>Lightning_Adoption_Stage__c</th>\n",
       "      <th>Core_Service_EWS_360_Score__c</th>\n",
       "      <th>Weighted_EWS_Score__c</th>\n",
       "      <th>Platform_Adoption__c</th>\n",
       "      <th>Lightning_Adoption__c</th>\n",
       "      <th>Current_Adoption_Growth__c</th>\n",
       "      <th>...</th>\n",
       "      <th>Trail</th>\n",
       "      <th>User Group</th>\n",
       "      <th>Video</th>\n",
       "      <th>Visualforce Check</th>\n",
       "      <th>Web</th>\n",
       "      <th>Webinar</th>\n",
       "      <th>Total Sprogs</th>\n",
       "      <th>High Count</th>\n",
       "      <th>Low Count</th>\n",
       "      <th>Tech Count</th>\n",
       "    </tr>\n",
       "  </thead>\n",
       "  <tbody>\n",
       "    <tr>\n",
       "      <th>0</th>\n",
       "      <td>Focus</td>\n",
       "      <td>$0</td>\n",
       "      <td>NaN</td>\n",
       "      <td>14.0</td>\n",
       "      <td>0. None / Unknown</td>\n",
       "      <td>NaN</td>\n",
       "      <td>6120.0</td>\n",
       "      <td>0.00</td>\n",
       "      <td>No Lightning Usage</td>\n",
       "      <td>-36.48</td>\n",
       "      <td>...</td>\n",
       "      <td>NaN</td>\n",
       "      <td>NaN</td>\n",
       "      <td>NaN</td>\n",
       "      <td>NaN</td>\n",
       "      <td>NaN</td>\n",
       "      <td>NaN</td>\n",
       "      <td>NaN</td>\n",
       "      <td>NaN</td>\n",
       "      <td>NaN</td>\n",
       "      <td>NaN</td>\n",
       "    </tr>\n",
       "    <tr>\n",
       "      <th>1</th>\n",
       "      <td>Focus</td>\n",
       "      <td>$1M-5M</td>\n",
       "      <td>[User]</td>\n",
       "      <td>91.0</td>\n",
       "      <td>4. Activation</td>\n",
       "      <td>81.0</td>\n",
       "      <td>8132.0</td>\n",
       "      <td>0.57</td>\n",
       "      <td>Lightning Enabled</td>\n",
       "      <td>-6.03</td>\n",
       "      <td>...</td>\n",
       "      <td>NaN</td>\n",
       "      <td>NaN</td>\n",
       "      <td>NaN</td>\n",
       "      <td>NaN</td>\n",
       "      <td>NaN</td>\n",
       "      <td>NaN</td>\n",
       "      <td>NaN</td>\n",
       "      <td>NaN</td>\n",
       "      <td>NaN</td>\n",
       "      <td>NaN</td>\n",
       "    </tr>\n",
       "    <tr>\n",
       "      <th>2</th>\n",
       "      <td>Focus</td>\n",
       "      <td>$0</td>\n",
       "      <td>NaN</td>\n",
       "      <td>56.0</td>\n",
       "      <td>4. Activation</td>\n",
       "      <td>NaN</td>\n",
       "      <td>864.0</td>\n",
       "      <td>0.79</td>\n",
       "      <td>Lightning Enabled</td>\n",
       "      <td>-5.02</td>\n",
       "      <td>...</td>\n",
       "      <td>NaN</td>\n",
       "      <td>NaN</td>\n",
       "      <td>NaN</td>\n",
       "      <td>NaN</td>\n",
       "      <td>NaN</td>\n",
       "      <td>NaN</td>\n",
       "      <td>NaN</td>\n",
       "      <td>NaN</td>\n",
       "      <td>NaN</td>\n",
       "      <td>NaN</td>\n",
       "    </tr>\n",
       "    <tr>\n",
       "      <th>3</th>\n",
       "      <td>Top</td>\n",
       "      <td>$10k-50k</td>\n",
       "      <td>NaN</td>\n",
       "      <td>28.0</td>\n",
       "      <td>4. Activation</td>\n",
       "      <td>47.0</td>\n",
       "      <td>1406.0</td>\n",
       "      <td>0.09</td>\n",
       "      <td>Lightning Enabled</td>\n",
       "      <td>1.66</td>\n",
       "      <td>...</td>\n",
       "      <td>NaN</td>\n",
       "      <td>NaN</td>\n",
       "      <td>NaN</td>\n",
       "      <td>NaN</td>\n",
       "      <td>NaN</td>\n",
       "      <td>NaN</td>\n",
       "      <td>3.0</td>\n",
       "      <td>0.0</td>\n",
       "      <td>0.0</td>\n",
       "      <td>3.0</td>\n",
       "    </tr>\n",
       "    <tr>\n",
       "      <th>4</th>\n",
       "      <td>Focus</td>\n",
       "      <td>$0</td>\n",
       "      <td>NaN</td>\n",
       "      <td>63.0</td>\n",
       "      <td>1. Awareness</td>\n",
       "      <td>NaN</td>\n",
       "      <td>576.0</td>\n",
       "      <td>0.79</td>\n",
       "      <td>No Lightning Usage</td>\n",
       "      <td>-4.88</td>\n",
       "      <td>...</td>\n",
       "      <td>NaN</td>\n",
       "      <td>NaN</td>\n",
       "      <td>NaN</td>\n",
       "      <td>NaN</td>\n",
       "      <td>NaN</td>\n",
       "      <td>NaN</td>\n",
       "      <td>NaN</td>\n",
       "      <td>NaN</td>\n",
       "      <td>NaN</td>\n",
       "      <td>NaN</td>\n",
       "    </tr>\n",
       "  </tbody>\n",
       "</table>\n",
       "<p>5 rows × 48 columns</p>\n",
       "</div>"
      ],
      "text/plain": [
       "  Account__r.CSG_Coverage__c Account__r.AOV_Band__c Account__r.CSM_lookup__r  \\\n",
       "0                      Focus                     $0                      NaN   \n",
       "1                      Focus                 $1M-5M                   [User]   \n",
       "2                      Focus                     $0                      NaN   \n",
       "3                        Top               $10k-50k                      NaN   \n",
       "4                      Focus                     $0                      NaN   \n",
       "\n",
       "   Core_SFA_EWS_360_Score__c Lightning_Adoption_Stage__c  \\\n",
       "0                       14.0           0. None / Unknown   \n",
       "1                       91.0               4. Activation   \n",
       "2                       56.0               4. Activation   \n",
       "3                       28.0               4. Activation   \n",
       "4                       63.0                1. Awareness   \n",
       "\n",
       "   Core_Service_EWS_360_Score__c  Weighted_EWS_Score__c  Platform_Adoption__c  \\\n",
       "0                            NaN                 6120.0                  0.00   \n",
       "1                           81.0                 8132.0                  0.57   \n",
       "2                            NaN                  864.0                  0.79   \n",
       "3                           47.0                 1406.0                  0.09   \n",
       "4                            NaN                  576.0                  0.79   \n",
       "\n",
       "  Lightning_Adoption__c  Current_Adoption_Growth__c  ...  Trail  User Group  \\\n",
       "0    No Lightning Usage                      -36.48  ...    NaN         NaN   \n",
       "1     Lightning Enabled                       -6.03  ...    NaN         NaN   \n",
       "2     Lightning Enabled                       -5.02  ...    NaN         NaN   \n",
       "3     Lightning Enabled                        1.66  ...    NaN         NaN   \n",
       "4    No Lightning Usage                       -4.88  ...    NaN         NaN   \n",
       "\n",
       "   Video Visualforce Check Web  Webinar  Total Sprogs  High Count  Low Count  \\\n",
       "0    NaN               NaN NaN      NaN           NaN         NaN        NaN   \n",
       "1    NaN               NaN NaN      NaN           NaN         NaN        NaN   \n",
       "2    NaN               NaN NaN      NaN           NaN         NaN        NaN   \n",
       "3    NaN               NaN NaN      NaN           3.0         0.0        0.0   \n",
       "4    NaN               NaN NaN      NaN           NaN         NaN        NaN   \n",
       "\n",
       "   Tech Count  \n",
       "0         NaN  \n",
       "1         NaN  \n",
       "2         NaN  \n",
       "3         3.0  \n",
       "4         NaN  \n",
       "\n",
       "[5 rows x 48 columns]"
      ]
     },
     "execution_count": 7,
     "metadata": {},
     "output_type": "execute_result"
    }
   ],
   "source": [
    "AcctSuccessProgMerged.head(5)"
   ]
  },
  {
   "cell_type": "code",
   "execution_count": 8,
   "metadata": {},
   "outputs": [
    {
     "data": {
      "text/plain": [
       "18787"
      ]
     },
     "execution_count": 8,
     "metadata": {},
     "output_type": "execute_result"
    }
   ],
   "source": [
    "len(AcctSuccessProgMerged.index)"
   ]
  },
  {
   "cell_type": "code",
   "execution_count": 9,
   "metadata": {},
   "outputs": [
    {
     "data": {
      "text/html": [
       "<div>\n",
       "<style scoped>\n",
       "    .dataframe tbody tr th:only-of-type {\n",
       "        vertical-align: middle;\n",
       "    }\n",
       "\n",
       "    .dataframe tbody tr th {\n",
       "        vertical-align: top;\n",
       "    }\n",
       "\n",
       "    .dataframe thead th {\n",
       "        text-align: right;\n",
       "    }\n",
       "</style>\n",
       "<table border=\"1\" class=\"dataframe\">\n",
       "  <thead>\n",
       "    <tr style=\"text-align: right;\">\n",
       "      <th></th>\n",
       "      <th>Core_SFA_EWS_360_Score__c</th>\n",
       "      <th>Core_Service_EWS_360_Score__c</th>\n",
       "      <th>Weighted_EWS_Score__c</th>\n",
       "      <th>Platform_Adoption__c</th>\n",
       "      <th>Current_Adoption_Growth__c</th>\n",
       "      <th>TLP_TTM30Days_SalesService__c</th>\n",
       "      <th>FY_TLP_Baseline_SalesService__c</th>\n",
       "      <th>TLP_30Days_SalesService__c</th>\n",
       "      <th>ADR</th>\n",
       "      <th>Accelerator</th>\n",
       "      <th>...</th>\n",
       "      <th>Trail</th>\n",
       "      <th>User Group</th>\n",
       "      <th>Video</th>\n",
       "      <th>Visualforce Check</th>\n",
       "      <th>Web</th>\n",
       "      <th>Webinar</th>\n",
       "      <th>Total Sprogs</th>\n",
       "      <th>High Count</th>\n",
       "      <th>Low Count</th>\n",
       "      <th>Tech Count</th>\n",
       "    </tr>\n",
       "  </thead>\n",
       "  <tbody>\n",
       "    <tr>\n",
       "      <th>count</th>\n",
       "      <td>10201.000000</td>\n",
       "      <td>10017.000000</td>\n",
       "      <td>1.878700e+04</td>\n",
       "      <td>18414.000000</td>\n",
       "      <td>1.280600e+04</td>\n",
       "      <td>12813.000000</td>\n",
       "      <td>12804.000000</td>\n",
       "      <td>18620.000000</td>\n",
       "      <td>825.000000</td>\n",
       "      <td>1.0</td>\n",
       "      <td>...</td>\n",
       "      <td>6610.000000</td>\n",
       "      <td>94.000000</td>\n",
       "      <td>2371.000000</td>\n",
       "      <td>106.000000</td>\n",
       "      <td>333.000000</td>\n",
       "      <td>2476.000000</td>\n",
       "      <td>12884.000000</td>\n",
       "      <td>12884.000000</td>\n",
       "      <td>12884.000000</td>\n",
       "      <td>12884.000000</td>\n",
       "    </tr>\n",
       "    <tr>\n",
       "      <th>mean</th>\n",
       "      <td>51.131850</td>\n",
       "      <td>59.640811</td>\n",
       "      <td>8.095054e+04</td>\n",
       "      <td>0.469755</td>\n",
       "      <td>2.529421e+02</td>\n",
       "      <td>72.652991</td>\n",
       "      <td>74.751418</td>\n",
       "      <td>66.268257</td>\n",
       "      <td>2.435152</td>\n",
       "      <td>1.0</td>\n",
       "      <td>...</td>\n",
       "      <td>102.840242</td>\n",
       "      <td>3.138298</td>\n",
       "      <td>8.942640</td>\n",
       "      <td>1.452830</td>\n",
       "      <td>1.636637</td>\n",
       "      <td>4.231018</td>\n",
       "      <td>111.312093</td>\n",
       "      <td>1.133809</td>\n",
       "      <td>6.095545</td>\n",
       "      <td>104.028485</td>\n",
       "    </tr>\n",
       "    <tr>\n",
       "      <th>std</th>\n",
       "      <td>23.114476</td>\n",
       "      <td>19.774431</td>\n",
       "      <td>7.646452e+05</td>\n",
       "      <td>0.328612</td>\n",
       "      <td>1.010309e+04</td>\n",
       "      <td>24.452004</td>\n",
       "      <td>24.612624</td>\n",
       "      <td>31.102138</td>\n",
       "      <td>2.213370</td>\n",
       "      <td>NaN</td>\n",
       "      <td>...</td>\n",
       "      <td>4191.917304</td>\n",
       "      <td>4.533273</td>\n",
       "      <td>23.402083</td>\n",
       "      <td>0.927178</td>\n",
       "      <td>1.322913</td>\n",
       "      <td>9.881640</td>\n",
       "      <td>3055.103690</td>\n",
       "      <td>23.616712</td>\n",
       "      <td>32.524959</td>\n",
       "      <td>3052.977395</td>\n",
       "    </tr>\n",
       "    <tr>\n",
       "      <th>min</th>\n",
       "      <td>1.000000</td>\n",
       "      <td>9.000000</td>\n",
       "      <td>0.000000e+00</td>\n",
       "      <td>0.000000</td>\n",
       "      <td>-9.809000e+01</td>\n",
       "      <td>0.000000</td>\n",
       "      <td>0.000000</td>\n",
       "      <td>0.000000</td>\n",
       "      <td>1.000000</td>\n",
       "      <td>1.0</td>\n",
       "      <td>...</td>\n",
       "      <td>1.000000</td>\n",
       "      <td>1.000000</td>\n",
       "      <td>1.000000</td>\n",
       "      <td>1.000000</td>\n",
       "      <td>1.000000</td>\n",
       "      <td>1.000000</td>\n",
       "      <td>1.000000</td>\n",
       "      <td>0.000000</td>\n",
       "      <td>0.000000</td>\n",
       "      <td>0.000000</td>\n",
       "    </tr>\n",
       "    <tr>\n",
       "      <th>25%</th>\n",
       "      <td>32.000000</td>\n",
       "      <td>49.000000</td>\n",
       "      <td>1.600000e+02</td>\n",
       "      <td>0.170000</td>\n",
       "      <td>-6.487500e+00</td>\n",
       "      <td>60.540563</td>\n",
       "      <td>62.630167</td>\n",
       "      <td>50.000000</td>\n",
       "      <td>1.000000</td>\n",
       "      <td>1.0</td>\n",
       "      <td>...</td>\n",
       "      <td>2.000000</td>\n",
       "      <td>1.000000</td>\n",
       "      <td>2.000000</td>\n",
       "      <td>1.000000</td>\n",
       "      <td>1.000000</td>\n",
       "      <td>1.000000</td>\n",
       "      <td>3.000000</td>\n",
       "      <td>0.000000</td>\n",
       "      <td>1.000000</td>\n",
       "      <td>1.000000</td>\n",
       "    </tr>\n",
       "    <tr>\n",
       "      <th>50%</th>\n",
       "      <td>54.000000</td>\n",
       "      <td>61.000000</td>\n",
       "      <td>2.070000e+03</td>\n",
       "      <td>0.430000</td>\n",
       "      <td>0.000000e+00</td>\n",
       "      <td>79.156338</td>\n",
       "      <td>81.277978</td>\n",
       "      <td>75.000000</td>\n",
       "      <td>2.000000</td>\n",
       "      <td>1.0</td>\n",
       "      <td>...</td>\n",
       "      <td>7.000000</td>\n",
       "      <td>2.000000</td>\n",
       "      <td>4.000000</td>\n",
       "      <td>1.000000</td>\n",
       "      <td>1.000000</td>\n",
       "      <td>2.000000</td>\n",
       "      <td>11.000000</td>\n",
       "      <td>0.000000</td>\n",
       "      <td>2.000000</td>\n",
       "      <td>7.000000</td>\n",
       "    </tr>\n",
       "    <tr>\n",
       "      <th>75%</th>\n",
       "      <td>67.000000</td>\n",
       "      <td>77.000000</td>\n",
       "      <td>1.644400e+04</td>\n",
       "      <td>0.790000</td>\n",
       "      <td>5.177500e+00</td>\n",
       "      <td>91.515152</td>\n",
       "      <td>94.211779</td>\n",
       "      <td>91.192500</td>\n",
       "      <td>3.000000</td>\n",
       "      <td>1.0</td>\n",
       "      <td>...</td>\n",
       "      <td>20.000000</td>\n",
       "      <td>3.000000</td>\n",
       "      <td>8.000000</td>\n",
       "      <td>1.750000</td>\n",
       "      <td>2.000000</td>\n",
       "      <td>4.000000</td>\n",
       "      <td>37.000000</td>\n",
       "      <td>0.000000</td>\n",
       "      <td>5.000000</td>\n",
       "      <td>30.000000</td>\n",
       "    </tr>\n",
       "    <tr>\n",
       "      <th>max</th>\n",
       "      <td>97.000000</td>\n",
       "      <td>97.000000</td>\n",
       "      <td>3.892596e+07</td>\n",
       "      <td>1.000000</td>\n",
       "      <td>1.009503e+06</td>\n",
       "      <td>100.000000</td>\n",
       "      <td>100.000000</td>\n",
       "      <td>100.000000</td>\n",
       "      <td>37.000000</td>\n",
       "      <td>1.0</td>\n",
       "      <td>...</td>\n",
       "      <td>335136.000000</td>\n",
       "      <td>41.000000</td>\n",
       "      <td>808.000000</td>\n",
       "      <td>6.000000</td>\n",
       "      <td>12.000000</td>\n",
       "      <td>327.000000</td>\n",
       "      <td>335234.000000</td>\n",
       "      <td>2595.000000</td>\n",
       "      <td>2949.000000</td>\n",
       "      <td>335184.000000</td>\n",
       "    </tr>\n",
       "  </tbody>\n",
       "</table>\n",
       "<p>8 rows × 41 columns</p>\n",
       "</div>"
      ],
      "text/plain": [
       "       Core_SFA_EWS_360_Score__c  Core_Service_EWS_360_Score__c  \\\n",
       "count               10201.000000                   10017.000000   \n",
       "mean                   51.131850                      59.640811   \n",
       "std                    23.114476                      19.774431   \n",
       "min                     1.000000                       9.000000   \n",
       "25%                    32.000000                      49.000000   \n",
       "50%                    54.000000                      61.000000   \n",
       "75%                    67.000000                      77.000000   \n",
       "max                    97.000000                      97.000000   \n",
       "\n",
       "       Weighted_EWS_Score__c  Platform_Adoption__c  \\\n",
       "count           1.878700e+04          18414.000000   \n",
       "mean            8.095054e+04              0.469755   \n",
       "std             7.646452e+05              0.328612   \n",
       "min             0.000000e+00              0.000000   \n",
       "25%             1.600000e+02              0.170000   \n",
       "50%             2.070000e+03              0.430000   \n",
       "75%             1.644400e+04              0.790000   \n",
       "max             3.892596e+07              1.000000   \n",
       "\n",
       "       Current_Adoption_Growth__c  TLP_TTM30Days_SalesService__c  \\\n",
       "count                1.280600e+04                   12813.000000   \n",
       "mean                 2.529421e+02                      72.652991   \n",
       "std                  1.010309e+04                      24.452004   \n",
       "min                 -9.809000e+01                       0.000000   \n",
       "25%                 -6.487500e+00                      60.540563   \n",
       "50%                  0.000000e+00                      79.156338   \n",
       "75%                  5.177500e+00                      91.515152   \n",
       "max                  1.009503e+06                     100.000000   \n",
       "\n",
       "       FY_TLP_Baseline_SalesService__c  TLP_30Days_SalesService__c  \\\n",
       "count                     12804.000000                18620.000000   \n",
       "mean                         74.751418                   66.268257   \n",
       "std                          24.612624                   31.102138   \n",
       "min                           0.000000                    0.000000   \n",
       "25%                          62.630167                   50.000000   \n",
       "50%                          81.277978                   75.000000   \n",
       "75%                          94.211779                   91.192500   \n",
       "max                         100.000000                  100.000000   \n",
       "\n",
       "              ADR  Accelerator  ...          Trail  User Group        Video  \\\n",
       "count  825.000000          1.0  ...    6610.000000   94.000000  2371.000000   \n",
       "mean     2.435152          1.0  ...     102.840242    3.138298     8.942640   \n",
       "std      2.213370          NaN  ...    4191.917304    4.533273    23.402083   \n",
       "min      1.000000          1.0  ...       1.000000    1.000000     1.000000   \n",
       "25%      1.000000          1.0  ...       2.000000    1.000000     2.000000   \n",
       "50%      2.000000          1.0  ...       7.000000    2.000000     4.000000   \n",
       "75%      3.000000          1.0  ...      20.000000    3.000000     8.000000   \n",
       "max     37.000000          1.0  ...  335136.000000   41.000000   808.000000   \n",
       "\n",
       "       Visualforce Check         Web      Webinar   Total Sprogs  \\\n",
       "count         106.000000  333.000000  2476.000000   12884.000000   \n",
       "mean            1.452830    1.636637     4.231018     111.312093   \n",
       "std             0.927178    1.322913     9.881640    3055.103690   \n",
       "min             1.000000    1.000000     1.000000       1.000000   \n",
       "25%             1.000000    1.000000     1.000000       3.000000   \n",
       "50%             1.000000    1.000000     2.000000      11.000000   \n",
       "75%             1.750000    2.000000     4.000000      37.000000   \n",
       "max             6.000000   12.000000   327.000000  335234.000000   \n",
       "\n",
       "         High Count     Low Count     Tech Count  \n",
       "count  12884.000000  12884.000000   12884.000000  \n",
       "mean       1.133809      6.095545     104.028485  \n",
       "std       23.616712     32.524959    3052.977395  \n",
       "min        0.000000      0.000000       0.000000  \n",
       "25%        0.000000      1.000000       1.000000  \n",
       "50%        0.000000      2.000000       7.000000  \n",
       "75%        0.000000      5.000000      30.000000  \n",
       "max     2595.000000   2949.000000  335184.000000  \n",
       "\n",
       "[8 rows x 41 columns]"
      ]
     },
     "execution_count": 9,
     "metadata": {},
     "output_type": "execute_result"
    }
   ],
   "source": [
    "AcctSuccessProgMerged.describe()"
   ]
  },
  {
   "cell_type": "code",
   "execution_count": 10,
   "metadata": {},
   "outputs": [],
   "source": [
    "# Define SM activities columns\n",
    "SMActivities_cols =['ADR', 'Admin Assist', 'Community', 'Customer Success Request',\n",
    "       'Einstein Assessor', 'Email', 'Executive/Critical Incidents',\n",
    "       'High Touch', 'In Person Training', 'In-App',\n",
    "       'JavaScript Buttons Check', 'Live and Virtual Events', 'MANUAL_PROD',\n",
    "       'Optimizer', 'Readiness Check', 'Renewal Touch', 'SCHEDULED_PROD',\n",
    "       'Success Apps', 'Success Assessment', 'Success Play', 'Support Case',\n",
    "       'Trail', 'User Group', 'Video', 'Visualforce Check', 'Web', 'Webinar',\n",
    "       'Total Sprogs', 'hasSM']"
   ]
  },
  {
   "cell_type": "code",
   "execution_count": 11,
   "metadata": {},
   "outputs": [],
   "source": [
    "# Define Success Outcome Category columns\n",
    "SuccOutcomeCat_cols =['High Count', 'Low Count', 'Tech Count']\n"
   ]
  },
  {
   "cell_type": "code",
   "execution_count": 12,
   "metadata": {},
   "outputs": [],
   "source": [
    "# Define Success Outcome Activities columns\n",
    "SuccOutcome_cols =['Core_SFA_EWS_360_Score__c', 'Core_Service_EWS_360_Score__c',\n",
    "       'Weighted_EWS_Score__c','Current_Adoption_Growth__c',\n",
    "       'TLP_30Days_SalesService__c']\n"
   ]
  },
  {
   "cell_type": "markdown",
   "metadata": {},
   "source": [
    "# Weighted EWS score"
   ]
  },
  {
   "cell_type": "code",
   "execution_count": 13,
   "metadata": {},
   "outputs": [
    {
     "data": {
      "image/png": "[encoded data removed]",
      "text/plain": [
       "<Figure size 432x288 with 1 Axes>"
      ]
     },
     "metadata": {
      "needs_background": "light"
     },
     "output_type": "display_data"
    }
   ],
   "source": [
    "boxplot =AcctSuccessProgMerged.boxplot(column=['Weighted_EWS_Score__c'])"
   ]
  },
  {
   "cell_type": "code",
   "execution_count": 14,
   "metadata": {},
   "outputs": [
    {
     "data": {
      "text/plain": [
       "count    1.878700e+04\n",
       "mean     8.095054e+04\n",
       "std      7.646452e+05\n",
       "min      0.000000e+00\n",
       "25%      1.600000e+02\n",
       "50%      2.070000e+03\n",
       "75%      1.644400e+04\n",
       "max      3.892596e+07\n",
       "Name: Weighted_EWS_Score__c, dtype: float64"
      ]
     },
     "execution_count": 14,
     "metadata": {},
     "output_type": "execute_result"
    }
   ],
   "source": [
    "AcctSuccessProgMerged['Weighted_EWS_Score__c'].describe()"
   ]
  },
  {
   "cell_type": "code",
   "execution_count": 15,
   "metadata": {},
   "outputs": [
    {
     "name": "stdout",
     "output_type": "stream",
     "text": [
      "28.041861028260342\n"
     ]
    }
   ],
   "source": [
    "print(AcctSuccessProgMerged['Weighted_EWS_Score__c'].skew())"
   ]
  },
  {
   "cell_type": "code",
   "execution_count": 16,
   "metadata": {},
   "outputs": [
    {
     "name": "stdout",
     "output_type": "stream",
     "text": [
      "Percentiles: 25th=160.000, 75th=16444.000, IQR=16284.000\n"
     ]
    }
   ],
   "source": [
    "# calculate interquartile range\n",
    "from numpy import percentile\n",
    "q25, q75 = percentile(AcctSuccessProgMerged['Weighted_EWS_Score__c'], 25), percentile(AcctSuccessProgMerged['Weighted_EWS_Score__c'], 75)\n",
    "iqr = q75 - q25\n",
    "print('Percentiles: 25th=%.3f, 75th=%.3f, IQR=%.3f' % (q25, q75, iqr))"
   ]
  },
  {
   "cell_type": "code",
   "execution_count": 17,
   "metadata": {},
   "outputs": [
    {
     "name": "stdout",
     "output_type": "stream",
     "text": [
      "-24266.0 40870.0\n"
     ]
    }
   ],
   "source": [
    "# calculate the outlier cutoff\n",
    "cut_off = iqr * 1.5\n",
    "lower, upper = q25 - cut_off, q75 + cut_off\n",
    "print (lower, upper)"
   ]
  },
  {
   "cell_type": "code",
   "execution_count": 18,
   "metadata": {},
   "outputs": [
    {
     "name": "stdout",
     "output_type": "stream",
     "text": [
      "0.0\n",
      "188443.00000000047\n"
     ]
    }
   ],
   "source": [
    "# Identify 95 and 5% percentile levels\n",
    "print(AcctSuccessProgMerged['Weighted_EWS_Score__c'].quantile(0.05))\n",
    "print(AcctSuccessProgMerged['Weighted_EWS_Score__c'].quantile(0.95))"
   ]
  },
  {
   "cell_type": "code",
   "execution_count": 19,
   "metadata": {},
   "outputs": [
    {
     "data": {
      "text/html": [
       "<div>\n",
       "<style scoped>\n",
       "    .dataframe tbody tr th:only-of-type {\n",
       "        vertical-align: middle;\n",
       "    }\n",
       "\n",
       "    .dataframe tbody tr th {\n",
       "        vertical-align: top;\n",
       "    }\n",
       "\n",
       "    .dataframe thead th {\n",
       "        text-align: right;\n",
       "    }\n",
       "</style>\n",
       "<table border=\"1\" class=\"dataframe\">\n",
       "  <thead>\n",
       "    <tr style=\"text-align: right;\">\n",
       "      <th></th>\n",
       "      <th>Account__r.CSG_Coverage__c</th>\n",
       "      <th>Account__r.AOV_Band__c</th>\n",
       "      <th>Account__r.CSM_lookup__r</th>\n",
       "      <th>Core_SFA_EWS_360_Score__c</th>\n",
       "      <th>Lightning_Adoption_Stage__c</th>\n",
       "      <th>Core_Service_EWS_360_Score__c</th>\n",
       "      <th>Weighted_EWS_Score__c</th>\n",
       "      <th>Platform_Adoption__c</th>\n",
       "      <th>Lightning_Adoption__c</th>\n",
       "      <th>Current_Adoption_Growth__c</th>\n",
       "      <th>...</th>\n",
       "      <th>User Group</th>\n",
       "      <th>Video</th>\n",
       "      <th>Visualforce Check</th>\n",
       "      <th>Web</th>\n",
       "      <th>Webinar</th>\n",
       "      <th>Total Sprogs</th>\n",
       "      <th>High Count</th>\n",
       "      <th>Low Count</th>\n",
       "      <th>Tech Count</th>\n",
       "      <th>Capped Weighted_EWS_Score__c</th>\n",
       "    </tr>\n",
       "  </thead>\n",
       "  <tbody>\n",
       "    <tr>\n",
       "      <th>0</th>\n",
       "      <td>Focus</td>\n",
       "      <td>$0</td>\n",
       "      <td>NaN</td>\n",
       "      <td>14.0</td>\n",
       "      <td>0. None / Unknown</td>\n",
       "      <td>NaN</td>\n",
       "      <td>6120.0</td>\n",
       "      <td>0.00</td>\n",
       "      <td>No Lightning Usage</td>\n",
       "      <td>-36.48</td>\n",
       "      <td>...</td>\n",
       "      <td>NaN</td>\n",
       "      <td>NaN</td>\n",
       "      <td>NaN</td>\n",
       "      <td>NaN</td>\n",
       "      <td>NaN</td>\n",
       "      <td>NaN</td>\n",
       "      <td>NaN</td>\n",
       "      <td>NaN</td>\n",
       "      <td>NaN</td>\n",
       "      <td>6120.0</td>\n",
       "    </tr>\n",
       "    <tr>\n",
       "      <th>1</th>\n",
       "      <td>Focus</td>\n",
       "      <td>$1M-5M</td>\n",
       "      <td>[User]</td>\n",
       "      <td>91.0</td>\n",
       "      <td>4. Activation</td>\n",
       "      <td>81.0</td>\n",
       "      <td>8132.0</td>\n",
       "      <td>0.57</td>\n",
       "      <td>Lightning Enabled</td>\n",
       "      <td>-6.03</td>\n",
       "      <td>...</td>\n",
       "      <td>NaN</td>\n",
       "      <td>NaN</td>\n",
       "      <td>NaN</td>\n",
       "      <td>NaN</td>\n",
       "      <td>NaN</td>\n",
       "      <td>NaN</td>\n",
       "      <td>NaN</td>\n",
       "      <td>NaN</td>\n",
       "      <td>NaN</td>\n",
       "      <td>8132.0</td>\n",
       "    </tr>\n",
       "    <tr>\n",
       "      <th>2</th>\n",
       "      <td>Focus</td>\n",
       "      <td>$0</td>\n",
       "      <td>NaN</td>\n",
       "      <td>56.0</td>\n",
       "      <td>4. Activation</td>\n",
       "      <td>NaN</td>\n",
       "      <td>864.0</td>\n",
       "      <td>0.79</td>\n",
       "      <td>Lightning Enabled</td>\n",
       "      <td>-5.02</td>\n",
       "      <td>...</td>\n",
       "      <td>NaN</td>\n",
       "      <td>NaN</td>\n",
       "      <td>NaN</td>\n",
       "      <td>NaN</td>\n",
       "      <td>NaN</td>\n",
       "      <td>NaN</td>\n",
       "      <td>NaN</td>\n",
       "      <td>NaN</td>\n",
       "      <td>NaN</td>\n",
       "      <td>864.0</td>\n",
       "    </tr>\n",
       "    <tr>\n",
       "      <th>3</th>\n",
       "      <td>Top</td>\n",
       "      <td>$10k-50k</td>\n",
       "      <td>NaN</td>\n",
       "      <td>28.0</td>\n",
       "      <td>4. Activation</td>\n",
       "      <td>47.0</td>\n",
       "      <td>1406.0</td>\n",
       "      <td>0.09</td>\n",
       "      <td>Lightning Enabled</td>\n",
       "      <td>1.66</td>\n",
       "      <td>...</td>\n",
       "      <td>NaN</td>\n",
       "      <td>NaN</td>\n",
       "      <td>NaN</td>\n",
       "      <td>NaN</td>\n",
       "      <td>NaN</td>\n",
       "      <td>3.0</td>\n",
       "      <td>0.0</td>\n",
       "      <td>0.0</td>\n",
       "      <td>3.0</td>\n",
       "      <td>1406.0</td>\n",
       "    </tr>\n",
       "    <tr>\n",
       "      <th>4</th>\n",
       "      <td>Focus</td>\n",
       "      <td>$0</td>\n",
       "      <td>NaN</td>\n",
       "      <td>63.0</td>\n",
       "      <td>1. Awareness</td>\n",
       "      <td>NaN</td>\n",
       "      <td>576.0</td>\n",
       "      <td>0.79</td>\n",
       "      <td>No Lightning Usage</td>\n",
       "      <td>-4.88</td>\n",
       "      <td>...</td>\n",
       "      <td>NaN</td>\n",
       "      <td>NaN</td>\n",
       "      <td>NaN</td>\n",
       "      <td>NaN</td>\n",
       "      <td>NaN</td>\n",
       "      <td>NaN</td>\n",
       "      <td>NaN</td>\n",
       "      <td>NaN</td>\n",
       "      <td>NaN</td>\n",
       "      <td>576.0</td>\n",
       "    </tr>\n",
       "  </tbody>\n",
       "</table>\n",
       "<p>5 rows × 49 columns</p>\n",
       "</div>"
      ],
      "text/plain": [
       "  Account__r.CSG_Coverage__c Account__r.AOV_Band__c Account__r.CSM_lookup__r  \\\n",
       "0                      Focus                     $0                      NaN   \n",
       "1                      Focus                 $1M-5M                   [User]   \n",
       "2                      Focus                     $0                      NaN   \n",
       "3                        Top               $10k-50k                      NaN   \n",
       "4                      Focus                     $0                      NaN   \n",
       "\n",
       "   Core_SFA_EWS_360_Score__c Lightning_Adoption_Stage__c  \\\n",
       "0                       14.0           0. None / Unknown   \n",
       "1                       91.0               4. Activation   \n",
       "2                       56.0               4. Activation   \n",
       "3                       28.0               4. Activation   \n",
       "4                       63.0                1. Awareness   \n",
       "\n",
       "   Core_Service_EWS_360_Score__c  Weighted_EWS_Score__c  Platform_Adoption__c  \\\n",
       "0                            NaN                 6120.0                  0.00   \n",
       "1                           81.0                 8132.0                  0.57   \n",
       "2                            NaN                  864.0                  0.79   \n",
       "3                           47.0                 1406.0                  0.09   \n",
       "4                            NaN                  576.0                  0.79   \n",
       "\n",
       "  Lightning_Adoption__c  Current_Adoption_Growth__c  ...  User Group  Video  \\\n",
       "0    No Lightning Usage                      -36.48  ...         NaN    NaN   \n",
       "1     Lightning Enabled                       -6.03  ...         NaN    NaN   \n",
       "2     Lightning Enabled                       -5.02  ...         NaN    NaN   \n",
       "3     Lightning Enabled                        1.66  ...         NaN    NaN   \n",
       "4    No Lightning Usage                       -4.88  ...         NaN    NaN   \n",
       "\n",
       "   Visualforce Check Web Webinar  Total Sprogs  High Count  Low Count  \\\n",
       "0                NaN NaN     NaN           NaN         NaN        NaN   \n",
       "1                NaN NaN     NaN           NaN         NaN        NaN   \n",
       "2                NaN NaN     NaN           NaN         NaN        NaN   \n",
       "3                NaN NaN     NaN           3.0         0.0        0.0   \n",
       "4                NaN NaN     NaN           NaN         NaN        NaN   \n",
       "\n",
       "   Tech Count  Capped Weighted_EWS_Score__c  \n",
       "0         NaN                        6120.0  \n",
       "1         NaN                        8132.0  \n",
       "2         NaN                         864.0  \n",
       "3         3.0                        1406.0  \n",
       "4         NaN                         576.0  \n",
       "\n",
       "[5 rows x 49 columns]"
      ]
     },
     "execution_count": 19,
     "metadata": {},
     "output_type": "execute_result"
    }
   ],
   "source": [
    "# Create Capped EWS Column\n",
    "AcctSuccessProgMerged['Capped Weighted_EWS_Score__c'] = AcctSuccessProgMerged['Weighted_EWS_Score__c']\n",
    "AcctSuccessProgMerged.head()"
   ]
  },
  {
   "cell_type": "code",
   "execution_count": 20,
   "metadata": {},
   "outputs": [],
   "source": [
    "# Cap at 95 percentile level\n",
    "AcctSuccessProgMerged['Capped Weighted_EWS_Score__c'] = np.where(AcctSuccessProgMerged['Capped Weighted_EWS_Score__c'] > 40870, 40870, AcctSuccessProgMerged['Capped Weighted_EWS_Score__c'])"
   ]
  },
  {
   "cell_type": "code",
   "execution_count": 21,
   "metadata": {},
   "outputs": [
    {
     "data": {
      "text/plain": [
       "count    18787.000000\n",
       "mean     10818.995052\n",
       "std      15165.475127\n",
       "min          0.000000\n",
       "25%        160.000000\n",
       "50%       2070.000000\n",
       "75%      16444.000000\n",
       "max      40870.000000\n",
       "Name: Capped Weighted_EWS_Score__c, dtype: float64"
      ]
     },
     "execution_count": 21,
     "metadata": {},
     "output_type": "execute_result"
    }
   ],
   "source": [
    "AcctSuccessProgMerged['Capped Weighted_EWS_Score__c'].describe()"
   ]
  },
  {
   "cell_type": "code",
   "execution_count": 22,
   "metadata": {},
   "outputs": [
    {
     "name": "stdout",
     "output_type": "stream",
     "text": [
      "1.203376587874665\n"
     ]
    }
   ],
   "source": [
    "print(AcctSuccessProgMerged['Capped Weighted_EWS_Score__c'].skew())"
   ]
  },
  {
   "cell_type": "code",
   "execution_count": 23,
   "metadata": {},
   "outputs": [
    {
     "data": {
      "image/png": "[encoded data removed]",
      "text/plain": [
       "<Figure size 432x288 with 1 Axes>"
      ]
     },
     "metadata": {
      "needs_background": "light"
     },
     "output_type": "display_data"
    }
   ],
   "source": [
    "boxplot =AcctSuccessProgMerged.boxplot(column=['Capped Weighted_EWS_Score__c'])"
   ]
  },
  {
   "cell_type": "code",
   "execution_count": 24,
   "metadata": {},
   "outputs": [
    {
     "data": {
      "text/plain": [
       "array([[<matplotlib.axes._subplots.AxesSubplot object at 0x7f8aedd69c18>]],\n",
       "      dtype=object)"
      ]
     },
     "execution_count": 24,
     "metadata": {},
     "output_type": "execute_result"
    },
    {
     "data": {
      "image/png": "[encoded data removed]",
      "text/plain": [
       "<Figure size 432x288 with 1 Axes>"
      ]
     },
     "metadata": {
      "needs_background": "light"
     },
     "output_type": "display_data"
    }
   ],
   "source": [
    "AcctSuccessProgMerged.hist(column='Weighted_EWS_Score__c', bins=10)"
   ]
  },
  {
   "cell_type": "code",
   "execution_count": 25,
   "metadata": {},
   "outputs": [
    {
     "data": {
      "text/plain": [
       "array([[<matplotlib.axes._subplots.AxesSubplot object at 0x7f8aedc0ec88>]],\n",
       "      dtype=object)"
      ]
     },
     "execution_count": 25,
     "metadata": {},
     "output_type": "execute_result"
    },
    {
     "data": {
      "image/png": "[encoded data removed]",
      "text/plain": [
       "<Figure size 432x288 with 1 Axes>"
      ]
     },
     "metadata": {
      "needs_background": "light"
     },
     "output_type": "display_data"
    }
   ],
   "source": [
    "AcctSuccessProgMerged.hist(column='Capped Weighted_EWS_Score__c', bins=10)"
   ]
  },
  {
   "cell_type": "markdown",
   "metadata": {},
   "source": [
    "# Looking at total SProg"
   ]
  },
  {
   "cell_type": "code",
   "execution_count": 26,
   "metadata": {},
   "outputs": [
    {
     "data": {
      "image/png": "[encoded data removed]",
      "text/plain": [
       "<Figure size 432x288 with 1 Axes>"
      ]
     },
     "metadata": {
      "needs_background": "light"
     },
     "output_type": "display_data"
    }
   ],
   "source": [
    "boxplot =AcctSuccessProgMerged.boxplot(column=['Total Sprogs'])"
   ]
  },
  {
   "cell_type": "code",
   "execution_count": 27,
   "metadata": {},
   "outputs": [
    {
     "data": {
      "text/plain": [
       "count     12884.000000\n",
       "mean        111.312093\n",
       "std        3055.103690\n",
       "min           1.000000\n",
       "25%           3.000000\n",
       "50%          11.000000\n",
       "75%          37.000000\n",
       "max      335234.000000\n",
       "Name: Total Sprogs, dtype: float64"
      ]
     },
     "execution_count": 27,
     "metadata": {},
     "output_type": "execute_result"
    }
   ],
   "source": [
    "AcctSuccessProgMerged['Total Sprogs'].describe()"
   ]
  },
  {
   "cell_type": "code",
   "execution_count": 28,
   "metadata": {},
   "outputs": [
    {
     "name": "stdout",
     "output_type": "stream",
     "text": [
      "103.12037188093073\n"
     ]
    }
   ],
   "source": [
    "print(AcctSuccessProgMerged['Total Sprogs'].skew())"
   ]
  },
  {
   "cell_type": "code",
   "execution_count": 29,
   "metadata": {},
   "outputs": [
    {
     "name": "stdout",
     "output_type": "stream",
     "text": [
      "3.0\n",
      "37.0\n"
     ]
    }
   ],
   "source": [
    "# Identify 25 and 75% percentile levels\n",
    "print(AcctSuccessProgMerged['Total Sprogs'].quantile(0.25))\n",
    "print(AcctSuccessProgMerged['Total Sprogs'].quantile(0.75))"
   ]
  },
  {
   "cell_type": "code",
   "execution_count": 30,
   "metadata": {},
   "outputs": [],
   "source": [
    "# calculate interquartile range\n",
    "iqr = 37 - 3"
   ]
  },
  {
   "cell_type": "code",
   "execution_count": 31,
   "metadata": {},
   "outputs": [
    {
     "name": "stdout",
     "output_type": "stream",
     "text": [
      "-48.0 88.0\n"
     ]
    }
   ],
   "source": [
    "# calculate the outlier cutoff\n",
    "cut_off = iqr * 1.5\n",
    "lower, upper = 3 - cut_off, 37 + cut_off\n",
    "print (lower, upper)"
   ]
  },
  {
   "cell_type": "code",
   "execution_count": 32,
   "metadata": {},
   "outputs": [
    {
     "name": "stdout",
     "output_type": "stream",
     "text": [
      "11.0\n",
      "243.0\n"
     ]
    }
   ],
   "source": [
    "# Identify 95 and 5% percentile levels\n",
    "print(AcctSuccessProgMerged['Total Sprogs'].quantile(0.5))\n",
    "print(AcctSuccessProgMerged['Total Sprogs'].quantile(0.95))"
   ]
  },
  {
   "cell_type": "code",
   "execution_count": 33,
   "metadata": {},
   "outputs": [
    {
     "data": {
      "text/html": [
       "<div>\n",
       "<style scoped>\n",
       "    .dataframe tbody tr th:only-of-type {\n",
       "        vertical-align: middle;\n",
       "    }\n",
       "\n",
       "    .dataframe tbody tr th {\n",
       "        vertical-align: top;\n",
       "    }\n",
       "\n",
       "    .dataframe thead th {\n",
       "        text-align: right;\n",
       "    }\n",
       "</style>\n",
       "<table border=\"1\" class=\"dataframe\">\n",
       "  <thead>\n",
       "    <tr style=\"text-align: right;\">\n",
       "      <th></th>\n",
       "      <th>Account__r.CSG_Coverage__c</th>\n",
       "      <th>Account__r.AOV_Band__c</th>\n",
       "      <th>Account__r.CSM_lookup__r</th>\n",
       "      <th>Core_SFA_EWS_360_Score__c</th>\n",
       "      <th>Lightning_Adoption_Stage__c</th>\n",
       "      <th>Core_Service_EWS_360_Score__c</th>\n",
       "      <th>Weighted_EWS_Score__c</th>\n",
       "      <th>Platform_Adoption__c</th>\n",
       "      <th>Lightning_Adoption__c</th>\n",
       "      <th>Current_Adoption_Growth__c</th>\n",
       "      <th>...</th>\n",
       "      <th>Video</th>\n",
       "      <th>Visualforce Check</th>\n",
       "      <th>Web</th>\n",
       "      <th>Webinar</th>\n",
       "      <th>Total Sprogs</th>\n",
       "      <th>High Count</th>\n",
       "      <th>Low Count</th>\n",
       "      <th>Tech Count</th>\n",
       "      <th>Capped Weighted_EWS_Score__c</th>\n",
       "      <th>Capped Total Sprogs</th>\n",
       "    </tr>\n",
       "  </thead>\n",
       "  <tbody>\n",
       "    <tr>\n",
       "      <th>0</th>\n",
       "      <td>Focus</td>\n",
       "      <td>$0</td>\n",
       "      <td>NaN</td>\n",
       "      <td>14.0</td>\n",
       "      <td>0. None / Unknown</td>\n",
       "      <td>NaN</td>\n",
       "      <td>6120.0</td>\n",
       "      <td>0.00</td>\n",
       "      <td>No Lightning Usage</td>\n",
       "      <td>-36.48</td>\n",
       "      <td>...</td>\n",
       "      <td>NaN</td>\n",
       "      <td>NaN</td>\n",
       "      <td>NaN</td>\n",
       "      <td>NaN</td>\n",
       "      <td>NaN</td>\n",
       "      <td>NaN</td>\n",
       "      <td>NaN</td>\n",
       "      <td>NaN</td>\n",
       "      <td>6120.0</td>\n",
       "      <td>NaN</td>\n",
       "    </tr>\n",
       "    <tr>\n",
       "      <th>1</th>\n",
       "      <td>Focus</td>\n",
       "      <td>$1M-5M</td>\n",
       "      <td>[User]</td>\n",
       "      <td>91.0</td>\n",
       "      <td>4. Activation</td>\n",
       "      <td>81.0</td>\n",
       "      <td>8132.0</td>\n",
       "      <td>0.57</td>\n",
       "      <td>Lightning Enabled</td>\n",
       "      <td>-6.03</td>\n",
       "      <td>...</td>\n",
       "      <td>NaN</td>\n",
       "      <td>NaN</td>\n",
       "      <td>NaN</td>\n",
       "      <td>NaN</td>\n",
       "      <td>NaN</td>\n",
       "      <td>NaN</td>\n",
       "      <td>NaN</td>\n",
       "      <td>NaN</td>\n",
       "      <td>8132.0</td>\n",
       "      <td>NaN</td>\n",
       "    </tr>\n",
       "    <tr>\n",
       "      <th>2</th>\n",
       "      <td>Focus</td>\n",
       "      <td>$0</td>\n",
       "      <td>NaN</td>\n",
       "      <td>56.0</td>\n",
       "      <td>4. Activation</td>\n",
       "      <td>NaN</td>\n",
       "      <td>864.0</td>\n",
       "      <td>0.79</td>\n",
       "      <td>Lightning Enabled</td>\n",
       "      <td>-5.02</td>\n",
       "      <td>...</td>\n",
       "      <td>NaN</td>\n",
       "      <td>NaN</td>\n",
       "      <td>NaN</td>\n",
       "      <td>NaN</td>\n",
       "      <td>NaN</td>\n",
       "      <td>NaN</td>\n",
       "      <td>NaN</td>\n",
       "      <td>NaN</td>\n",
       "      <td>864.0</td>\n",
       "      <td>NaN</td>\n",
       "    </tr>\n",
       "    <tr>\n",
       "      <th>3</th>\n",
       "      <td>Top</td>\n",
       "      <td>$10k-50k</td>\n",
       "      <td>NaN</td>\n",
       "      <td>28.0</td>\n",
       "      <td>4. Activation</td>\n",
       "      <td>47.0</td>\n",
       "      <td>1406.0</td>\n",
       "      <td>0.09</td>\n",
       "      <td>Lightning Enabled</td>\n",
       "      <td>1.66</td>\n",
       "      <td>...</td>\n",
       "      <td>NaN</td>\n",
       "      <td>NaN</td>\n",
       "      <td>NaN</td>\n",
       "      <td>NaN</td>\n",
       "      <td>3.0</td>\n",
       "      <td>0.0</td>\n",
       "      <td>0.0</td>\n",
       "      <td>3.0</td>\n",
       "      <td>1406.0</td>\n",
       "      <td>3.0</td>\n",
       "    </tr>\n",
       "    <tr>\n",
       "      <th>4</th>\n",
       "      <td>Focus</td>\n",
       "      <td>$0</td>\n",
       "      <td>NaN</td>\n",
       "      <td>63.0</td>\n",
       "      <td>1. Awareness</td>\n",
       "      <td>NaN</td>\n",
       "      <td>576.0</td>\n",
       "      <td>0.79</td>\n",
       "      <td>No Lightning Usage</td>\n",
       "      <td>-4.88</td>\n",
       "      <td>...</td>\n",
       "      <td>NaN</td>\n",
       "      <td>NaN</td>\n",
       "      <td>NaN</td>\n",
       "      <td>NaN</td>\n",
       "      <td>NaN</td>\n",
       "      <td>NaN</td>\n",
       "      <td>NaN</td>\n",
       "      <td>NaN</td>\n",
       "      <td>576.0</td>\n",
       "      <td>NaN</td>\n",
       "    </tr>\n",
       "  </tbody>\n",
       "</table>\n",
       "<p>5 rows × 50 columns</p>\n",
       "</div>"
      ],
      "text/plain": [
       "  Account__r.CSG_Coverage__c Account__r.AOV_Band__c Account__r.CSM_lookup__r  \\\n",
       "0                      Focus                     $0                      NaN   \n",
       "1                      Focus                 $1M-5M                   [User]   \n",
       "2                      Focus                     $0                      NaN   \n",
       "3                        Top               $10k-50k                      NaN   \n",
       "4                      Focus                     $0                      NaN   \n",
       "\n",
       "   Core_SFA_EWS_360_Score__c Lightning_Adoption_Stage__c  \\\n",
       "0                       14.0           0. None / Unknown   \n",
       "1                       91.0               4. Activation   \n",
       "2                       56.0               4. Activation   \n",
       "3                       28.0               4. Activation   \n",
       "4                       63.0                1. Awareness   \n",
       "\n",
       "   Core_Service_EWS_360_Score__c  Weighted_EWS_Score__c  Platform_Adoption__c  \\\n",
       "0                            NaN                 6120.0                  0.00   \n",
       "1                           81.0                 8132.0                  0.57   \n",
       "2                            NaN                  864.0                  0.79   \n",
       "3                           47.0                 1406.0                  0.09   \n",
       "4                            NaN                  576.0                  0.79   \n",
       "\n",
       "  Lightning_Adoption__c  Current_Adoption_Growth__c  ...  Video  \\\n",
       "0    No Lightning Usage                      -36.48  ...    NaN   \n",
       "1     Lightning Enabled                       -6.03  ...    NaN   \n",
       "2     Lightning Enabled                       -5.02  ...    NaN   \n",
       "3     Lightning Enabled                        1.66  ...    NaN   \n",
       "4    No Lightning Usage                       -4.88  ...    NaN   \n",
       "\n",
       "   Visualforce Check  Web Webinar Total Sprogs  High Count  Low Count  \\\n",
       "0                NaN  NaN     NaN          NaN         NaN        NaN   \n",
       "1                NaN  NaN     NaN          NaN         NaN        NaN   \n",
       "2                NaN  NaN     NaN          NaN         NaN        NaN   \n",
       "3                NaN  NaN     NaN          3.0         0.0        0.0   \n",
       "4                NaN  NaN     NaN          NaN         NaN        NaN   \n",
       "\n",
       "   Tech Count  Capped Weighted_EWS_Score__c  Capped Total Sprogs  \n",
       "0         NaN                        6120.0                  NaN  \n",
       "1         NaN                        8132.0                  NaN  \n",
       "2         NaN                         864.0                  NaN  \n",
       "3         3.0                        1406.0                  3.0  \n",
       "4         NaN                         576.0                  NaN  \n",
       "\n",
       "[5 rows x 50 columns]"
      ]
     },
     "execution_count": 33,
     "metadata": {},
     "output_type": "execute_result"
    }
   ],
   "source": [
    "# Create Capped Sprogs Column\n",
    "AcctSuccessProgMerged['Capped Total Sprogs'] = AcctSuccessProgMerged['Total Sprogs']\n",
    "AcctSuccessProgMerged.head()"
   ]
  },
  {
   "cell_type": "code",
   "execution_count": 34,
   "metadata": {},
   "outputs": [],
   "source": [
    "# Cap at 95 percentile level\n",
    "AcctSuccessProgMerged['Capped Total Sprogs'] = np.where(AcctSuccessProgMerged['Capped Total Sprogs'] > 88.0, 88.0, AcctSuccessProgMerged['Capped Total Sprogs'])"
   ]
  },
  {
   "cell_type": "code",
   "execution_count": 37,
   "metadata": {},
   "outputs": [
    {
     "name": "stdout",
     "output_type": "stream",
     "text": [
      "1.1992322554955097\n"
     ]
    }
   ],
   "source": [
    "print(AcctSuccessProgMerged['Capped Total Sprogs'].skew())"
   ]
  },
  {
   "cell_type": "code",
   "execution_count": 38,
   "metadata": {},
   "outputs": [
    {
     "data": {
      "image/png": "[encoded data removed]",
      "text/plain": [
       "<Figure size 432x288 with 1 Axes>"
      ]
     },
     "metadata": {
      "needs_background": "light"
     },
     "output_type": "display_data"
    }
   ],
   "source": [
    "boxplot =AcctSuccessProgMerged.boxplot(column=['Capped Total Sprogs'])"
   ]
  },
  {
   "cell_type": "code",
   "execution_count": 39,
   "metadata": {
    "scrolled": true
   },
   "outputs": [
    {
     "data": {
      "text/plain": [
       "array([[<matplotlib.axes._subplots.AxesSubplot object at 0x7f8aedd69710>]],\n",
       "      dtype=object)"
      ]
     },
     "execution_count": 39,
     "metadata": {},
     "output_type": "execute_result"
    },
    {
     "data": {
      "image/png": "[encoded data removed]",
      "text/plain": [
       "<Figure size 432x288 with 1 Axes>"
      ]
     },
     "metadata": {
      "needs_background": "light"
     },
     "output_type": "display_data"
    }
   ],
   "source": [
    "AcctSuccessProgMerged.hist(column='Total Sprogs', bins=10)"
   ]
  },
  {
   "cell_type": "code",
   "execution_count": 40,
   "metadata": {},
   "outputs": [
    {
     "data": {
      "text/plain": [
       "array([[<matplotlib.axes._subplots.AxesSubplot object at 0x7f8af3493438>]],\n",
       "      dtype=object)"
      ]
     },
     "execution_count": 40,
     "metadata": {},
     "output_type": "execute_result"
    },
    {
     "data": {
      "image/png": "[encoded data removed]",
      "text/plain": [
       "<Figure size 432x288 with 1 Axes>"
      ]
     },
     "metadata": {
      "needs_background": "light"
     },
     "output_type": "display_data"
    }
   ],
   "source": [
    "AcctSuccessProgMerged.hist(column='Capped Total Sprogs', bins=10)"
   ]
  },
  {
   "cell_type": "code",
   "execution_count": 41,
   "metadata": {},
   "outputs": [
    {
     "data": {
      "text/plain": [
       "count    12884.000000\n",
       "mean        25.365803\n",
       "std         29.935234\n",
       "min          1.000000\n",
       "25%          3.000000\n",
       "50%         11.000000\n",
       "75%         37.000000\n",
       "max         88.000000\n",
       "Name: Capped Total Sprogs, dtype: float64"
      ]
     },
     "execution_count": 41,
     "metadata": {},
     "output_type": "execute_result"
    }
   ],
   "source": [
    "AcctSuccessProgMerged['Capped Total Sprogs'].describe()"
   ]
  },
  {
   "cell_type": "code",
   "execution_count": null,
   "metadata": {},
   "outputs": [],
   "source": []
  },
  {
   "cell_type": "markdown",
   "metadata": {},
   "source": [
    "# Looking for Correlations"
   ]
  },
  {
   "cell_type": "code",
   "execution_count": 42,
   "metadata": {},
   "outputs": [
    {
     "data": {
      "image/png": "[encoded data removed]",
      "text/plain": [
       "<Figure size 432x288 with 2 Axes>"
      ]
     },
     "metadata": {
      "needs_background": "light"
     },
     "output_type": "display_data"
    }
   ],
   "source": [
    "corr = AcctSuccessProgMerged.corr()\n",
    "ax = sns.heatmap(\n",
    "    corr, \n",
    "    vmin=-1, vmax=1, center=0,\n",
    "    cmap=sns.diverging_palette(20, 220, n=200),\n",
    "    square=True\n",
    ")\n",
    "ax.set_xticklabels(\n",
    "    ax.get_xticklabels(),\n",
    "    rotation=45,\n",
    "    horizontalalignment='right'\n",
    ");"
   ]
  },
  {
   "cell_type": "code",
   "execution_count": 43,
   "metadata": {},
   "outputs": [],
   "source": [
    "AcctSuccessProgMergedSubset = pd.DataFrame(AcctSuccessProgMerged,columns=['Capped Total Sprogs',\n",
    "                                                 'Capped Weighted_EWS_Score__c',\n",
    "                                                 'TLP_30Days_SalesService__c',\n",
    "                                                 'Platform_Adoption__c',   \n",
    "                                                 'Core_Service_EWS_360_Score__c', \n",
    "                                                 'Core_SFA_EWS_360_Score__c'])\n",
    "\n"
   ]
  },
  {
   "cell_type": "code",
   "execution_count": 44,
   "metadata": {},
   "outputs": [
    {
     "data": {
      "text/html": [
       "<style  type=\"text/css\" >\n",
       "    #T_30e18264_04dd_11ec_b942_acde48001122row0_col0 {\n",
       "            background-color:  #b40426;\n",
       "            color:  #f1f1f1;\n",
       "        }    #T_30e18264_04dd_11ec_b942_acde48001122row0_col1 {\n",
       "            background-color:  #3b4cc0;\n",
       "            color:  #f1f1f1;\n",
       "        }    #T_30e18264_04dd_11ec_b942_acde48001122row0_col2 {\n",
       "            background-color:  #3b4cc0;\n",
       "            color:  #f1f1f1;\n",
       "        }    #T_30e18264_04dd_11ec_b942_acde48001122row0_col3 {\n",
       "            background-color:  #3b4cc0;\n",
       "            color:  #f1f1f1;\n",
       "        }    #T_30e18264_04dd_11ec_b942_acde48001122row0_col4 {\n",
       "            background-color:  #3b4cc0;\n",
       "            color:  #f1f1f1;\n",
       "        }    #T_30e18264_04dd_11ec_b942_acde48001122row0_col5 {\n",
       "            background-color:  #3b4cc0;\n",
       "            color:  #f1f1f1;\n",
       "        }    #T_30e18264_04dd_11ec_b942_acde48001122row1_col0 {\n",
       "            background-color:  #86a9fc;\n",
       "            color:  #000000;\n",
       "        }    #T_30e18264_04dd_11ec_b942_acde48001122row1_col1 {\n",
       "            background-color:  #b40426;\n",
       "            color:  #f1f1f1;\n",
       "        }    #T_30e18264_04dd_11ec_b942_acde48001122row1_col2 {\n",
       "            background-color:  #7b9ff9;\n",
       "            color:  #000000;\n",
       "        }    #T_30e18264_04dd_11ec_b942_acde48001122row1_col3 {\n",
       "            background-color:  #dedcdb;\n",
       "            color:  #000000;\n",
       "        }    #T_30e18264_04dd_11ec_b942_acde48001122row1_col4 {\n",
       "            background-color:  #90b2fe;\n",
       "            color:  #000000;\n",
       "        }    #T_30e18264_04dd_11ec_b942_acde48001122row1_col5 {\n",
       "            background-color:  #85a8fc;\n",
       "            color:  #000000;\n",
       "        }    #T_30e18264_04dd_11ec_b942_acde48001122row2_col0 {\n",
       "            background-color:  #485fd1;\n",
       "            color:  #f1f1f1;\n",
       "        }    #T_30e18264_04dd_11ec_b942_acde48001122row2_col1 {\n",
       "            background-color:  #3b4cc0;\n",
       "            color:  #f1f1f1;\n",
       "        }    #T_30e18264_04dd_11ec_b942_acde48001122row2_col2 {\n",
       "            background-color:  #b40426;\n",
       "            color:  #f1f1f1;\n",
       "        }    #T_30e18264_04dd_11ec_b942_acde48001122row2_col3 {\n",
       "            background-color:  #5673e0;\n",
       "            color:  #000000;\n",
       "        }    #T_30e18264_04dd_11ec_b942_acde48001122row2_col4 {\n",
       "            background-color:  #dcdddd;\n",
       "            color:  #000000;\n",
       "        }    #T_30e18264_04dd_11ec_b942_acde48001122row2_col5 {\n",
       "            background-color:  #a9c6fd;\n",
       "            color:  #000000;\n",
       "        }    #T_30e18264_04dd_11ec_b942_acde48001122row3_col0 {\n",
       "            background-color:  #80a3fa;\n",
       "            color:  #000000;\n",
       "        }    #T_30e18264_04dd_11ec_b942_acde48001122row3_col1 {\n",
       "            background-color:  #dadce0;\n",
       "            color:  #000000;\n",
       "        }    #T_30e18264_04dd_11ec_b942_acde48001122row3_col2 {\n",
       "            background-color:  #8db0fe;\n",
       "            color:  #000000;\n",
       "        }    #T_30e18264_04dd_11ec_b942_acde48001122row3_col3 {\n",
       "            background-color:  #b40426;\n",
       "            color:  #f1f1f1;\n",
       "        }    #T_30e18264_04dd_11ec_b942_acde48001122row3_col4 {\n",
       "            background-color:  #a2c1ff;\n",
       "            color:  #000000;\n",
       "        }    #T_30e18264_04dd_11ec_b942_acde48001122row3_col5 {\n",
       "            background-color:  #8badfd;\n",
       "            color:  #000000;\n",
       "        }    #T_30e18264_04dd_11ec_b942_acde48001122row4_col0 {\n",
       "            background-color:  #3b4cc0;\n",
       "            color:  #f1f1f1;\n",
       "        }    #T_30e18264_04dd_11ec_b942_acde48001122row4_col1 {\n",
       "            background-color:  #445acc;\n",
       "            color:  #f1f1f1;\n",
       "        }    #T_30e18264_04dd_11ec_b942_acde48001122row4_col2 {\n",
       "            background-color:  #d6dce4;\n",
       "            color:  #000000;\n",
       "        }    #T_30e18264_04dd_11ec_b942_acde48001122row4_col3 {\n",
       "            background-color:  #6180e9;\n",
       "            color:  #000000;\n",
       "        }    #T_30e18264_04dd_11ec_b942_acde48001122row4_col4 {\n",
       "            background-color:  #b40426;\n",
       "            color:  #f1f1f1;\n",
       "        }    #T_30e18264_04dd_11ec_b942_acde48001122row4_col5 {\n",
       "            background-color:  #e7d7ce;\n",
       "            color:  #000000;\n",
       "        }    #T_30e18264_04dd_11ec_b942_acde48001122row5_col0 {\n",
       "            background-color:  #3f53c6;\n",
       "            color:  #f1f1f1;\n",
       "        }    #T_30e18264_04dd_11ec_b942_acde48001122row5_col1 {\n",
       "            background-color:  #3c4ec2;\n",
       "            color:  #f1f1f1;\n",
       "        }    #T_30e18264_04dd_11ec_b942_acde48001122row5_col2 {\n",
       "            background-color:  #a2c1ff;\n",
       "            color:  #000000;\n",
       "        }    #T_30e18264_04dd_11ec_b942_acde48001122row5_col3 {\n",
       "            background-color:  #4b64d5;\n",
       "            color:  #f1f1f1;\n",
       "        }    #T_30e18264_04dd_11ec_b942_acde48001122row5_col4 {\n",
       "            background-color:  #e9d5cb;\n",
       "            color:  #000000;\n",
       "        }    #T_30e18264_04dd_11ec_b942_acde48001122row5_col5 {\n",
       "            background-color:  #b40426;\n",
       "            color:  #f1f1f1;\n",
       "        }</style><table id=\"T_30e18264_04dd_11ec_b942_acde48001122\" ><thead>    <tr>        <th class=\"blank level0\" ></th>        <th class=\"col_heading level0 col0\" >Capped Total Sprogs</th>        <th class=\"col_heading level0 col1\" >Capped Weighted_EWS_Score__c</th>        <th class=\"col_heading level0 col2\" >TLP_30Days_SalesService__c</th>        <th class=\"col_heading level0 col3\" >Platform_Adoption__c</th>        <th class=\"col_heading level0 col4\" >Core_Service_EWS_360_Score__c</th>        <th class=\"col_heading level0 col5\" >Core_SFA_EWS_360_Score__c</th>    </tr></thead><tbody>\n",
       "                <tr>\n",
       "                        <th id=\"T_30e18264_04dd_11ec_b942_acde48001122level0_row0\" class=\"row_heading level0 row0\" >Capped Total Sprogs</th>\n",
       "                        <td id=\"T_30e18264_04dd_11ec_b942_acde48001122row0_col0\" class=\"data row0 col0\" >1</td>\n",
       "                        <td id=\"T_30e18264_04dd_11ec_b942_acde48001122row0_col1\" class=\"data row0 col1\" >0.234</td>\n",
       "                        <td id=\"T_30e18264_04dd_11ec_b942_acde48001122row0_col2\" class=\"data row0 col2\" >0.0455</td>\n",
       "                        <td id=\"T_30e18264_04dd_11ec_b942_acde48001122row0_col3\" class=\"data row0 col3\" >0.213</td>\n",
       "                        <td id=\"T_30e18264_04dd_11ec_b942_acde48001122row0_col4\" class=\"data row0 col4\" >0.000181</td>\n",
       "                        <td id=\"T_30e18264_04dd_11ec_b942_acde48001122row0_col5\" class=\"data row0 col5\" >0.0162</td>\n",
       "            </tr>\n",
       "            <tr>\n",
       "                        <th id=\"T_30e18264_04dd_11ec_b942_acde48001122level0_row1\" class=\"row_heading level0 row1\" >Capped Weighted_EWS_Score__c</th>\n",
       "                        <td id=\"T_30e18264_04dd_11ec_b942_acde48001122row1_col0\" class=\"data row1 col0\" >0.234</td>\n",
       "                        <td id=\"T_30e18264_04dd_11ec_b942_acde48001122row1_col1\" class=\"data row1 col1\" >1</td>\n",
       "                        <td id=\"T_30e18264_04dd_11ec_b942_acde48001122row1_col2\" class=\"data row1 col2\" >0.237</td>\n",
       "                        <td id=\"T_30e18264_04dd_11ec_b942_acde48001122row1_col3\" class=\"data row1 col3\" >0.611</td>\n",
       "                        <td id=\"T_30e18264_04dd_11ec_b942_acde48001122row1_col4\" class=\"data row1 col4\" >0.259</td>\n",
       "                        <td id=\"T_30e18264_04dd_11ec_b942_acde48001122row1_col5\" class=\"data row1 col5\" >0.24</td>\n",
       "            </tr>\n",
       "            <tr>\n",
       "                        <th id=\"T_30e18264_04dd_11ec_b942_acde48001122level0_row2\" class=\"row_heading level0 row2\" >TLP_30Days_SalesService__c</th>\n",
       "                        <td id=\"T_30e18264_04dd_11ec_b942_acde48001122row2_col0\" class=\"data row2 col0\" >0.0455</td>\n",
       "                        <td id=\"T_30e18264_04dd_11ec_b942_acde48001122row2_col1\" class=\"data row2 col1\" >0.237</td>\n",
       "                        <td id=\"T_30e18264_04dd_11ec_b942_acde48001122row2_col2\" class=\"data row2 col2\" >1</td>\n",
       "                        <td id=\"T_30e18264_04dd_11ec_b942_acde48001122row2_col3\" class=\"data row2 col3\" >0.287</td>\n",
       "                        <td id=\"T_30e18264_04dd_11ec_b942_acde48001122row2_col4\" class=\"data row2 col4\" >0.499</td>\n",
       "                        <td id=\"T_30e18264_04dd_11ec_b942_acde48001122row2_col5\" class=\"data row2 col5\" >0.342</td>\n",
       "            </tr>\n",
       "            <tr>\n",
       "                        <th id=\"T_30e18264_04dd_11ec_b942_acde48001122level0_row3\" class=\"row_heading level0 row3\" >Platform_Adoption__c</th>\n",
       "                        <td id=\"T_30e18264_04dd_11ec_b942_acde48001122row3_col0\" class=\"data row3 col0\" >0.213</td>\n",
       "                        <td id=\"T_30e18264_04dd_11ec_b942_acde48001122row3_col1\" class=\"data row3 col1\" >0.611</td>\n",
       "                        <td id=\"T_30e18264_04dd_11ec_b942_acde48001122row3_col2\" class=\"data row3 col2\" >0.287</td>\n",
       "                        <td id=\"T_30e18264_04dd_11ec_b942_acde48001122row3_col3\" class=\"data row3 col3\" >1</td>\n",
       "                        <td id=\"T_30e18264_04dd_11ec_b942_acde48001122row3_col4\" class=\"data row3 col4\" >0.309</td>\n",
       "                        <td id=\"T_30e18264_04dd_11ec_b942_acde48001122row3_col5\" class=\"data row3 col5\" >0.256</td>\n",
       "            </tr>\n",
       "            <tr>\n",
       "                        <th id=\"T_30e18264_04dd_11ec_b942_acde48001122level0_row4\" class=\"row_heading level0 row4\" >Core_Service_EWS_360_Score__c</th>\n",
       "                        <td id=\"T_30e18264_04dd_11ec_b942_acde48001122row4_col0\" class=\"data row4 col0\" >0.000181</td>\n",
       "                        <td id=\"T_30e18264_04dd_11ec_b942_acde48001122row4_col1\" class=\"data row4 col1\" >0.259</td>\n",
       "                        <td id=\"T_30e18264_04dd_11ec_b942_acde48001122row4_col2\" class=\"data row4 col2\" >0.499</td>\n",
       "                        <td id=\"T_30e18264_04dd_11ec_b942_acde48001122row4_col3\" class=\"data row4 col3\" >0.309</td>\n",
       "                        <td id=\"T_30e18264_04dd_11ec_b942_acde48001122row4_col4\" class=\"data row4 col4\" >1</td>\n",
       "                        <td id=\"T_30e18264_04dd_11ec_b942_acde48001122row4_col5\" class=\"data row4 col5\" >0.55</td>\n",
       "            </tr>\n",
       "            <tr>\n",
       "                        <th id=\"T_30e18264_04dd_11ec_b942_acde48001122level0_row5\" class=\"row_heading level0 row5\" >Core_SFA_EWS_360_Score__c</th>\n",
       "                        <td id=\"T_30e18264_04dd_11ec_b942_acde48001122row5_col0\" class=\"data row5 col0\" >0.0162</td>\n",
       "                        <td id=\"T_30e18264_04dd_11ec_b942_acde48001122row5_col1\" class=\"data row5 col1\" >0.24</td>\n",
       "                        <td id=\"T_30e18264_04dd_11ec_b942_acde48001122row5_col2\" class=\"data row5 col2\" >0.342</td>\n",
       "                        <td id=\"T_30e18264_04dd_11ec_b942_acde48001122row5_col3\" class=\"data row5 col3\" >0.256</td>\n",
       "                        <td id=\"T_30e18264_04dd_11ec_b942_acde48001122row5_col4\" class=\"data row5 col4\" >0.55</td>\n",
       "                        <td id=\"T_30e18264_04dd_11ec_b942_acde48001122row5_col5\" class=\"data row5 col5\" >1</td>\n",
       "            </tr>\n",
       "    </tbody></table>"
      ],
      "text/plain": [
       "<pandas.io.formats.style.Styler at 0x7f8af35a91d0>"
      ]
     },
     "execution_count": 44,
     "metadata": {},
     "output_type": "execute_result"
    }
   ],
   "source": [
    "corr = AcctSuccessProgMergedSubset.corr()\n",
    "corr.style.background_gradient(cmap='coolwarm').set_precision(3)"
   ]
  },
  {
   "cell_type": "code",
   "execution_count": 45,
   "metadata": {},
   "outputs": [
    {
     "data": {
      "text/html": [
       "<style  type=\"text/css\" >\n",
       "    #T_316f3050_04dd_11ec_b942_acde48001122row0_col0 {\n",
       "            background-color:  #00441b;\n",
       "            color:  #f1f1f1;\n",
       "        }    #T_316f3050_04dd_11ec_b942_acde48001122row0_col1 {\n",
       "            background-color:  #f7fcf5;\n",
       "            color:  #000000;\n",
       "        }    #T_316f3050_04dd_11ec_b942_acde48001122row0_col2 {\n",
       "            background-color:  #f7fcf5;\n",
       "            color:  #000000;\n",
       "        }    #T_316f3050_04dd_11ec_b942_acde48001122row0_col3 {\n",
       "            background-color:  #f7fcf5;\n",
       "            color:  #000000;\n",
       "        }    #T_316f3050_04dd_11ec_b942_acde48001122row0_col4 {\n",
       "            background-color:  #f7fcf5;\n",
       "            color:  #000000;\n",
       "        }    #T_316f3050_04dd_11ec_b942_acde48001122row0_col5 {\n",
       "            background-color:  #f7fcf5;\n",
       "            color:  #000000;\n",
       "        }    #T_316f3050_04dd_11ec_b942_acde48001122row1_col0 {\n",
       "            background-color:  #cbebc5;\n",
       "            color:  #000000;\n",
       "        }    #T_316f3050_04dd_11ec_b942_acde48001122row1_col1 {\n",
       "            background-color:  #00441b;\n",
       "            color:  #f1f1f1;\n",
       "        }    #T_316f3050_04dd_11ec_b942_acde48001122row1_col2 {\n",
       "            background-color:  #d3eecd;\n",
       "            color:  #000000;\n",
       "        }    #T_316f3050_04dd_11ec_b942_acde48001122row1_col3 {\n",
       "            background-color:  #72c375;\n",
       "            color:  #000000;\n",
       "        }    #T_316f3050_04dd_11ec_b942_acde48001122row1_col4 {\n",
       "            background-color:  #c4e8bd;\n",
       "            color:  #000000;\n",
       "        }    #T_316f3050_04dd_11ec_b942_acde48001122row1_col5 {\n",
       "            background-color:  #ccebc6;\n",
       "            color:  #000000;\n",
       "        }    #T_316f3050_04dd_11ec_b942_acde48001122row2_col0 {\n",
       "            background-color:  #f1faee;\n",
       "            color:  #000000;\n",
       "        }    #T_316f3050_04dd_11ec_b942_acde48001122row2_col1 {\n",
       "            background-color:  #f7fcf5;\n",
       "            color:  #000000;\n",
       "        }    #T_316f3050_04dd_11ec_b942_acde48001122row2_col2 {\n",
       "            background-color:  #00441b;\n",
       "            color:  #f1f1f1;\n",
       "        }    #T_316f3050_04dd_11ec_b942_acde48001122row2_col3 {\n",
       "            background-color:  #eaf7e6;\n",
       "            color:  #000000;\n",
       "        }    #T_316f3050_04dd_11ec_b942_acde48001122row2_col4 {\n",
       "            background-color:  #75c477;\n",
       "            color:  #000000;\n",
       "        }    #T_316f3050_04dd_11ec_b942_acde48001122row2_col5 {\n",
       "            background-color:  #afdfa8;\n",
       "            color:  #000000;\n",
       "        }    #T_316f3050_04dd_11ec_b942_acde48001122row3_col0 {\n",
       "            background-color:  #d0edca;\n",
       "            color:  #000000;\n",
       "        }    #T_316f3050_04dd_11ec_b942_acde48001122row3_col1 {\n",
       "            background-color:  #78c679;\n",
       "            color:  #000000;\n",
       "        }    #T_316f3050_04dd_11ec_b942_acde48001122row3_col2 {\n",
       "            background-color:  #c7e9c0;\n",
       "            color:  #000000;\n",
       "        }    #T_316f3050_04dd_11ec_b942_acde48001122row3_col3 {\n",
       "            background-color:  #00441b;\n",
       "            color:  #f1f1f1;\n",
       "        }    #T_316f3050_04dd_11ec_b942_acde48001122row3_col4 {\n",
       "            background-color:  #b5e1ae;\n",
       "            color:  #000000;\n",
       "        }    #T_316f3050_04dd_11ec_b942_acde48001122row3_col5 {\n",
       "            background-color:  #c9eac2;\n",
       "            color:  #000000;\n",
       "        }    #T_316f3050_04dd_11ec_b942_acde48001122row4_col0 {\n",
       "            background-color:  #f7fcf5;\n",
       "            color:  #000000;\n",
       "        }    #T_316f3050_04dd_11ec_b942_acde48001122row4_col1 {\n",
       "            background-color:  #f2faf0;\n",
       "            color:  #000000;\n",
       "        }    #T_316f3050_04dd_11ec_b942_acde48001122row4_col2 {\n",
       "            background-color:  #7dc87e;\n",
       "            color:  #000000;\n",
       "        }    #T_316f3050_04dd_11ec_b942_acde48001122row4_col3 {\n",
       "            background-color:  #e5f5e1;\n",
       "            color:  #000000;\n",
       "        }    #T_316f3050_04dd_11ec_b942_acde48001122row4_col4 {\n",
       "            background-color:  #00441b;\n",
       "            color:  #f1f1f1;\n",
       "        }    #T_316f3050_04dd_11ec_b942_acde48001122row4_col5 {\n",
       "            background-color:  #63bc6e;\n",
       "            color:  #000000;\n",
       "        }    #T_316f3050_04dd_11ec_b942_acde48001122row5_col0 {\n",
       "            background-color:  #f5fbf2;\n",
       "            color:  #000000;\n",
       "        }    #T_316f3050_04dd_11ec_b942_acde48001122row5_col1 {\n",
       "            background-color:  #f6fcf4;\n",
       "            color:  #000000;\n",
       "        }    #T_316f3050_04dd_11ec_b942_acde48001122row5_col2 {\n",
       "            background-color:  #b5e1ae;\n",
       "            color:  #000000;\n",
       "        }    #T_316f3050_04dd_11ec_b942_acde48001122row5_col3 {\n",
       "            background-color:  #eff9ec;\n",
       "            color:  #000000;\n",
       "        }    #T_316f3050_04dd_11ec_b942_acde48001122row5_col4 {\n",
       "            background-color:  #60ba6c;\n",
       "            color:  #000000;\n",
       "        }    #T_316f3050_04dd_11ec_b942_acde48001122row5_col5 {\n",
       "            background-color:  #00441b;\n",
       "            color:  #f1f1f1;\n",
       "        }</style><table id=\"T_316f3050_04dd_11ec_b942_acde48001122\" ><thead>    <tr>        <th class=\"blank level0\" ></th>        <th class=\"col_heading level0 col0\" >Capped Total Sprogs</th>        <th class=\"col_heading level0 col1\" >Capped Weighted_EWS_Score__c</th>        <th class=\"col_heading level0 col2\" >TLP_30Days_SalesService__c</th>        <th class=\"col_heading level0 col3\" >Platform_Adoption__c</th>        <th class=\"col_heading level0 col4\" >Core_Service_EWS_360_Score__c</th>        <th class=\"col_heading level0 col5\" >Core_SFA_EWS_360_Score__c</th>    </tr></thead><tbody>\n",
       "                <tr>\n",
       "                        <th id=\"T_316f3050_04dd_11ec_b942_acde48001122level0_row0\" class=\"row_heading level0 row0\" >Capped Total Sprogs</th>\n",
       "                        <td id=\"T_316f3050_04dd_11ec_b942_acde48001122row0_col0\" class=\"data row0 col0\" >1</td>\n",
       "                        <td id=\"T_316f3050_04dd_11ec_b942_acde48001122row0_col1\" class=\"data row0 col1\" >0.234</td>\n",
       "                        <td id=\"T_316f3050_04dd_11ec_b942_acde48001122row0_col2\" class=\"data row0 col2\" >0.0455</td>\n",
       "                        <td id=\"T_316f3050_04dd_11ec_b942_acde48001122row0_col3\" class=\"data row0 col3\" >0.213</td>\n",
       "                        <td id=\"T_316f3050_04dd_11ec_b942_acde48001122row0_col4\" class=\"data row0 col4\" >0.000181</td>\n",
       "                        <td id=\"T_316f3050_04dd_11ec_b942_acde48001122row0_col5\" class=\"data row0 col5\" >0.0162</td>\n",
       "            </tr>\n",
       "            <tr>\n",
       "                        <th id=\"T_316f3050_04dd_11ec_b942_acde48001122level0_row1\" class=\"row_heading level0 row1\" >Capped Weighted_EWS_Score__c</th>\n",
       "                        <td id=\"T_316f3050_04dd_11ec_b942_acde48001122row1_col0\" class=\"data row1 col0\" >0.234</td>\n",
       "                        <td id=\"T_316f3050_04dd_11ec_b942_acde48001122row1_col1\" class=\"data row1 col1\" >1</td>\n",
       "                        <td id=\"T_316f3050_04dd_11ec_b942_acde48001122row1_col2\" class=\"data row1 col2\" >0.237</td>\n",
       "                        <td id=\"T_316f3050_04dd_11ec_b942_acde48001122row1_col3\" class=\"data row1 col3\" >0.611</td>\n",
       "                        <td id=\"T_316f3050_04dd_11ec_b942_acde48001122row1_col4\" class=\"data row1 col4\" >0.259</td>\n",
       "                        <td id=\"T_316f3050_04dd_11ec_b942_acde48001122row1_col5\" class=\"data row1 col5\" >0.24</td>\n",
       "            </tr>\n",
       "            <tr>\n",
       "                        <th id=\"T_316f3050_04dd_11ec_b942_acde48001122level0_row2\" class=\"row_heading level0 row2\" >TLP_30Days_SalesService__c</th>\n",
       "                        <td id=\"T_316f3050_04dd_11ec_b942_acde48001122row2_col0\" class=\"data row2 col0\" >0.0455</td>\n",
       "                        <td id=\"T_316f3050_04dd_11ec_b942_acde48001122row2_col1\" class=\"data row2 col1\" >0.237</td>\n",
       "                        <td id=\"T_316f3050_04dd_11ec_b942_acde48001122row2_col2\" class=\"data row2 col2\" >1</td>\n",
       "                        <td id=\"T_316f3050_04dd_11ec_b942_acde48001122row2_col3\" class=\"data row2 col3\" >0.287</td>\n",
       "                        <td id=\"T_316f3050_04dd_11ec_b942_acde48001122row2_col4\" class=\"data row2 col4\" >0.499</td>\n",
       "                        <td id=\"T_316f3050_04dd_11ec_b942_acde48001122row2_col5\" class=\"data row2 col5\" >0.342</td>\n",
       "            </tr>\n",
       "            <tr>\n",
       "                        <th id=\"T_316f3050_04dd_11ec_b942_acde48001122level0_row3\" class=\"row_heading level0 row3\" >Platform_Adoption__c</th>\n",
       "                        <td id=\"T_316f3050_04dd_11ec_b942_acde48001122row3_col0\" class=\"data row3 col0\" >0.213</td>\n",
       "                        <td id=\"T_316f3050_04dd_11ec_b942_acde48001122row3_col1\" class=\"data row3 col1\" >0.611</td>\n",
       "                        <td id=\"T_316f3050_04dd_11ec_b942_acde48001122row3_col2\" class=\"data row3 col2\" >0.287</td>\n",
       "                        <td id=\"T_316f3050_04dd_11ec_b942_acde48001122row3_col3\" class=\"data row3 col3\" >1</td>\n",
       "                        <td id=\"T_316f3050_04dd_11ec_b942_acde48001122row3_col4\" class=\"data row3 col4\" >0.309</td>\n",
       "                        <td id=\"T_316f3050_04dd_11ec_b942_acde48001122row3_col5\" class=\"data row3 col5\" >0.256</td>\n",
       "            </tr>\n",
       "            <tr>\n",
       "                        <th id=\"T_316f3050_04dd_11ec_b942_acde48001122level0_row4\" class=\"row_heading level0 row4\" >Core_Service_EWS_360_Score__c</th>\n",
       "                        <td id=\"T_316f3050_04dd_11ec_b942_acde48001122row4_col0\" class=\"data row4 col0\" >0.000181</td>\n",
       "                        <td id=\"T_316f3050_04dd_11ec_b942_acde48001122row4_col1\" class=\"data row4 col1\" >0.259</td>\n",
       "                        <td id=\"T_316f3050_04dd_11ec_b942_acde48001122row4_col2\" class=\"data row4 col2\" >0.499</td>\n",
       "                        <td id=\"T_316f3050_04dd_11ec_b942_acde48001122row4_col3\" class=\"data row4 col3\" >0.309</td>\n",
       "                        <td id=\"T_316f3050_04dd_11ec_b942_acde48001122row4_col4\" class=\"data row4 col4\" >1</td>\n",
       "                        <td id=\"T_316f3050_04dd_11ec_b942_acde48001122row4_col5\" class=\"data row4 col5\" >0.55</td>\n",
       "            </tr>\n",
       "            <tr>\n",
       "                        <th id=\"T_316f3050_04dd_11ec_b942_acde48001122level0_row5\" class=\"row_heading level0 row5\" >Core_SFA_EWS_360_Score__c</th>\n",
       "                        <td id=\"T_316f3050_04dd_11ec_b942_acde48001122row5_col0\" class=\"data row5 col0\" >0.0162</td>\n",
       "                        <td id=\"T_316f3050_04dd_11ec_b942_acde48001122row5_col1\" class=\"data row5 col1\" >0.24</td>\n",
       "                        <td id=\"T_316f3050_04dd_11ec_b942_acde48001122row5_col2\" class=\"data row5 col2\" >0.342</td>\n",
       "                        <td id=\"T_316f3050_04dd_11ec_b942_acde48001122row5_col3\" class=\"data row5 col3\" >0.256</td>\n",
       "                        <td id=\"T_316f3050_04dd_11ec_b942_acde48001122row5_col4\" class=\"data row5 col4\" >0.55</td>\n",
       "                        <td id=\"T_316f3050_04dd_11ec_b942_acde48001122row5_col5\" class=\"data row5 col5\" >1</td>\n",
       "            </tr>\n",
       "    </tbody></table>"
      ],
      "text/plain": [
       "<pandas.io.formats.style.Styler at 0x7f8af4979cf8>"
      ]
     },
     "execution_count": 45,
     "metadata": {},
     "output_type": "execute_result"
    }
   ],
   "source": [
    "corr = AcctSuccessProgMergedSubset.corr()\n",
    "corr.style.background_gradient(cmap='Greens').set_precision(3)"
   ]
  },
  {
   "cell_type": "code",
   "execution_count": 46,
   "metadata": {},
   "outputs": [
    {
     "data": {
      "image/png": "[encoded data removed]",
      "text/plain": [
       "<Figure size 360x360 with 1 Axes>"
      ]
     },
     "metadata": {
      "needs_background": "light"
     },
     "output_type": "display_data"
    }
   ],
   "source": [
    "sns.relplot(x=\"Capped Total Sprogs\", y=\"Platform_Adoption__c\", data=AcctSuccessProgMergedSubset);"
   ]
  },
  {
   "cell_type": "code",
   "execution_count": 47,
   "metadata": {},
   "outputs": [],
   "source": [
    "from scipy.stats import kendalltau, pearsonr, spearmanr\n",
    "\n",
    "def kendall_pval(x,y):\n",
    "        return kendalltau(x,y)[1]\n",
    "    \n",
    "def pearsonr_pval(x,y):\n",
    "        return pearsonr(x,y)[1]\n",
    "    \n",
    "def spearmanr_pval(x,y):\n",
    "        return spearmanr(x,y)[1]"
   ]
  },
  {
   "cell_type": "code",
   "execution_count": 48,
   "metadata": {
    "scrolled": true
   },
   "outputs": [
    {
     "data": {
      "text/html": [
       "<div>\n",
       "<style scoped>\n",
       "    .dataframe tbody tr th:only-of-type {\n",
       "        vertical-align: middle;\n",
       "    }\n",
       "\n",
       "    .dataframe tbody tr th {\n",
       "        vertical-align: top;\n",
       "    }\n",
       "\n",
       "    .dataframe thead th {\n",
       "        text-align: right;\n",
       "    }\n",
       "</style>\n",
       "<table border=\"1\" class=\"dataframe\">\n",
       "  <thead>\n",
       "    <tr style=\"text-align: right;\">\n",
       "      <th></th>\n",
       "      <th>Capped Total Sprogs</th>\n",
       "      <th>Capped Weighted_EWS_Score__c</th>\n",
       "      <th>TLP_30Days_SalesService__c</th>\n",
       "      <th>Platform_Adoption__c</th>\n",
       "      <th>Core_Service_EWS_360_Score__c</th>\n",
       "      <th>Core_SFA_EWS_360_Score__c</th>\n",
       "    </tr>\n",
       "  </thead>\n",
       "  <tbody>\n",
       "    <tr>\n",
       "      <th>Capped Total Sprogs</th>\n",
       "      <td>1.000000e+00</td>\n",
       "      <td>2.087598e-160</td>\n",
       "      <td>2.694890e-07</td>\n",
       "      <td>7.530475e-129</td>\n",
       "      <td>9.867451e-01</td>\n",
       "      <td>1.519575e-01</td>\n",
       "    </tr>\n",
       "    <tr>\n",
       "      <th>Capped Weighted_EWS_Score__c</th>\n",
       "      <td>2.087598e-160</td>\n",
       "      <td>1.000000e+00</td>\n",
       "      <td>4.674749e-236</td>\n",
       "      <td>0.000000e+00</td>\n",
       "      <td>1.638225e-153</td>\n",
       "      <td>3.076030e-133</td>\n",
       "    </tr>\n",
       "    <tr>\n",
       "      <th>TLP_30Days_SalesService__c</th>\n",
       "      <td>2.694890e-07</td>\n",
       "      <td>4.674749e-236</td>\n",
       "      <td>1.000000e+00</td>\n",
       "      <td>0.000000e+00</td>\n",
       "      <td>0.000000e+00</td>\n",
       "      <td>2.983281e-278</td>\n",
       "    </tr>\n",
       "    <tr>\n",
       "      <th>Platform_Adoption__c</th>\n",
       "      <td>7.530475e-129</td>\n",
       "      <td>0.000000e+00</td>\n",
       "      <td>0.000000e+00</td>\n",
       "      <td>1.000000e+00</td>\n",
       "      <td>3.353299e-216</td>\n",
       "      <td>4.699634e-152</td>\n",
       "    </tr>\n",
       "    <tr>\n",
       "      <th>Core_Service_EWS_360_Score__c</th>\n",
       "      <td>9.867451e-01</td>\n",
       "      <td>1.638225e-153</td>\n",
       "      <td>0.000000e+00</td>\n",
       "      <td>3.353299e-216</td>\n",
       "      <td>1.000000e+00</td>\n",
       "      <td>0.000000e+00</td>\n",
       "    </tr>\n",
       "    <tr>\n",
       "      <th>Core_SFA_EWS_360_Score__c</th>\n",
       "      <td>1.519575e-01</td>\n",
       "      <td>3.076030e-133</td>\n",
       "      <td>2.983281e-278</td>\n",
       "      <td>4.699634e-152</td>\n",
       "      <td>0.000000e+00</td>\n",
       "      <td>1.000000e+00</td>\n",
       "    </tr>\n",
       "  </tbody>\n",
       "</table>\n",
       "</div>"
      ],
      "text/plain": [
       "                               Capped Total Sprogs  \\\n",
       "Capped Total Sprogs                   1.000000e+00   \n",
       "Capped Weighted_EWS_Score__c         2.087598e-160   \n",
       "TLP_30Days_SalesService__c            2.694890e-07   \n",
       "Platform_Adoption__c                 7.530475e-129   \n",
       "Core_Service_EWS_360_Score__c         9.867451e-01   \n",
       "Core_SFA_EWS_360_Score__c             1.519575e-01   \n",
       "\n",
       "                               Capped Weighted_EWS_Score__c  \\\n",
       "Capped Total Sprogs                           2.087598e-160   \n",
       "Capped Weighted_EWS_Score__c                   1.000000e+00   \n",
       "TLP_30Days_SalesService__c                    4.674749e-236   \n",
       "Platform_Adoption__c                           0.000000e+00   \n",
       "Core_Service_EWS_360_Score__c                 1.638225e-153   \n",
       "Core_SFA_EWS_360_Score__c                     3.076030e-133   \n",
       "\n",
       "                               TLP_30Days_SalesService__c  \\\n",
       "Capped Total Sprogs                          2.694890e-07   \n",
       "Capped Weighted_EWS_Score__c                4.674749e-236   \n",
       "TLP_30Days_SalesService__c                   1.000000e+00   \n",
       "Platform_Adoption__c                         0.000000e+00   \n",
       "Core_Service_EWS_360_Score__c                0.000000e+00   \n",
       "Core_SFA_EWS_360_Score__c                   2.983281e-278   \n",
       "\n",
       "                               Platform_Adoption__c  \\\n",
       "Capped Total Sprogs                   7.530475e-129   \n",
       "Capped Weighted_EWS_Score__c           0.000000e+00   \n",
       "TLP_30Days_SalesService__c             0.000000e+00   \n",
       "Platform_Adoption__c                   1.000000e+00   \n",
       "Core_Service_EWS_360_Score__c         3.353299e-216   \n",
       "Core_SFA_EWS_360_Score__c             4.699634e-152   \n",
       "\n",
       "                               Core_Service_EWS_360_Score__c  \\\n",
       "Capped Total Sprogs                             9.867451e-01   \n",
       "Capped Weighted_EWS_Score__c                   1.638225e-153   \n",
       "TLP_30Days_SalesService__c                      0.000000e+00   \n",
       "Platform_Adoption__c                           3.353299e-216   \n",
       "Core_Service_EWS_360_Score__c                   1.000000e+00   \n",
       "Core_SFA_EWS_360_Score__c                       0.000000e+00   \n",
       "\n",
       "                               Core_SFA_EWS_360_Score__c  \n",
       "Capped Total Sprogs                         1.519575e-01  \n",
       "Capped Weighted_EWS_Score__c               3.076030e-133  \n",
       "TLP_30Days_SalesService__c                 2.983281e-278  \n",
       "Platform_Adoption__c                       4.699634e-152  \n",
       "Core_Service_EWS_360_Score__c               0.000000e+00  \n",
       "Core_SFA_EWS_360_Score__c                   1.000000e+00  "
      ]
     },
     "execution_count": 48,
     "metadata": {},
     "output_type": "execute_result"
    }
   ],
   "source": [
    "corr2 = AcctSuccessProgMergedSubset.corr(method=pearsonr_pval)\n",
    "corr2"
   ]
  },
  {
   "cell_type": "code",
   "execution_count": 49,
   "metadata": {},
   "outputs": [
    {
     "data": {
      "text/html": [
       "<div>\n",
       "<style scoped>\n",
       "    .dataframe tbody tr th:only-of-type {\n",
       "        vertical-align: middle;\n",
       "    }\n",
       "\n",
       "    .dataframe tbody tr th {\n",
       "        vertical-align: top;\n",
       "    }\n",
       "\n",
       "    .dataframe thead th {\n",
       "        text-align: right;\n",
       "    }\n",
       "</style>\n",
       "<table border=\"1\" class=\"dataframe\">\n",
       "  <thead>\n",
       "    <tr style=\"text-align: right;\">\n",
       "      <th></th>\n",
       "      <th>Capped Total Sprogs</th>\n",
       "      <th>Capped Weighted_EWS_Score__c</th>\n",
       "      <th>TLP_30Days_SalesService__c</th>\n",
       "      <th>Platform_Adoption__c</th>\n",
       "      <th>Core_Service_EWS_360_Score__c</th>\n",
       "      <th>Core_SFA_EWS_360_Score__c</th>\n",
       "    </tr>\n",
       "  </thead>\n",
       "  <tbody>\n",
       "    <tr>\n",
       "      <th>Capped Total Sprogs</th>\n",
       "      <td>1.000000e+00</td>\n",
       "      <td>9.298863e-209</td>\n",
       "      <td>4.618427e-12</td>\n",
       "      <td>6.151637e-207</td>\n",
       "      <td>1.151487e-02</td>\n",
       "      <td>3.231280e-06</td>\n",
       "    </tr>\n",
       "    <tr>\n",
       "      <th>Capped Weighted_EWS_Score__c</th>\n",
       "      <td>9.298863e-209</td>\n",
       "      <td>1.000000e+00</td>\n",
       "      <td>3.819208e-169</td>\n",
       "      <td>0.000000e+00</td>\n",
       "      <td>2.656319e-128</td>\n",
       "      <td>4.850962e-140</td>\n",
       "    </tr>\n",
       "    <tr>\n",
       "      <th>TLP_30Days_SalesService__c</th>\n",
       "      <td>4.618427e-12</td>\n",
       "      <td>3.819208e-169</td>\n",
       "      <td>1.000000e+00</td>\n",
       "      <td>2.375278e-211</td>\n",
       "      <td>0.000000e+00</td>\n",
       "      <td>6.298464e-212</td>\n",
       "    </tr>\n",
       "    <tr>\n",
       "      <th>Platform_Adoption__c</th>\n",
       "      <td>6.151637e-207</td>\n",
       "      <td>0.000000e+00</td>\n",
       "      <td>2.375278e-211</td>\n",
       "      <td>1.000000e+00</td>\n",
       "      <td>1.987233e-207</td>\n",
       "      <td>1.964814e-135</td>\n",
       "    </tr>\n",
       "    <tr>\n",
       "      <th>Core_Service_EWS_360_Score__c</th>\n",
       "      <td>1.151487e-02</td>\n",
       "      <td>2.656319e-128</td>\n",
       "      <td>0.000000e+00</td>\n",
       "      <td>1.987233e-207</td>\n",
       "      <td>1.000000e+00</td>\n",
       "      <td>0.000000e+00</td>\n",
       "    </tr>\n",
       "    <tr>\n",
       "      <th>Core_SFA_EWS_360_Score__c</th>\n",
       "      <td>3.231280e-06</td>\n",
       "      <td>4.850962e-140</td>\n",
       "      <td>6.298464e-212</td>\n",
       "      <td>1.964814e-135</td>\n",
       "      <td>0.000000e+00</td>\n",
       "      <td>1.000000e+00</td>\n",
       "    </tr>\n",
       "  </tbody>\n",
       "</table>\n",
       "</div>"
      ],
      "text/plain": [
       "                               Capped Total Sprogs  \\\n",
       "Capped Total Sprogs                   1.000000e+00   \n",
       "Capped Weighted_EWS_Score__c         9.298863e-209   \n",
       "TLP_30Days_SalesService__c            4.618427e-12   \n",
       "Platform_Adoption__c                 6.151637e-207   \n",
       "Core_Service_EWS_360_Score__c         1.151487e-02   \n",
       "Core_SFA_EWS_360_Score__c             3.231280e-06   \n",
       "\n",
       "                               Capped Weighted_EWS_Score__c  \\\n",
       "Capped Total Sprogs                           9.298863e-209   \n",
       "Capped Weighted_EWS_Score__c                   1.000000e+00   \n",
       "TLP_30Days_SalesService__c                    3.819208e-169   \n",
       "Platform_Adoption__c                           0.000000e+00   \n",
       "Core_Service_EWS_360_Score__c                 2.656319e-128   \n",
       "Core_SFA_EWS_360_Score__c                     4.850962e-140   \n",
       "\n",
       "                               TLP_30Days_SalesService__c  \\\n",
       "Capped Total Sprogs                          4.618427e-12   \n",
       "Capped Weighted_EWS_Score__c                3.819208e-169   \n",
       "TLP_30Days_SalesService__c                   1.000000e+00   \n",
       "Platform_Adoption__c                        2.375278e-211   \n",
       "Core_Service_EWS_360_Score__c                0.000000e+00   \n",
       "Core_SFA_EWS_360_Score__c                   6.298464e-212   \n",
       "\n",
       "                               Platform_Adoption__c  \\\n",
       "Capped Total Sprogs                   6.151637e-207   \n",
       "Capped Weighted_EWS_Score__c           0.000000e+00   \n",
       "TLP_30Days_SalesService__c            2.375278e-211   \n",
       "Platform_Adoption__c                   1.000000e+00   \n",
       "Core_Service_EWS_360_Score__c         1.987233e-207   \n",
       "Core_SFA_EWS_360_Score__c             1.964814e-135   \n",
       "\n",
       "                               Core_Service_EWS_360_Score__c  \\\n",
       "Capped Total Sprogs                             1.151487e-02   \n",
       "Capped Weighted_EWS_Score__c                   2.656319e-128   \n",
       "TLP_30Days_SalesService__c                      0.000000e+00   \n",
       "Platform_Adoption__c                           1.987233e-207   \n",
       "Core_Service_EWS_360_Score__c                   1.000000e+00   \n",
       "Core_SFA_EWS_360_Score__c                       0.000000e+00   \n",
       "\n",
       "                               Core_SFA_EWS_360_Score__c  \n",
       "Capped Total Sprogs                         3.231280e-06  \n",
       "Capped Weighted_EWS_Score__c               4.850962e-140  \n",
       "TLP_30Days_SalesService__c                 6.298464e-212  \n",
       "Platform_Adoption__c                       1.964814e-135  \n",
       "Core_Service_EWS_360_Score__c               0.000000e+00  \n",
       "Core_SFA_EWS_360_Score__c                   1.000000e+00  "
      ]
     },
     "execution_count": 49,
     "metadata": {},
     "output_type": "execute_result"
    }
   ],
   "source": [
    "corr3 = AcctSuccessProgMergedSubset.corr(method=kendall_pval)\n",
    "corr3"
   ]
  },
  {
   "cell_type": "code",
   "execution_count": 50,
   "metadata": {},
   "outputs": [
    {
     "data": {
      "text/html": [
       "<div>\n",
       "<style scoped>\n",
       "    .dataframe tbody tr th:only-of-type {\n",
       "        vertical-align: middle;\n",
       "    }\n",
       "\n",
       "    .dataframe tbody tr th {\n",
       "        vertical-align: top;\n",
       "    }\n",
       "\n",
       "    .dataframe thead th {\n",
       "        text-align: right;\n",
       "    }\n",
       "</style>\n",
       "<table border=\"1\" class=\"dataframe\">\n",
       "  <thead>\n",
       "    <tr style=\"text-align: right;\">\n",
       "      <th></th>\n",
       "      <th>Capped Total Sprogs</th>\n",
       "      <th>Capped Weighted_EWS_Score__c</th>\n",
       "      <th>TLP_30Days_SalesService__c</th>\n",
       "      <th>Platform_Adoption__c</th>\n",
       "      <th>Core_Service_EWS_360_Score__c</th>\n",
       "      <th>Core_SFA_EWS_360_Score__c</th>\n",
       "    </tr>\n",
       "  </thead>\n",
       "  <tbody>\n",
       "    <tr>\n",
       "      <th>Capped Total Sprogs</th>\n",
       "      <td>1.000000e+00</td>\n",
       "      <td>1.598019e-214</td>\n",
       "      <td>4.825290e-12</td>\n",
       "      <td>3.606263e-212</td>\n",
       "      <td>6.010551e-03</td>\n",
       "      <td>1.621870e-06</td>\n",
       "    </tr>\n",
       "    <tr>\n",
       "      <th>Capped Weighted_EWS_Score__c</th>\n",
       "      <td>1.598019e-214</td>\n",
       "      <td>1.000000e+00</td>\n",
       "      <td>2.025652e-156</td>\n",
       "      <td>0.000000e+00</td>\n",
       "      <td>6.692856e-120</td>\n",
       "      <td>6.951146e-134</td>\n",
       "    </tr>\n",
       "    <tr>\n",
       "      <th>TLP_30Days_SalesService__c</th>\n",
       "      <td>4.825290e-12</td>\n",
       "      <td>2.025652e-156</td>\n",
       "      <td>1.000000e+00</td>\n",
       "      <td>1.072375e-204</td>\n",
       "      <td>0.000000e+00</td>\n",
       "      <td>9.395269e-218</td>\n",
       "    </tr>\n",
       "    <tr>\n",
       "      <th>Platform_Adoption__c</th>\n",
       "      <td>3.606263e-212</td>\n",
       "      <td>0.000000e+00</td>\n",
       "      <td>1.072375e-204</td>\n",
       "      <td>1.000000e+00</td>\n",
       "      <td>3.454441e-217</td>\n",
       "      <td>5.135379e-145</td>\n",
       "    </tr>\n",
       "    <tr>\n",
       "      <th>Core_Service_EWS_360_Score__c</th>\n",
       "      <td>6.010551e-03</td>\n",
       "      <td>6.692856e-120</td>\n",
       "      <td>0.000000e+00</td>\n",
       "      <td>3.454441e-217</td>\n",
       "      <td>1.000000e+00</td>\n",
       "      <td>0.000000e+00</td>\n",
       "    </tr>\n",
       "    <tr>\n",
       "      <th>Core_SFA_EWS_360_Score__c</th>\n",
       "      <td>1.621870e-06</td>\n",
       "      <td>6.951146e-134</td>\n",
       "      <td>9.395269e-218</td>\n",
       "      <td>5.135379e-145</td>\n",
       "      <td>0.000000e+00</td>\n",
       "      <td>1.000000e+00</td>\n",
       "    </tr>\n",
       "  </tbody>\n",
       "</table>\n",
       "</div>"
      ],
      "text/plain": [
       "                               Capped Total Sprogs  \\\n",
       "Capped Total Sprogs                   1.000000e+00   \n",
       "Capped Weighted_EWS_Score__c         1.598019e-214   \n",
       "TLP_30Days_SalesService__c            4.825290e-12   \n",
       "Platform_Adoption__c                 3.606263e-212   \n",
       "Core_Service_EWS_360_Score__c         6.010551e-03   \n",
       "Core_SFA_EWS_360_Score__c             1.621870e-06   \n",
       "\n",
       "                               Capped Weighted_EWS_Score__c  \\\n",
       "Capped Total Sprogs                           1.598019e-214   \n",
       "Capped Weighted_EWS_Score__c                   1.000000e+00   \n",
       "TLP_30Days_SalesService__c                    2.025652e-156   \n",
       "Platform_Adoption__c                           0.000000e+00   \n",
       "Core_Service_EWS_360_Score__c                 6.692856e-120   \n",
       "Core_SFA_EWS_360_Score__c                     6.951146e-134   \n",
       "\n",
       "                               TLP_30Days_SalesService__c  \\\n",
       "Capped Total Sprogs                          4.825290e-12   \n",
       "Capped Weighted_EWS_Score__c                2.025652e-156   \n",
       "TLP_30Days_SalesService__c                   1.000000e+00   \n",
       "Platform_Adoption__c                        1.072375e-204   \n",
       "Core_Service_EWS_360_Score__c                0.000000e+00   \n",
       "Core_SFA_EWS_360_Score__c                   9.395269e-218   \n",
       "\n",
       "                               Platform_Adoption__c  \\\n",
       "Capped Total Sprogs                   3.606263e-212   \n",
       "Capped Weighted_EWS_Score__c           0.000000e+00   \n",
       "TLP_30Days_SalesService__c            1.072375e-204   \n",
       "Platform_Adoption__c                   1.000000e+00   \n",
       "Core_Service_EWS_360_Score__c         3.454441e-217   \n",
       "Core_SFA_EWS_360_Score__c             5.135379e-145   \n",
       "\n",
       "                               Core_Service_EWS_360_Score__c  \\\n",
       "Capped Total Sprogs                             6.010551e-03   \n",
       "Capped Weighted_EWS_Score__c                   6.692856e-120   \n",
       "TLP_30Days_SalesService__c                      0.000000e+00   \n",
       "Platform_Adoption__c                           3.454441e-217   \n",
       "Core_Service_EWS_360_Score__c                   1.000000e+00   \n",
       "Core_SFA_EWS_360_Score__c                       0.000000e+00   \n",
       "\n",
       "                               Core_SFA_EWS_360_Score__c  \n",
       "Capped Total Sprogs                         1.621870e-06  \n",
       "Capped Weighted_EWS_Score__c               6.951146e-134  \n",
       "TLP_30Days_SalesService__c                 9.395269e-218  \n",
       "Platform_Adoption__c                       5.135379e-145  \n",
       "Core_Service_EWS_360_Score__c               0.000000e+00  \n",
       "Core_SFA_EWS_360_Score__c                   1.000000e+00  "
      ]
     },
     "execution_count": 50,
     "metadata": {},
     "output_type": "execute_result"
    }
   ],
   "source": [
    "corr4 = AcctSuccessProgMergedSubset.corr(method=spearmanr_pval)\n",
    "corr4"
   ]
  },
  {
   "cell_type": "code",
   "execution_count": null,
   "metadata": {},
   "outputs": [],
   "source": []
  },
  {
   "cell_type": "markdown",
   "metadata": {},
   "source": [
    "# Review impact of Has SM"
   ]
  },
  {
   "cell_type": "code",
   "execution_count": 51,
   "metadata": {},
   "outputs": [
    {
     "data": {
      "text/html": [
       "<div>\n",
       "<style scoped>\n",
       "    .dataframe tbody tr th:only-of-type {\n",
       "        vertical-align: middle;\n",
       "    }\n",
       "\n",
       "    .dataframe tbody tr th {\n",
       "        vertical-align: top;\n",
       "    }\n",
       "\n",
       "    .dataframe thead th {\n",
       "        text-align: right;\n",
       "    }\n",
       "</style>\n",
       "<table border=\"1\" class=\"dataframe\">\n",
       "  <thead>\n",
       "    <tr style=\"text-align: right;\">\n",
       "      <th></th>\n",
       "      <th>Account__r.CSG_Coverage__c</th>\n",
       "      <th>Account__r.AOV_Band__c</th>\n",
       "      <th>Account__r.CSM_lookup__r</th>\n",
       "      <th>Core_SFA_EWS_360_Score__c</th>\n",
       "      <th>Lightning_Adoption_Stage__c</th>\n",
       "      <th>Core_Service_EWS_360_Score__c</th>\n",
       "      <th>Weighted_EWS_Score__c</th>\n",
       "      <th>Platform_Adoption__c</th>\n",
       "      <th>Lightning_Adoption__c</th>\n",
       "      <th>Current_Adoption_Growth__c</th>\n",
       "      <th>...</th>\n",
       "      <th>Visualforce Check</th>\n",
       "      <th>Web</th>\n",
       "      <th>Webinar</th>\n",
       "      <th>Total Sprogs</th>\n",
       "      <th>High Count</th>\n",
       "      <th>Low Count</th>\n",
       "      <th>Tech Count</th>\n",
       "      <th>Capped Weighted_EWS_Score__c</th>\n",
       "      <th>Capped Total Sprogs</th>\n",
       "      <th>hasSM</th>\n",
       "    </tr>\n",
       "  </thead>\n",
       "  <tbody>\n",
       "    <tr>\n",
       "      <th>0</th>\n",
       "      <td>Focus</td>\n",
       "      <td>$0</td>\n",
       "      <td>NaN</td>\n",
       "      <td>14.0</td>\n",
       "      <td>0. None / Unknown</td>\n",
       "      <td>NaN</td>\n",
       "      <td>6120.0</td>\n",
       "      <td>0.00</td>\n",
       "      <td>No Lightning Usage</td>\n",
       "      <td>-36.48</td>\n",
       "      <td>...</td>\n",
       "      <td>NaN</td>\n",
       "      <td>NaN</td>\n",
       "      <td>NaN</td>\n",
       "      <td>NaN</td>\n",
       "      <td>NaN</td>\n",
       "      <td>NaN</td>\n",
       "      <td>NaN</td>\n",
       "      <td>6120.0</td>\n",
       "      <td>NaN</td>\n",
       "      <td>0</td>\n",
       "    </tr>\n",
       "    <tr>\n",
       "      <th>1</th>\n",
       "      <td>Focus</td>\n",
       "      <td>$1M-5M</td>\n",
       "      <td>[User]</td>\n",
       "      <td>91.0</td>\n",
       "      <td>4. Activation</td>\n",
       "      <td>81.0</td>\n",
       "      <td>8132.0</td>\n",
       "      <td>0.57</td>\n",
       "      <td>Lightning Enabled</td>\n",
       "      <td>-6.03</td>\n",
       "      <td>...</td>\n",
       "      <td>NaN</td>\n",
       "      <td>NaN</td>\n",
       "      <td>NaN</td>\n",
       "      <td>NaN</td>\n",
       "      <td>NaN</td>\n",
       "      <td>NaN</td>\n",
       "      <td>NaN</td>\n",
       "      <td>8132.0</td>\n",
       "      <td>NaN</td>\n",
       "      <td>1</td>\n",
       "    </tr>\n",
       "    <tr>\n",
       "      <th>2</th>\n",
       "      <td>Focus</td>\n",
       "      <td>$0</td>\n",
       "      <td>NaN</td>\n",
       "      <td>56.0</td>\n",
       "      <td>4. Activation</td>\n",
       "      <td>NaN</td>\n",
       "      <td>864.0</td>\n",
       "      <td>0.79</td>\n",
       "      <td>Lightning Enabled</td>\n",
       "      <td>-5.02</td>\n",
       "      <td>...</td>\n",
       "      <td>NaN</td>\n",
       "      <td>NaN</td>\n",
       "      <td>NaN</td>\n",
       "      <td>NaN</td>\n",
       "      <td>NaN</td>\n",
       "      <td>NaN</td>\n",
       "      <td>NaN</td>\n",
       "      <td>864.0</td>\n",
       "      <td>NaN</td>\n",
       "      <td>0</td>\n",
       "    </tr>\n",
       "    <tr>\n",
       "      <th>3</th>\n",
       "      <td>Top</td>\n",
       "      <td>$10k-50k</td>\n",
       "      <td>NaN</td>\n",
       "      <td>28.0</td>\n",
       "      <td>4. Activation</td>\n",
       "      <td>47.0</td>\n",
       "      <td>1406.0</td>\n",
       "      <td>0.09</td>\n",
       "      <td>Lightning Enabled</td>\n",
       "      <td>1.66</td>\n",
       "      <td>...</td>\n",
       "      <td>NaN</td>\n",
       "      <td>NaN</td>\n",
       "      <td>NaN</td>\n",
       "      <td>3.0</td>\n",
       "      <td>0.0</td>\n",
       "      <td>0.0</td>\n",
       "      <td>3.0</td>\n",
       "      <td>1406.0</td>\n",
       "      <td>3.0</td>\n",
       "      <td>0</td>\n",
       "    </tr>\n",
       "    <tr>\n",
       "      <th>4</th>\n",
       "      <td>Focus</td>\n",
       "      <td>$0</td>\n",
       "      <td>NaN</td>\n",
       "      <td>63.0</td>\n",
       "      <td>1. Awareness</td>\n",
       "      <td>NaN</td>\n",
       "      <td>576.0</td>\n",
       "      <td>0.79</td>\n",
       "      <td>No Lightning Usage</td>\n",
       "      <td>-4.88</td>\n",
       "      <td>...</td>\n",
       "      <td>NaN</td>\n",
       "      <td>NaN</td>\n",
       "      <td>NaN</td>\n",
       "      <td>NaN</td>\n",
       "      <td>NaN</td>\n",
       "      <td>NaN</td>\n",
       "      <td>NaN</td>\n",
       "      <td>576.0</td>\n",
       "      <td>NaN</td>\n",
       "      <td>0</td>\n",
       "    </tr>\n",
       "  </tbody>\n",
       "</table>\n",
       "<p>5 rows × 51 columns</p>\n",
       "</div>"
      ],
      "text/plain": [
       "  Account__r.CSG_Coverage__c Account__r.AOV_Band__c Account__r.CSM_lookup__r  \\\n",
       "0                      Focus                     $0                      NaN   \n",
       "1                      Focus                 $1M-5M                   [User]   \n",
       "2                      Focus                     $0                      NaN   \n",
       "3                        Top               $10k-50k                      NaN   \n",
       "4                      Focus                     $0                      NaN   \n",
       "\n",
       "   Core_SFA_EWS_360_Score__c Lightning_Adoption_Stage__c  \\\n",
       "0                       14.0           0. None / Unknown   \n",
       "1                       91.0               4. Activation   \n",
       "2                       56.0               4. Activation   \n",
       "3                       28.0               4. Activation   \n",
       "4                       63.0                1. Awareness   \n",
       "\n",
       "   Core_Service_EWS_360_Score__c  Weighted_EWS_Score__c  Platform_Adoption__c  \\\n",
       "0                            NaN                 6120.0                  0.00   \n",
       "1                           81.0                 8132.0                  0.57   \n",
       "2                            NaN                  864.0                  0.79   \n",
       "3                           47.0                 1406.0                  0.09   \n",
       "4                            NaN                  576.0                  0.79   \n",
       "\n",
       "  Lightning_Adoption__c  Current_Adoption_Growth__c  ...  Visualforce Check  \\\n",
       "0    No Lightning Usage                      -36.48  ...                NaN   \n",
       "1     Lightning Enabled                       -6.03  ...                NaN   \n",
       "2     Lightning Enabled                       -5.02  ...                NaN   \n",
       "3     Lightning Enabled                        1.66  ...                NaN   \n",
       "4    No Lightning Usage                       -4.88  ...                NaN   \n",
       "\n",
       "   Web  Webinar Total Sprogs High Count  Low Count  Tech Count  \\\n",
       "0  NaN      NaN          NaN        NaN        NaN         NaN   \n",
       "1  NaN      NaN          NaN        NaN        NaN         NaN   \n",
       "2  NaN      NaN          NaN        NaN        NaN         NaN   \n",
       "3  NaN      NaN          3.0        0.0        0.0         3.0   \n",
       "4  NaN      NaN          NaN        NaN        NaN         NaN   \n",
       "\n",
       "   Capped Weighted_EWS_Score__c  Capped Total Sprogs  hasSM  \n",
       "0                        6120.0                  NaN      0  \n",
       "1                        8132.0                  NaN      1  \n",
       "2                         864.0                  NaN      0  \n",
       "3                        1406.0                  3.0      0  \n",
       "4                         576.0                  NaN      0  \n",
       "\n",
       "[5 rows x 51 columns]"
      ]
     },
     "execution_count": 51,
     "metadata": {},
     "output_type": "execute_result"
    }
   ],
   "source": [
    "#Add flag for Has SM\n",
    "AcctSuccessProgMerged['hasSM'] = np.where(AcctSuccessProgMerged['Account__r.CSM_lookup__r']!= '[User]', 0, 1)\n",
    "AcctSuccessProgMerged.head()"
   ]
  },
  {
   "cell_type": "code",
   "execution_count": 52,
   "metadata": {},
   "outputs": [
    {
     "name": "stdout",
     "output_type": "stream",
     "text": [
      "13109\n"
     ]
    }
   ],
   "source": [
    "# total of Accts with SM\n",
    "print(AcctSuccessProgMerged['hasSM'].sum())"
   ]
  },
  {
   "cell_type": "code",
   "execution_count": 53,
   "metadata": {},
   "outputs": [
    {
     "data": {
      "text/plain": [
       "count    18787.000000\n",
       "mean         0.697770\n",
       "std          0.459237\n",
       "min          0.000000\n",
       "25%          0.000000\n",
       "50%          1.000000\n",
       "75%          1.000000\n",
       "max          1.000000\n",
       "Name: hasSM, dtype: float64"
      ]
     },
     "execution_count": 53,
     "metadata": {},
     "output_type": "execute_result"
    }
   ],
   "source": [
    "AcctSuccessProgMerged['hasSM'].describe()"
   ]
  },
  {
   "cell_type": "code",
   "execution_count": 54,
   "metadata": {},
   "outputs": [],
   "source": [
    "AcctSuccessProgMergedSubset2 = pd.DataFrame(AcctSuccessProgMerged,columns=['hasSM',\n",
    "                                                 'Capped Weighted_EWS_Score__c',\n",
    "                                                 'TLP_30Days_SalesService__c',\n",
    "                                                 'Platform_Adoption__c',   \n",
    "                                                 'Core_Service_EWS_360_Score__c', \n",
    "                                                 'Core_SFA_EWS_360_Score__c','Capped Total Sprogs'\n",
    "                                                    ,'High Count', \n",
    "                                                    'Low Count', 'Tech Count'])\n"
   ]
  },
  {
   "cell_type": "code",
   "execution_count": 55,
   "metadata": {},
   "outputs": [
    {
     "data": {
      "text/html": [
       "<style  type=\"text/css\" >\n",
       "    #T_3849ce4e_04dd_11ec_b942_acde48001122row0_col0 {\n",
       "            background-color:  #00441b;\n",
       "            color:  #f1f1f1;\n",
       "        }    #T_3849ce4e_04dd_11ec_b942_acde48001122row0_col1 {\n",
       "            background-color:  #dcf2d7;\n",
       "            color:  #000000;\n",
       "        }    #T_3849ce4e_04dd_11ec_b942_acde48001122row0_col2 {\n",
       "            background-color:  #eff9ec;\n",
       "            color:  #000000;\n",
       "        }    #T_3849ce4e_04dd_11ec_b942_acde48001122row0_col3 {\n",
       "            background-color:  #dff3da;\n",
       "            color:  #000000;\n",
       "        }    #T_3849ce4e_04dd_11ec_b942_acde48001122row0_col4 {\n",
       "            background-color:  #dcf2d7;\n",
       "            color:  #000000;\n",
       "        }    #T_3849ce4e_04dd_11ec_b942_acde48001122row0_col5 {\n",
       "            background-color:  #e8f6e3;\n",
       "            color:  #000000;\n",
       "        }    #T_3849ce4e_04dd_11ec_b942_acde48001122row0_col6 {\n",
       "            background-color:  #f7fcf5;\n",
       "            color:  #000000;\n",
       "        }    #T_3849ce4e_04dd_11ec_b942_acde48001122row0_col7 {\n",
       "            background-color:  #f7fcf5;\n",
       "            color:  #000000;\n",
       "        }    #T_3849ce4e_04dd_11ec_b942_acde48001122row0_col8 {\n",
       "            background-color:  #f7fcf5;\n",
       "            color:  #000000;\n",
       "        }    #T_3849ce4e_04dd_11ec_b942_acde48001122row0_col9 {\n",
       "            background-color:  #f6fcf4;\n",
       "            color:  #000000;\n",
       "        }    #T_3849ce4e_04dd_11ec_b942_acde48001122row1_col0 {\n",
       "            background-color:  #cfecc9;\n",
       "            color:  #000000;\n",
       "        }    #T_3849ce4e_04dd_11ec_b942_acde48001122row1_col1 {\n",
       "            background-color:  #00441b;\n",
       "            color:  #f1f1f1;\n",
       "        }    #T_3849ce4e_04dd_11ec_b942_acde48001122row1_col2 {\n",
       "            background-color:  #cbebc5;\n",
       "            color:  #000000;\n",
       "        }    #T_3849ce4e_04dd_11ec_b942_acde48001122row1_col3 {\n",
       "            background-color:  #48ae60;\n",
       "            color:  #000000;\n",
       "        }    #T_3849ce4e_04dd_11ec_b942_acde48001122row1_col4 {\n",
       "            background-color:  #c3e7bc;\n",
       "            color:  #000000;\n",
       "        }    #T_3849ce4e_04dd_11ec_b942_acde48001122row1_col5 {\n",
       "            background-color:  #cbeac4;\n",
       "            color:  #000000;\n",
       "        }    #T_3849ce4e_04dd_11ec_b942_acde48001122row1_col6 {\n",
       "            background-color:  #c0e6b9;\n",
       "            color:  #000000;\n",
       "        }    #T_3849ce4e_04dd_11ec_b942_acde48001122row1_col7 {\n",
       "            background-color:  #f2faef;\n",
       "            color:  #000000;\n",
       "        }    #T_3849ce4e_04dd_11ec_b942_acde48001122row1_col8 {\n",
       "            background-color:  #e7f6e3;\n",
       "            color:  #000000;\n",
       "        }    #T_3849ce4e_04dd_11ec_b942_acde48001122row1_col9 {\n",
       "            background-color:  #f5fbf2;\n",
       "            color:  #000000;\n",
       "        }    #T_3849ce4e_04dd_11ec_b942_acde48001122row2_col0 {\n",
       "            background-color:  #e7f6e3;\n",
       "            color:  #000000;\n",
       "        }    #T_3849ce4e_04dd_11ec_b942_acde48001122row2_col1 {\n",
       "            background-color:  #ccebc6;\n",
       "            color:  #000000;\n",
       "        }    #T_3849ce4e_04dd_11ec_b942_acde48001122row2_col2 {\n",
       "            background-color:  #00441b;\n",
       "            color:  #f1f1f1;\n",
       "        }    #T_3849ce4e_04dd_11ec_b942_acde48001122row2_col3 {\n",
       "            background-color:  #bde5b6;\n",
       "            color:  #000000;\n",
       "        }    #T_3849ce4e_04dd_11ec_b942_acde48001122row2_col4 {\n",
       "            background-color:  #73c476;\n",
       "            color:  #000000;\n",
       "        }    #T_3849ce4e_04dd_11ec_b942_acde48001122row2_col5 {\n",
       "            background-color:  #acdea6;\n",
       "            color:  #000000;\n",
       "        }    #T_3849ce4e_04dd_11ec_b942_acde48001122row2_col6 {\n",
       "            background-color:  #e9f7e5;\n",
       "            color:  #000000;\n",
       "        }    #T_3849ce4e_04dd_11ec_b942_acde48001122row2_col7 {\n",
       "            background-color:  #f5fbf3;\n",
       "            color:  #000000;\n",
       "        }    #T_3849ce4e_04dd_11ec_b942_acde48001122row2_col8 {\n",
       "            background-color:  #f2faef;\n",
       "            color:  #000000;\n",
       "        }    #T_3849ce4e_04dd_11ec_b942_acde48001122row2_col9 {\n",
       "            background-color:  #f6fcf4;\n",
       "            color:  #000000;\n",
       "        }    #T_3849ce4e_04dd_11ec_b942_acde48001122row3_col0 {\n",
       "            background-color:  #d3eecd;\n",
       "            color:  #000000;\n",
       "        }    #T_3849ce4e_04dd_11ec_b942_acde48001122row3_col1 {\n",
       "            background-color:  #48ae60;\n",
       "            color:  #000000;\n",
       "        }    #T_3849ce4e_04dd_11ec_b942_acde48001122row3_col2 {\n",
       "            background-color:  #bde5b6;\n",
       "            color:  #000000;\n",
       "        }    #T_3849ce4e_04dd_11ec_b942_acde48001122row3_col3 {\n",
       "            background-color:  #00441b;\n",
       "            color:  #f1f1f1;\n",
       "        }    #T_3849ce4e_04dd_11ec_b942_acde48001122row3_col4 {\n",
       "            background-color:  #b4e1ad;\n",
       "            color:  #000000;\n",
       "        }    #T_3849ce4e_04dd_11ec_b942_acde48001122row3_col5 {\n",
       "            background-color:  #c7e9c0;\n",
       "            color:  #000000;\n",
       "        }    #T_3849ce4e_04dd_11ec_b942_acde48001122row3_col6 {\n",
       "            background-color:  #c6e8bf;\n",
       "            color:  #000000;\n",
       "        }    #T_3849ce4e_04dd_11ec_b942_acde48001122row3_col7 {\n",
       "            background-color:  #f3faf0;\n",
       "            color:  #000000;\n",
       "        }    #T_3849ce4e_04dd_11ec_b942_acde48001122row3_col8 {\n",
       "            background-color:  #ebf7e7;\n",
       "            color:  #000000;\n",
       "        }    #T_3849ce4e_04dd_11ec_b942_acde48001122row3_col9 {\n",
       "            background-color:  #f5fbf3;\n",
       "            color:  #000000;\n",
       "        }    #T_3849ce4e_04dd_11ec_b942_acde48001122row4_col0 {\n",
       "            background-color:  #d3eecd;\n",
       "            color:  #000000;\n",
       "        }    #T_3849ce4e_04dd_11ec_b942_acde48001122row4_col1 {\n",
       "            background-color:  #c7e9c0;\n",
       "            color:  #000000;\n",
       "        }    #T_3849ce4e_04dd_11ec_b942_acde48001122row4_col2 {\n",
       "            background-color:  #75c477;\n",
       "            color:  #000000;\n",
       "        }    #T_3849ce4e_04dd_11ec_b942_acde48001122row4_col3 {\n",
       "            background-color:  #b6e2af;\n",
       "            color:  #000000;\n",
       "        }    #T_3849ce4e_04dd_11ec_b942_acde48001122row4_col4 {\n",
       "            background-color:  #00441b;\n",
       "            color:  #f1f1f1;\n",
       "        }    #T_3849ce4e_04dd_11ec_b942_acde48001122row4_col5 {\n",
       "            background-color:  #60ba6c;\n",
       "            color:  #000000;\n",
       "        }    #T_3849ce4e_04dd_11ec_b942_acde48001122row4_col6 {\n",
       "            background-color:  #f0f9ec;\n",
       "            color:  #000000;\n",
       "        }    #T_3849ce4e_04dd_11ec_b942_acde48001122row4_col7 {\n",
       "            background-color:  #f5fbf3;\n",
       "            color:  #000000;\n",
       "        }    #T_3849ce4e_04dd_11ec_b942_acde48001122row4_col8 {\n",
       "            background-color:  #f0f9ec;\n",
       "            color:  #000000;\n",
       "        }    #T_3849ce4e_04dd_11ec_b942_acde48001122row4_col9 {\n",
       "            background-color:  #f7fcf5;\n",
       "            color:  #000000;\n",
       "        }    #T_3849ce4e_04dd_11ec_b942_acde48001122row5_col0 {\n",
       "            background-color:  #ddf2d8;\n",
       "            color:  #000000;\n",
       "        }    #T_3849ce4e_04dd_11ec_b942_acde48001122row5_col1 {\n",
       "            background-color:  #cbebc5;\n",
       "            color:  #000000;\n",
       "        }    #T_3849ce4e_04dd_11ec_b942_acde48001122row5_col2 {\n",
       "            background-color:  #abdda5;\n",
       "            color:  #000000;\n",
       "        }    #T_3849ce4e_04dd_11ec_b942_acde48001122row5_col3 {\n",
       "            background-color:  #c7e9c0;\n",
       "            color:  #000000;\n",
       "        }    #T_3849ce4e_04dd_11ec_b942_acde48001122row5_col4 {\n",
       "            background-color:  #5eb96b;\n",
       "            color:  #000000;\n",
       "        }    #T_3849ce4e_04dd_11ec_b942_acde48001122row5_col5 {\n",
       "            background-color:  #00441b;\n",
       "            color:  #f1f1f1;\n",
       "        }    #T_3849ce4e_04dd_11ec_b942_acde48001122row5_col6 {\n",
       "            background-color:  #edf8ea;\n",
       "            color:  #000000;\n",
       "        }    #T_3849ce4e_04dd_11ec_b942_acde48001122row5_col7 {\n",
       "            background-color:  #f6fcf4;\n",
       "            color:  #000000;\n",
       "        }    #T_3849ce4e_04dd_11ec_b942_acde48001122row5_col8 {\n",
       "            background-color:  #f2faf0;\n",
       "            color:  #000000;\n",
       "        }    #T_3849ce4e_04dd_11ec_b942_acde48001122row5_col9 {\n",
       "            background-color:  #f5fbf2;\n",
       "            color:  #000000;\n",
       "        }    #T_3849ce4e_04dd_11ec_b942_acde48001122row6_col0 {\n",
       "            background-color:  #f7fcf5;\n",
       "            color:  #000000;\n",
       "        }    #T_3849ce4e_04dd_11ec_b942_acde48001122row6_col1 {\n",
       "            background-color:  #cdecc7;\n",
       "            color:  #000000;\n",
       "        }    #T_3849ce4e_04dd_11ec_b942_acde48001122row6_col2 {\n",
       "            background-color:  #f1faee;\n",
       "            color:  #000000;\n",
       "        }    #T_3849ce4e_04dd_11ec_b942_acde48001122row6_col3 {\n",
       "            background-color:  #d1edcb;\n",
       "            color:  #000000;\n",
       "        }    #T_3849ce4e_04dd_11ec_b942_acde48001122row6_col4 {\n",
       "            background-color:  #f6fcf4;\n",
       "            color:  #000000;\n",
       "        }    #T_3849ce4e_04dd_11ec_b942_acde48001122row6_col5 {\n",
       "            background-color:  #f6fcf4;\n",
       "            color:  #000000;\n",
       "        }    #T_3849ce4e_04dd_11ec_b942_acde48001122row6_col6 {\n",
       "            background-color:  #00441b;\n",
       "            color:  #f1f1f1;\n",
       "        }    #T_3849ce4e_04dd_11ec_b942_acde48001122row6_col7 {\n",
       "            background-color:  #ecf8e8;\n",
       "            color:  #000000;\n",
       "        }    #T_3849ce4e_04dd_11ec_b942_acde48001122row6_col8 {\n",
       "            background-color:  #d4eece;\n",
       "            color:  #000000;\n",
       "        }    #T_3849ce4e_04dd_11ec_b942_acde48001122row6_col9 {\n",
       "            background-color:  #edf8e9;\n",
       "            color:  #000000;\n",
       "        }    #T_3849ce4e_04dd_11ec_b942_acde48001122row7_col0 {\n",
       "            background-color:  #f0f9ec;\n",
       "            color:  #000000;\n",
       "        }    #T_3849ce4e_04dd_11ec_b942_acde48001122row7_col1 {\n",
       "            background-color:  #f4fbf1;\n",
       "            color:  #000000;\n",
       "        }    #T_3849ce4e_04dd_11ec_b942_acde48001122row7_col2 {\n",
       "            background-color:  #f6fcf4;\n",
       "            color:  #000000;\n",
       "        }    #T_3849ce4e_04dd_11ec_b942_acde48001122row7_col3 {\n",
       "            background-color:  #f4fbf1;\n",
       "            color:  #000000;\n",
       "        }    #T_3849ce4e_04dd_11ec_b942_acde48001122row7_col4 {\n",
       "            background-color:  #f4fbf2;\n",
       "            color:  #000000;\n",
       "        }    #T_3849ce4e_04dd_11ec_b942_acde48001122row7_col5 {\n",
       "            background-color:  #f7fcf5;\n",
       "            color:  #000000;\n",
       "        }    #T_3849ce4e_04dd_11ec_b942_acde48001122row7_col6 {\n",
       "            background-color:  #e5f5e1;\n",
       "            color:  #000000;\n",
       "        }    #T_3849ce4e_04dd_11ec_b942_acde48001122row7_col7 {\n",
       "            background-color:  #00441b;\n",
       "            color:  #f1f1f1;\n",
       "        }    #T_3849ce4e_04dd_11ec_b942_acde48001122row7_col8 {\n",
       "            background-color:  #0e7936;\n",
       "            color:  #f1f1f1;\n",
       "        }    #T_3849ce4e_04dd_11ec_b942_acde48001122row7_col9 {\n",
       "            background-color:  #f4fbf2;\n",
       "            color:  #000000;\n",
       "        }    #T_3849ce4e_04dd_11ec_b942_acde48001122row8_col0 {\n",
       "            background-color:  #eff9eb;\n",
       "            color:  #000000;\n",
       "        }    #T_3849ce4e_04dd_11ec_b942_acde48001122row8_col1 {\n",
       "            background-color:  #e8f6e3;\n",
       "            color:  #000000;\n",
       "        }    #T_3849ce4e_04dd_11ec_b942_acde48001122row8_col2 {\n",
       "            background-color:  #f1faee;\n",
       "            color:  #000000;\n",
       "        }    #T_3849ce4e_04dd_11ec_b942_acde48001122row8_col3 {\n",
       "            background-color:  #eaf7e6;\n",
       "            color:  #000000;\n",
       "        }    #T_3849ce4e_04dd_11ec_b942_acde48001122row8_col4 {\n",
       "            background-color:  #edf8ea;\n",
       "            color:  #000000;\n",
       "        }    #T_3849ce4e_04dd_11ec_b942_acde48001122row8_col5 {\n",
       "            background-color:  #f2faef;\n",
       "            color:  #000000;\n",
       "        }    #T_3849ce4e_04dd_11ec_b942_acde48001122row8_col6 {\n",
       "            background-color:  #c8e9c1;\n",
       "            color:  #000000;\n",
       "        }    #T_3849ce4e_04dd_11ec_b942_acde48001122row8_col7 {\n",
       "            background-color:  #0d7836;\n",
       "            color:  #f1f1f1;\n",
       "        }    #T_3849ce4e_04dd_11ec_b942_acde48001122row8_col8 {\n",
       "            background-color:  #00441b;\n",
       "            color:  #f1f1f1;\n",
       "        }    #T_3849ce4e_04dd_11ec_b942_acde48001122row8_col9 {\n",
       "            background-color:  #f0f9ed;\n",
       "            color:  #000000;\n",
       "        }    #T_3849ce4e_04dd_11ec_b942_acde48001122row9_col0 {\n",
       "            background-color:  #f0f9ec;\n",
       "            color:  #000000;\n",
       "        }    #T_3849ce4e_04dd_11ec_b942_acde48001122row9_col1 {\n",
       "            background-color:  #f7fcf5;\n",
       "            color:  #000000;\n",
       "        }    #T_3849ce4e_04dd_11ec_b942_acde48001122row9_col2 {\n",
       "            background-color:  #f7fcf5;\n",
       "            color:  #000000;\n",
       "        }    #T_3849ce4e_04dd_11ec_b942_acde48001122row9_col3 {\n",
       "            background-color:  #f7fcf5;\n",
       "            color:  #000000;\n",
       "        }    #T_3849ce4e_04dd_11ec_b942_acde48001122row9_col4 {\n",
       "            background-color:  #f7fcf5;\n",
       "            color:  #000000;\n",
       "        }    #T_3849ce4e_04dd_11ec_b942_acde48001122row9_col5 {\n",
       "            background-color:  #f7fcf5;\n",
       "            color:  #000000;\n",
       "        }    #T_3849ce4e_04dd_11ec_b942_acde48001122row9_col6 {\n",
       "            background-color:  #e7f6e2;\n",
       "            color:  #000000;\n",
       "        }    #T_3849ce4e_04dd_11ec_b942_acde48001122row9_col7 {\n",
       "            background-color:  #f5fbf3;\n",
       "            color:  #000000;\n",
       "        }    #T_3849ce4e_04dd_11ec_b942_acde48001122row9_col8 {\n",
       "            background-color:  #f2faf0;\n",
       "            color:  #000000;\n",
       "        }    #T_3849ce4e_04dd_11ec_b942_acde48001122row9_col9 {\n",
       "            background-color:  #00441b;\n",
       "            color:  #f1f1f1;\n",
       "        }</style><table id=\"T_3849ce4e_04dd_11ec_b942_acde48001122\" ><thead>    <tr>        <th class=\"blank level0\" ></th>        <th class=\"col_heading level0 col0\" >hasSM</th>        <th class=\"col_heading level0 col1\" >Capped Weighted_EWS_Score__c</th>        <th class=\"col_heading level0 col2\" >TLP_30Days_SalesService__c</th>        <th class=\"col_heading level0 col3\" >Platform_Adoption__c</th>        <th class=\"col_heading level0 col4\" >Core_Service_EWS_360_Score__c</th>        <th class=\"col_heading level0 col5\" >Core_SFA_EWS_360_Score__c</th>        <th class=\"col_heading level0 col6\" >Capped Total Sprogs</th>        <th class=\"col_heading level0 col7\" >High Count</th>        <th class=\"col_heading level0 col8\" >Low Count</th>        <th class=\"col_heading level0 col9\" >Tech Count</th>    </tr></thead><tbody>\n",
       "                <tr>\n",
       "                        <th id=\"T_3849ce4e_04dd_11ec_b942_acde48001122level0_row0\" class=\"row_heading level0 row0\" >hasSM</th>\n",
       "                        <td id=\"T_3849ce4e_04dd_11ec_b942_acde48001122row0_col0\" class=\"data row0 col0\" >1</td>\n",
       "                        <td id=\"T_3849ce4e_04dd_11ec_b942_acde48001122row0_col1\" class=\"data row0 col1\" >0.17</td>\n",
       "                        <td id=\"T_3849ce4e_04dd_11ec_b942_acde48001122row0_col2\" class=\"data row0 col2\" >0.0593</td>\n",
       "                        <td id=\"T_3849ce4e_04dd_11ec_b942_acde48001122row0_col3\" class=\"data row0 col3\" >0.155</td>\n",
       "                        <td id=\"T_3849ce4e_04dd_11ec_b942_acde48001122row0_col4\" class=\"data row0 col4\" >0.156</td>\n",
       "                        <td id=\"T_3849ce4e_04dd_11ec_b942_acde48001122row0_col5\" class=\"data row0 col5\" >0.112</td>\n",
       "                        <td id=\"T_3849ce4e_04dd_11ec_b942_acde48001122row0_col6\" class=\"data row0 col6\" >-0.0568</td>\n",
       "                        <td id=\"T_3849ce4e_04dd_11ec_b942_acde48001122row0_col7\" class=\"data row0 col7\" >-0.000937</td>\n",
       "                        <td id=\"T_3849ce4e_04dd_11ec_b942_acde48001122row0_col8\" class=\"data row0 col8\" >0.00827</td>\n",
       "                        <td id=\"T_3849ce4e_04dd_11ec_b942_acde48001122row0_col9\" class=\"data row0 col9\" >0.000113</td>\n",
       "            </tr>\n",
       "            <tr>\n",
       "                        <th id=\"T_3849ce4e_04dd_11ec_b942_acde48001122level0_row1\" class=\"row_heading level0 row1\" >Capped Weighted_EWS_Score__c</th>\n",
       "                        <td id=\"T_3849ce4e_04dd_11ec_b942_acde48001122row1_col0\" class=\"data row1 col0\" >0.17</td>\n",
       "                        <td id=\"T_3849ce4e_04dd_11ec_b942_acde48001122row1_col1\" class=\"data row1 col1\" >1</td>\n",
       "                        <td id=\"T_3849ce4e_04dd_11ec_b942_acde48001122row1_col2\" class=\"data row1 col2\" >0.237</td>\n",
       "                        <td id=\"T_3849ce4e_04dd_11ec_b942_acde48001122row1_col3\" class=\"data row1 col3\" >0.611</td>\n",
       "                        <td id=\"T_3849ce4e_04dd_11ec_b942_acde48001122row1_col4\" class=\"data row1 col4\" >0.259</td>\n",
       "                        <td id=\"T_3849ce4e_04dd_11ec_b942_acde48001122row1_col5\" class=\"data row1 col5\" >0.24</td>\n",
       "                        <td id=\"T_3849ce4e_04dd_11ec_b942_acde48001122row1_col6\" class=\"data row1 col6\" >0.234</td>\n",
       "                        <td id=\"T_3849ce4e_04dd_11ec_b942_acde48001122row1_col7\" class=\"data row1 col7\" >0.0367</td>\n",
       "                        <td id=\"T_3849ce4e_04dd_11ec_b942_acde48001122row1_col8\" class=\"data row1 col8\" >0.117</td>\n",
       "                        <td id=\"T_3849ce4e_04dd_11ec_b942_acde48001122row1_col9\" class=\"data row1 col9\" >0.0108</td>\n",
       "            </tr>\n",
       "            <tr>\n",
       "                        <th id=\"T_3849ce4e_04dd_11ec_b942_acde48001122level0_row2\" class=\"row_heading level0 row2\" >TLP_30Days_SalesService__c</th>\n",
       "                        <td id=\"T_3849ce4e_04dd_11ec_b942_acde48001122row2_col0\" class=\"data row2 col0\" >0.0593</td>\n",
       "                        <td id=\"T_3849ce4e_04dd_11ec_b942_acde48001122row2_col1\" class=\"data row2 col1\" >0.237</td>\n",
       "                        <td id=\"T_3849ce4e_04dd_11ec_b942_acde48001122row2_col2\" class=\"data row2 col2\" >1</td>\n",
       "                        <td id=\"T_3849ce4e_04dd_11ec_b942_acde48001122row2_col3\" class=\"data row2 col3\" >0.287</td>\n",
       "                        <td id=\"T_3849ce4e_04dd_11ec_b942_acde48001122row2_col4\" class=\"data row2 col4\" >0.499</td>\n",
       "                        <td id=\"T_3849ce4e_04dd_11ec_b942_acde48001122row2_col5\" class=\"data row2 col5\" >0.342</td>\n",
       "                        <td id=\"T_3849ce4e_04dd_11ec_b942_acde48001122row2_col6\" class=\"data row2 col6\" >0.0455</td>\n",
       "                        <td id=\"T_3849ce4e_04dd_11ec_b942_acde48001122row2_col7\" class=\"data row2 col7\" >0.0126</td>\n",
       "                        <td id=\"T_3849ce4e_04dd_11ec_b942_acde48001122row2_col8\" class=\"data row2 col8\" >0.0438</td>\n",
       "                        <td id=\"T_3849ce4e_04dd_11ec_b942_acde48001122row2_col9\" class=\"data row2 col9\" >0.00356</td>\n",
       "            </tr>\n",
       "            <tr>\n",
       "                        <th id=\"T_3849ce4e_04dd_11ec_b942_acde48001122level0_row3\" class=\"row_heading level0 row3\" >Platform_Adoption__c</th>\n",
       "                        <td id=\"T_3849ce4e_04dd_11ec_b942_acde48001122row3_col0\" class=\"data row3 col0\" >0.155</td>\n",
       "                        <td id=\"T_3849ce4e_04dd_11ec_b942_acde48001122row3_col1\" class=\"data row3 col1\" >0.611</td>\n",
       "                        <td id=\"T_3849ce4e_04dd_11ec_b942_acde48001122row3_col2\" class=\"data row3 col2\" >0.287</td>\n",
       "                        <td id=\"T_3849ce4e_04dd_11ec_b942_acde48001122row3_col3\" class=\"data row3 col3\" >1</td>\n",
       "                        <td id=\"T_3849ce4e_04dd_11ec_b942_acde48001122row3_col4\" class=\"data row3 col4\" >0.309</td>\n",
       "                        <td id=\"T_3849ce4e_04dd_11ec_b942_acde48001122row3_col5\" class=\"data row3 col5\" >0.256</td>\n",
       "                        <td id=\"T_3849ce4e_04dd_11ec_b942_acde48001122row3_col6\" class=\"data row3 col6\" >0.213</td>\n",
       "                        <td id=\"T_3849ce4e_04dd_11ec_b942_acde48001122row3_col7\" class=\"data row3 col7\" >0.0283</td>\n",
       "                        <td id=\"T_3849ce4e_04dd_11ec_b942_acde48001122row3_col8\" class=\"data row3 col8\" >0.0964</td>\n",
       "                        <td id=\"T_3849ce4e_04dd_11ec_b942_acde48001122row3_col9\" class=\"data row3 col9\" >0.00488</td>\n",
       "            </tr>\n",
       "            <tr>\n",
       "                        <th id=\"T_3849ce4e_04dd_11ec_b942_acde48001122level0_row4\" class=\"row_heading level0 row4\" >Core_Service_EWS_360_Score__c</th>\n",
       "                        <td id=\"T_3849ce4e_04dd_11ec_b942_acde48001122row4_col0\" class=\"data row4 col0\" >0.156</td>\n",
       "                        <td id=\"T_3849ce4e_04dd_11ec_b942_acde48001122row4_col1\" class=\"data row4 col1\" >0.259</td>\n",
       "                        <td id=\"T_3849ce4e_04dd_11ec_b942_acde48001122row4_col2\" class=\"data row4 col2\" >0.499</td>\n",
       "                        <td id=\"T_3849ce4e_04dd_11ec_b942_acde48001122row4_col3\" class=\"data row4 col3\" >0.309</td>\n",
       "                        <td id=\"T_3849ce4e_04dd_11ec_b942_acde48001122row4_col4\" class=\"data row4 col4\" >1</td>\n",
       "                        <td id=\"T_3849ce4e_04dd_11ec_b942_acde48001122row4_col5\" class=\"data row4 col5\" >0.55</td>\n",
       "                        <td id=\"T_3849ce4e_04dd_11ec_b942_acde48001122row4_col6\" class=\"data row4 col6\" >0.000181</td>\n",
       "                        <td id=\"T_3849ce4e_04dd_11ec_b942_acde48001122row4_col7\" class=\"data row4 col7\" >0.0123</td>\n",
       "                        <td id=\"T_3849ce4e_04dd_11ec_b942_acde48001122row4_col8\" class=\"data row4 col8\" >0.0597</td>\n",
       "                        <td id=\"T_3849ce4e_04dd_11ec_b942_acde48001122row4_col9\" class=\"data row4 col9\" >-0.00795</td>\n",
       "            </tr>\n",
       "            <tr>\n",
       "                        <th id=\"T_3849ce4e_04dd_11ec_b942_acde48001122level0_row5\" class=\"row_heading level0 row5\" >Core_SFA_EWS_360_Score__c</th>\n",
       "                        <td id=\"T_3849ce4e_04dd_11ec_b942_acde48001122row5_col0\" class=\"data row5 col0\" >0.112</td>\n",
       "                        <td id=\"T_3849ce4e_04dd_11ec_b942_acde48001122row5_col1\" class=\"data row5 col1\" >0.24</td>\n",
       "                        <td id=\"T_3849ce4e_04dd_11ec_b942_acde48001122row5_col2\" class=\"data row5 col2\" >0.342</td>\n",
       "                        <td id=\"T_3849ce4e_04dd_11ec_b942_acde48001122row5_col3\" class=\"data row5 col3\" >0.256</td>\n",
       "                        <td id=\"T_3849ce4e_04dd_11ec_b942_acde48001122row5_col4\" class=\"data row5 col4\" >0.55</td>\n",
       "                        <td id=\"T_3849ce4e_04dd_11ec_b942_acde48001122row5_col5\" class=\"data row5 col5\" >1</td>\n",
       "                        <td id=\"T_3849ce4e_04dd_11ec_b942_acde48001122row5_col6\" class=\"data row5 col6\" >0.0162</td>\n",
       "                        <td id=\"T_3849ce4e_04dd_11ec_b942_acde48001122row5_col7\" class=\"data row5 col7\" >0.00603</td>\n",
       "                        <td id=\"T_3849ce4e_04dd_11ec_b942_acde48001122row5_col8\" class=\"data row5 col8\" >0.0423</td>\n",
       "                        <td id=\"T_3849ce4e_04dd_11ec_b942_acde48001122row5_col9\" class=\"data row5 col9\" >0.00927</td>\n",
       "            </tr>\n",
       "            <tr>\n",
       "                        <th id=\"T_3849ce4e_04dd_11ec_b942_acde48001122level0_row6\" class=\"row_heading level0 row6\" >Capped Total Sprogs</th>\n",
       "                        <td id=\"T_3849ce4e_04dd_11ec_b942_acde48001122row6_col0\" class=\"data row6 col0\" >-0.0568</td>\n",
       "                        <td id=\"T_3849ce4e_04dd_11ec_b942_acde48001122row6_col1\" class=\"data row6 col1\" >0.234</td>\n",
       "                        <td id=\"T_3849ce4e_04dd_11ec_b942_acde48001122row6_col2\" class=\"data row6 col2\" >0.0455</td>\n",
       "                        <td id=\"T_3849ce4e_04dd_11ec_b942_acde48001122row6_col3\" class=\"data row6 col3\" >0.213</td>\n",
       "                        <td id=\"T_3849ce4e_04dd_11ec_b942_acde48001122row6_col4\" class=\"data row6 col4\" >0.000181</td>\n",
       "                        <td id=\"T_3849ce4e_04dd_11ec_b942_acde48001122row6_col5\" class=\"data row6 col5\" >0.0162</td>\n",
       "                        <td id=\"T_3849ce4e_04dd_11ec_b942_acde48001122row6_col6\" class=\"data row6 col6\" >1</td>\n",
       "                        <td id=\"T_3849ce4e_04dd_11ec_b942_acde48001122row6_col7\" class=\"data row6 col7\" >0.0742</td>\n",
       "                        <td id=\"T_3849ce4e_04dd_11ec_b942_acde48001122row6_col8\" class=\"data row6 col8\" >0.205</td>\n",
       "                        <td id=\"T_3849ce4e_04dd_11ec_b942_acde48001122row6_col9\" class=\"data row6 col9\" >0.0659</td>\n",
       "            </tr>\n",
       "            <tr>\n",
       "                        <th id=\"T_3849ce4e_04dd_11ec_b942_acde48001122level0_row7\" class=\"row_heading level0 row7\" >High Count</th>\n",
       "                        <td id=\"T_3849ce4e_04dd_11ec_b942_acde48001122row7_col0\" class=\"data row7 col0\" >-0.000937</td>\n",
       "                        <td id=\"T_3849ce4e_04dd_11ec_b942_acde48001122row7_col1\" class=\"data row7 col1\" >0.0367</td>\n",
       "                        <td id=\"T_3849ce4e_04dd_11ec_b942_acde48001122row7_col2\" class=\"data row7 col2\" >0.0126</td>\n",
       "                        <td id=\"T_3849ce4e_04dd_11ec_b942_acde48001122row7_col3\" class=\"data row7 col3\" >0.0283</td>\n",
       "                        <td id=\"T_3849ce4e_04dd_11ec_b942_acde48001122row7_col4\" class=\"data row7 col4\" >0.0123</td>\n",
       "                        <td id=\"T_3849ce4e_04dd_11ec_b942_acde48001122row7_col5\" class=\"data row7 col5\" >0.00603</td>\n",
       "                        <td id=\"T_3849ce4e_04dd_11ec_b942_acde48001122row7_col6\" class=\"data row7 col6\" >0.0742</td>\n",
       "                        <td id=\"T_3849ce4e_04dd_11ec_b942_acde48001122row7_col7\" class=\"data row7 col7\" >1</td>\n",
       "                        <td id=\"T_3849ce4e_04dd_11ec_b942_acde48001122row7_col8\" class=\"data row7 col8\" >0.824</td>\n",
       "                        <td id=\"T_3849ce4e_04dd_11ec_b942_acde48001122row7_col9\" class=\"data row7 col9\" >0.014</td>\n",
       "            </tr>\n",
       "            <tr>\n",
       "                        <th id=\"T_3849ce4e_04dd_11ec_b942_acde48001122level0_row8\" class=\"row_heading level0 row8\" >Low Count</th>\n",
       "                        <td id=\"T_3849ce4e_04dd_11ec_b942_acde48001122row8_col0\" class=\"data row8 col0\" >0.00827</td>\n",
       "                        <td id=\"T_3849ce4e_04dd_11ec_b942_acde48001122row8_col1\" class=\"data row8 col1\" >0.117</td>\n",
       "                        <td id=\"T_3849ce4e_04dd_11ec_b942_acde48001122row8_col2\" class=\"data row8 col2\" >0.0438</td>\n",
       "                        <td id=\"T_3849ce4e_04dd_11ec_b942_acde48001122row8_col3\" class=\"data row8 col3\" >0.0964</td>\n",
       "                        <td id=\"T_3849ce4e_04dd_11ec_b942_acde48001122row8_col4\" class=\"data row8 col4\" >0.0597</td>\n",
       "                        <td id=\"T_3849ce4e_04dd_11ec_b942_acde48001122row8_col5\" class=\"data row8 col5\" >0.0423</td>\n",
       "                        <td id=\"T_3849ce4e_04dd_11ec_b942_acde48001122row8_col6\" class=\"data row8 col6\" >0.205</td>\n",
       "                        <td id=\"T_3849ce4e_04dd_11ec_b942_acde48001122row8_col7\" class=\"data row8 col7\" >0.824</td>\n",
       "                        <td id=\"T_3849ce4e_04dd_11ec_b942_acde48001122row8_col8\" class=\"data row8 col8\" >1</td>\n",
       "                        <td id=\"T_3849ce4e_04dd_11ec_b942_acde48001122row8_col9\" class=\"data row8 col9\" >0.0405</td>\n",
       "            </tr>\n",
       "            <tr>\n",
       "                        <th id=\"T_3849ce4e_04dd_11ec_b942_acde48001122level0_row9\" class=\"row_heading level0 row9\" >Tech Count</th>\n",
       "                        <td id=\"T_3849ce4e_04dd_11ec_b942_acde48001122row9_col0\" class=\"data row9 col0\" >0.000113</td>\n",
       "                        <td id=\"T_3849ce4e_04dd_11ec_b942_acde48001122row9_col1\" class=\"data row9 col1\" >0.0108</td>\n",
       "                        <td id=\"T_3849ce4e_04dd_11ec_b942_acde48001122row9_col2\" class=\"data row9 col2\" >0.00356</td>\n",
       "                        <td id=\"T_3849ce4e_04dd_11ec_b942_acde48001122row9_col3\" class=\"data row9 col3\" >0.00488</td>\n",
       "                        <td id=\"T_3849ce4e_04dd_11ec_b942_acde48001122row9_col4\" class=\"data row9 col4\" >-0.00795</td>\n",
       "                        <td id=\"T_3849ce4e_04dd_11ec_b942_acde48001122row9_col5\" class=\"data row9 col5\" >0.00927</td>\n",
       "                        <td id=\"T_3849ce4e_04dd_11ec_b942_acde48001122row9_col6\" class=\"data row9 col6\" >0.0659</td>\n",
       "                        <td id=\"T_3849ce4e_04dd_11ec_b942_acde48001122row9_col7\" class=\"data row9 col7\" >0.014</td>\n",
       "                        <td id=\"T_3849ce4e_04dd_11ec_b942_acde48001122row9_col8\" class=\"data row9 col8\" >0.0405</td>\n",
       "                        <td id=\"T_3849ce4e_04dd_11ec_b942_acde48001122row9_col9\" class=\"data row9 col9\" >1</td>\n",
       "            </tr>\n",
       "    </tbody></table>"
      ],
      "text/plain": [
       "<pandas.io.formats.style.Styler at 0x7f8af2de1438>"
      ]
     },
     "execution_count": 55,
     "metadata": {},
     "output_type": "execute_result"
    }
   ],
   "source": [
    "corr = AcctSuccessProgMergedSubset2.corr()\n",
    "corr.style.background_gradient(cmap='Greens').set_precision(3)"
   ]
  },
  {
   "cell_type": "code",
   "execution_count": 56,
   "metadata": {},
   "outputs": [],
   "source": [
    "SMRelevant_cols = ['Core_SFA_EWS_360_Score__c',\n",
    "       'Core_Service_EWS_360_Score__c',\n",
    "       'Capped Weighted_EWS_Score__c', \n",
    "    'Platform_Adoption__c',\n",
    "       'Current_Adoption_Growth__c',\n",
    "        'Capped Total Sprogs''High Count', 'Low Count', 'Tech Count']\n",
    "       "
   ]
  },
  {
   "cell_type": "code",
   "execution_count": 57,
   "metadata": {
    "scrolled": true
   },
   "outputs": [
    {
     "data": {
      "text/html": [
       "<div>\n",
       "<style scoped>\n",
       "    .dataframe tbody tr th:only-of-type {\n",
       "        vertical-align: middle;\n",
       "    }\n",
       "\n",
       "    .dataframe tbody tr th {\n",
       "        vertical-align: top;\n",
       "    }\n",
       "\n",
       "    .dataframe thead th {\n",
       "        text-align: right;\n",
       "    }\n",
       "</style>\n",
       "<table border=\"1\" class=\"dataframe\">\n",
       "  <thead>\n",
       "    <tr style=\"text-align: right;\">\n",
       "      <th>hasSM</th>\n",
       "      <th>0</th>\n",
       "      <th>1</th>\n",
       "    </tr>\n",
       "  </thead>\n",
       "  <tbody>\n",
       "    <tr>\n",
       "      <th>Capped Weighted_EWS_Score__c</th>\n",
       "      <td>6890.729949</td>\n",
       "      <td>12520.474132</td>\n",
       "    </tr>\n",
       "    <tr>\n",
       "      <th>TLP_30Days_SalesService__c</th>\n",
       "      <td>63.455387</td>\n",
       "      <td>67.478403</td>\n",
       "    </tr>\n",
       "    <tr>\n",
       "      <th>Platform_Adoption__c</th>\n",
       "      <td>0.392360</td>\n",
       "      <td>0.503482</td>\n",
       "    </tr>\n",
       "    <tr>\n",
       "      <th>Core_Service_EWS_360_Score__c</th>\n",
       "      <td>54.735025</td>\n",
       "      <td>61.580164</td>\n",
       "    </tr>\n",
       "    <tr>\n",
       "      <th>Core_SFA_EWS_360_Score__c</th>\n",
       "      <td>47.239110</td>\n",
       "      <td>52.866922</td>\n",
       "    </tr>\n",
       "    <tr>\n",
       "      <th>Capped Total Sprogs</th>\n",
       "      <td>28.164218</td>\n",
       "      <td>24.333900</td>\n",
       "    </tr>\n",
       "    <tr>\n",
       "      <th>High Count</th>\n",
       "      <td>1.170268</td>\n",
       "      <td>1.120365</td>\n",
       "    </tr>\n",
       "    <tr>\n",
       "      <th>Low Count</th>\n",
       "      <td>5.652550</td>\n",
       "      <td>6.258897</td>\n",
       "    </tr>\n",
       "    <tr>\n",
       "      <th>Tech Count</th>\n",
       "      <td>103.461827</td>\n",
       "      <td>104.237438</td>\n",
       "    </tr>\n",
       "  </tbody>\n",
       "</table>\n",
       "</div>"
      ],
      "text/plain": [
       "hasSM                                    0             1\n",
       "Capped Weighted_EWS_Score__c   6890.729949  12520.474132\n",
       "TLP_30Days_SalesService__c       63.455387     67.478403\n",
       "Platform_Adoption__c              0.392360      0.503482\n",
       "Core_Service_EWS_360_Score__c    54.735025     61.580164\n",
       "Core_SFA_EWS_360_Score__c        47.239110     52.866922\n",
       "Capped Total Sprogs              28.164218     24.333900\n",
       "High Count                        1.170268      1.120365\n",
       "Low Count                         5.652550      6.258897\n",
       "Tech Count                      103.461827    104.237438"
      ]
     },
     "execution_count": 57,
     "metadata": {},
     "output_type": "execute_result"
    }
   ],
   "source": [
    "# Grouped by hasSM \n",
    "SMTable = AcctSuccessProgMergedSubset2.groupby(['hasSM']).mean().transpose()\n",
    "SMTable"
   ]
  },
  {
   "cell_type": "code",
   "execution_count": 58,
   "metadata": {},
   "outputs": [
    {
     "data": {
      "text/html": [
       "<div>\n",
       "<style scoped>\n",
       "    .dataframe tbody tr th:only-of-type {\n",
       "        vertical-align: middle;\n",
       "    }\n",
       "\n",
       "    .dataframe tbody tr th {\n",
       "        vertical-align: top;\n",
       "    }\n",
       "\n",
       "    .dataframe thead th {\n",
       "        text-align: right;\n",
       "    }\n",
       "</style>\n",
       "<table border=\"1\" class=\"dataframe\">\n",
       "  <thead>\n",
       "    <tr style=\"text-align: right;\">\n",
       "      <th></th>\n",
       "      <th>hasSM</th>\n",
       "      <th>Capped Weighted_EWS_Score__c</th>\n",
       "      <th>TLP_30Days_SalesService__c</th>\n",
       "      <th>Platform_Adoption__c</th>\n",
       "      <th>Core_Service_EWS_360_Score__c</th>\n",
       "      <th>Core_SFA_EWS_360_Score__c</th>\n",
       "      <th>Capped Total Sprogs</th>\n",
       "      <th>High Count</th>\n",
       "      <th>Low Count</th>\n",
       "      <th>Tech Count</th>\n",
       "    </tr>\n",
       "  </thead>\n",
       "  <tbody>\n",
       "    <tr>\n",
       "      <th>count</th>\n",
       "      <td>13109.0</td>\n",
       "      <td>13109.000000</td>\n",
       "      <td>13019.000000</td>\n",
       "      <td>12825.000000</td>\n",
       "      <td>7179.000000</td>\n",
       "      <td>7056.000000</td>\n",
       "      <td>9413.000000</td>\n",
       "      <td>9413.000000</td>\n",
       "      <td>9413.000000</td>\n",
       "      <td>9413.000000</td>\n",
       "    </tr>\n",
       "    <tr>\n",
       "      <th>mean</th>\n",
       "      <td>1.0</td>\n",
       "      <td>12520.474132</td>\n",
       "      <td>67.478403</td>\n",
       "      <td>0.503482</td>\n",
       "      <td>61.580164</td>\n",
       "      <td>52.866922</td>\n",
       "      <td>24.333900</td>\n",
       "      <td>1.120365</td>\n",
       "      <td>6.258897</td>\n",
       "      <td>104.237438</td>\n",
       "    </tr>\n",
       "    <tr>\n",
       "      <th>std</th>\n",
       "      <td>0.0</td>\n",
       "      <td>15884.092265</td>\n",
       "      <td>30.341920</td>\n",
       "      <td>0.331077</td>\n",
       "      <td>18.997311</td>\n",
       "      <td>23.264620</td>\n",
       "      <td>29.266826</td>\n",
       "      <td>27.143569</td>\n",
       "      <td>36.818991</td>\n",
       "      <td>3523.599821</td>\n",
       "    </tr>\n",
       "    <tr>\n",
       "      <th>min</th>\n",
       "      <td>1.0</td>\n",
       "      <td>0.000000</td>\n",
       "      <td>0.000000</td>\n",
       "      <td>0.000000</td>\n",
       "      <td>9.000000</td>\n",
       "      <td>3.000000</td>\n",
       "      <td>1.000000</td>\n",
       "      <td>0.000000</td>\n",
       "      <td>0.000000</td>\n",
       "      <td>0.000000</td>\n",
       "    </tr>\n",
       "    <tr>\n",
       "      <th>25%</th>\n",
       "      <td>1.0</td>\n",
       "      <td>252.000000</td>\n",
       "      <td>50.000000</td>\n",
       "      <td>0.210000</td>\n",
       "      <td>52.000000</td>\n",
       "      <td>34.000000</td>\n",
       "      <td>3.000000</td>\n",
       "      <td>0.000000</td>\n",
       "      <td>1.000000</td>\n",
       "      <td>1.000000</td>\n",
       "    </tr>\n",
       "    <tr>\n",
       "      <th>50%</th>\n",
       "      <td>1.0</td>\n",
       "      <td>3456.000000</td>\n",
       "      <td>76.470000</td>\n",
       "      <td>0.490000</td>\n",
       "      <td>63.000000</td>\n",
       "      <td>55.000000</td>\n",
       "      <td>10.000000</td>\n",
       "      <td>0.000000</td>\n",
       "      <td>2.000000</td>\n",
       "      <td>6.000000</td>\n",
       "    </tr>\n",
       "    <tr>\n",
       "      <th>75%</th>\n",
       "      <td>1.0</td>\n",
       "      <td>23298.000000</td>\n",
       "      <td>91.230000</td>\n",
       "      <td>0.820000</td>\n",
       "      <td>78.000000</td>\n",
       "      <td>72.000000</td>\n",
       "      <td>34.000000</td>\n",
       "      <td>0.000000</td>\n",
       "      <td>5.000000</td>\n",
       "      <td>26.000000</td>\n",
       "    </tr>\n",
       "    <tr>\n",
       "      <th>max</th>\n",
       "      <td>1.0</td>\n",
       "      <td>40870.000000</td>\n",
       "      <td>100.000000</td>\n",
       "      <td>1.000000</td>\n",
       "      <td>97.000000</td>\n",
       "      <td>97.000000</td>\n",
       "      <td>88.000000</td>\n",
       "      <td>2595.000000</td>\n",
       "      <td>2949.000000</td>\n",
       "      <td>335184.000000</td>\n",
       "    </tr>\n",
       "  </tbody>\n",
       "</table>\n",
       "</div>"
      ],
      "text/plain": [
       "         hasSM  Capped Weighted_EWS_Score__c  TLP_30Days_SalesService__c  \\\n",
       "count  13109.0                  13109.000000                13019.000000   \n",
       "mean       1.0                  12520.474132                   67.478403   \n",
       "std        0.0                  15884.092265                   30.341920   \n",
       "min        1.0                      0.000000                    0.000000   \n",
       "25%        1.0                    252.000000                   50.000000   \n",
       "50%        1.0                   3456.000000                   76.470000   \n",
       "75%        1.0                  23298.000000                   91.230000   \n",
       "max        1.0                  40870.000000                  100.000000   \n",
       "\n",
       "       Platform_Adoption__c  Core_Service_EWS_360_Score__c  \\\n",
       "count          12825.000000                    7179.000000   \n",
       "mean               0.503482                      61.580164   \n",
       "std                0.331077                      18.997311   \n",
       "min                0.000000                       9.000000   \n",
       "25%                0.210000                      52.000000   \n",
       "50%                0.490000                      63.000000   \n",
       "75%                0.820000                      78.000000   \n",
       "max                1.000000                      97.000000   \n",
       "\n",
       "       Core_SFA_EWS_360_Score__c  Capped Total Sprogs   High Count  \\\n",
       "count                7056.000000          9413.000000  9413.000000   \n",
       "mean                   52.866922            24.333900     1.120365   \n",
       "std                    23.264620            29.266826    27.143569   \n",
       "min                     3.000000             1.000000     0.000000   \n",
       "25%                    34.000000             3.000000     0.000000   \n",
       "50%                    55.000000            10.000000     0.000000   \n",
       "75%                    72.000000            34.000000     0.000000   \n",
       "max                    97.000000            88.000000  2595.000000   \n",
       "\n",
       "         Low Count     Tech Count  \n",
       "count  9413.000000    9413.000000  \n",
       "mean      6.258897     104.237438  \n",
       "std      36.818991    3523.599821  \n",
       "min       0.000000       0.000000  \n",
       "25%       1.000000       1.000000  \n",
       "50%       2.000000       6.000000  \n",
       "75%       5.000000      26.000000  \n",
       "max    2949.000000  335184.000000  "
      ]
     },
     "execution_count": 58,
     "metadata": {},
     "output_type": "execute_result"
    }
   ],
   "source": [
    "AcctSuccessProgMergedSubset2[AcctSuccessProgMergedSubset2['hasSM']==1].describe()"
   ]
  },
  {
   "cell_type": "code",
   "execution_count": 59,
   "metadata": {},
   "outputs": [
    {
     "data": {
      "text/html": [
       "<div>\n",
       "<style scoped>\n",
       "    .dataframe tbody tr th:only-of-type {\n",
       "        vertical-align: middle;\n",
       "    }\n",
       "\n",
       "    .dataframe tbody tr th {\n",
       "        vertical-align: top;\n",
       "    }\n",
       "\n",
       "    .dataframe thead th {\n",
       "        text-align: right;\n",
       "    }\n",
       "</style>\n",
       "<table border=\"1\" class=\"dataframe\">\n",
       "  <thead>\n",
       "    <tr style=\"text-align: right;\">\n",
       "      <th></th>\n",
       "      <th>hasSM</th>\n",
       "      <th>Capped Weighted_EWS_Score__c</th>\n",
       "      <th>TLP_30Days_SalesService__c</th>\n",
       "      <th>Platform_Adoption__c</th>\n",
       "      <th>Core_Service_EWS_360_Score__c</th>\n",
       "      <th>Core_SFA_EWS_360_Score__c</th>\n",
       "      <th>Capped Total Sprogs</th>\n",
       "      <th>High Count</th>\n",
       "      <th>Low Count</th>\n",
       "      <th>Tech Count</th>\n",
       "    </tr>\n",
       "  </thead>\n",
       "  <tbody>\n",
       "    <tr>\n",
       "      <th>count</th>\n",
       "      <td>5678.0</td>\n",
       "      <td>5678.000000</td>\n",
       "      <td>5601.000000</td>\n",
       "      <td>5589.000000</td>\n",
       "      <td>2838.000000</td>\n",
       "      <td>3145.000000</td>\n",
       "      <td>3471.000000</td>\n",
       "      <td>3471.000000</td>\n",
       "      <td>3471.000000</td>\n",
       "      <td>3471.000000</td>\n",
       "    </tr>\n",
       "    <tr>\n",
       "      <th>mean</th>\n",
       "      <td>0.0</td>\n",
       "      <td>6890.729949</td>\n",
       "      <td>63.455387</td>\n",
       "      <td>0.392360</td>\n",
       "      <td>54.735025</td>\n",
       "      <td>47.239110</td>\n",
       "      <td>28.164218</td>\n",
       "      <td>1.170268</td>\n",
       "      <td>5.652550</td>\n",
       "      <td>103.461827</td>\n",
       "    </tr>\n",
       "    <tr>\n",
       "      <th>std</th>\n",
       "      <td>0.0</td>\n",
       "      <td>12505.748336</td>\n",
       "      <td>32.631022</td>\n",
       "      <td>0.309307</td>\n",
       "      <td>20.828036</td>\n",
       "      <td>22.291444</td>\n",
       "      <td>31.511694</td>\n",
       "      <td>8.504353</td>\n",
       "      <td>15.819397</td>\n",
       "      <td>963.469659</td>\n",
       "    </tr>\n",
       "    <tr>\n",
       "      <th>min</th>\n",
       "      <td>0.0</td>\n",
       "      <td>0.000000</td>\n",
       "      <td>0.000000</td>\n",
       "      <td>0.000000</td>\n",
       "      <td>11.000000</td>\n",
       "      <td>1.000000</td>\n",
       "      <td>1.000000</td>\n",
       "      <td>0.000000</td>\n",
       "      <td>0.000000</td>\n",
       "      <td>0.000000</td>\n",
       "    </tr>\n",
       "    <tr>\n",
       "      <th>25%</th>\n",
       "      <td>0.0</td>\n",
       "      <td>0.000000</td>\n",
       "      <td>41.670000</td>\n",
       "      <td>0.110000</td>\n",
       "      <td>39.000000</td>\n",
       "      <td>28.000000</td>\n",
       "      <td>3.000000</td>\n",
       "      <td>0.000000</td>\n",
       "      <td>0.000000</td>\n",
       "      <td>1.000000</td>\n",
       "    </tr>\n",
       "    <tr>\n",
       "      <th>50%</th>\n",
       "      <td>0.0</td>\n",
       "      <td>832.000000</td>\n",
       "      <td>71.950000</td>\n",
       "      <td>0.300000</td>\n",
       "      <td>56.000000</td>\n",
       "      <td>51.000000</td>\n",
       "      <td>13.000000</td>\n",
       "      <td>0.000000</td>\n",
       "      <td>2.000000</td>\n",
       "      <td>10.000000</td>\n",
       "    </tr>\n",
       "    <tr>\n",
       "      <th>75%</th>\n",
       "      <td>0.0</td>\n",
       "      <td>5831.000000</td>\n",
       "      <td>90.960000</td>\n",
       "      <td>0.680000</td>\n",
       "      <td>68.000000</td>\n",
       "      <td>62.000000</td>\n",
       "      <td>47.000000</td>\n",
       "      <td>0.000000</td>\n",
       "      <td>5.000000</td>\n",
       "      <td>40.000000</td>\n",
       "    </tr>\n",
       "    <tr>\n",
       "      <th>max</th>\n",
       "      <td>0.0</td>\n",
       "      <td>40870.000000</td>\n",
       "      <td>100.000000</td>\n",
       "      <td>1.000000</td>\n",
       "      <td>96.000000</td>\n",
       "      <td>94.000000</td>\n",
       "      <td>88.000000</td>\n",
       "      <td>292.000000</td>\n",
       "      <td>321.000000</td>\n",
       "      <td>42127.000000</td>\n",
       "    </tr>\n",
       "  </tbody>\n",
       "</table>\n",
       "</div>"
      ],
      "text/plain": [
       "        hasSM  Capped Weighted_EWS_Score__c  TLP_30Days_SalesService__c  \\\n",
       "count  5678.0                   5678.000000                 5601.000000   \n",
       "mean      0.0                   6890.729949                   63.455387   \n",
       "std       0.0                  12505.748336                   32.631022   \n",
       "min       0.0                      0.000000                    0.000000   \n",
       "25%       0.0                      0.000000                   41.670000   \n",
       "50%       0.0                    832.000000                   71.950000   \n",
       "75%       0.0                   5831.000000                   90.960000   \n",
       "max       0.0                  40870.000000                  100.000000   \n",
       "\n",
       "       Platform_Adoption__c  Core_Service_EWS_360_Score__c  \\\n",
       "count           5589.000000                    2838.000000   \n",
       "mean               0.392360                      54.735025   \n",
       "std                0.309307                      20.828036   \n",
       "min                0.000000                      11.000000   \n",
       "25%                0.110000                      39.000000   \n",
       "50%                0.300000                      56.000000   \n",
       "75%                0.680000                      68.000000   \n",
       "max                1.000000                      96.000000   \n",
       "\n",
       "       Core_SFA_EWS_360_Score__c  Capped Total Sprogs   High Count  \\\n",
       "count                3145.000000          3471.000000  3471.000000   \n",
       "mean                   47.239110            28.164218     1.170268   \n",
       "std                    22.291444            31.511694     8.504353   \n",
       "min                     1.000000             1.000000     0.000000   \n",
       "25%                    28.000000             3.000000     0.000000   \n",
       "50%                    51.000000            13.000000     0.000000   \n",
       "75%                    62.000000            47.000000     0.000000   \n",
       "max                    94.000000            88.000000   292.000000   \n",
       "\n",
       "         Low Count    Tech Count  \n",
       "count  3471.000000   3471.000000  \n",
       "mean      5.652550    103.461827  \n",
       "std      15.819397    963.469659  \n",
       "min       0.000000      0.000000  \n",
       "25%       0.000000      1.000000  \n",
       "50%       2.000000     10.000000  \n",
       "75%       5.000000     40.000000  \n",
       "max     321.000000  42127.000000  "
      ]
     },
     "execution_count": 59,
     "metadata": {},
     "output_type": "execute_result"
    }
   ],
   "source": [
    "AcctSuccessProgMergedSubset2[AcctSuccessProgMergedSubset2['hasSM']==0].describe()"
   ]
  },
  {
   "cell_type": "code",
   "execution_count": 60,
   "metadata": {},
   "outputs": [
    {
     "data": {
      "image/png": "[encoded data removed]",
      "text/plain": [
       "<Figure size 432x288 with 1 Axes>"
      ]
     },
     "metadata": {
      "needs_background": "light"
     },
     "output_type": "display_data"
    }
   ],
   "source": [
    "# Boxplot for Weighted EWS with outliers\n",
    "AcctSuccessProgMerged.boxplot(by ='hasSM', column =['Capped Weighted_EWS_Score__c'], grid = False)\n",
    "# get rid of the automatic 'Boxplot grouped by group_by_column_name' title\n",
    "plt.suptitle(\"\")\n",
    "plt.show()"
   ]
  },
  {
   "cell_type": "code",
   "execution_count": 61,
   "metadata": {},
   "outputs": [
    {
     "data": {
      "text/html": [
       "<div>\n",
       "<style scoped>\n",
       "    .dataframe tbody tr th:only-of-type {\n",
       "        vertical-align: middle;\n",
       "    }\n",
       "\n",
       "    .dataframe tbody tr th {\n",
       "        vertical-align: top;\n",
       "    }\n",
       "\n",
       "    .dataframe thead th {\n",
       "        text-align: right;\n",
       "    }\n",
       "</style>\n",
       "<table border=\"1\" class=\"dataframe\">\n",
       "  <thead>\n",
       "    <tr style=\"text-align: right;\">\n",
       "      <th></th>\n",
       "      <th>Capped Weighted_EWS_Score__c</th>\n",
       "      <th>TLP_30Days_SalesService__c</th>\n",
       "      <th>Platform_Adoption__c</th>\n",
       "      <th>Core_Service_EWS_360_Score__c</th>\n",
       "      <th>Core_SFA_EWS_360_Score__c</th>\n",
       "      <th>Capped Total Sprogs</th>\n",
       "      <th>High Count</th>\n",
       "      <th>Low Count</th>\n",
       "      <th>Tech Count</th>\n",
       "    </tr>\n",
       "    <tr>\n",
       "      <th>hasSM</th>\n",
       "      <th></th>\n",
       "      <th></th>\n",
       "      <th></th>\n",
       "      <th></th>\n",
       "      <th></th>\n",
       "      <th></th>\n",
       "      <th></th>\n",
       "      <th></th>\n",
       "      <th></th>\n",
       "    </tr>\n",
       "  </thead>\n",
       "  <tbody>\n",
       "    <tr>\n",
       "      <th>0</th>\n",
       "      <td>6890.729949</td>\n",
       "      <td>63.455387</td>\n",
       "      <td>0.392360</td>\n",
       "      <td>54.735025</td>\n",
       "      <td>47.239110</td>\n",
       "      <td>28.164218</td>\n",
       "      <td>1.170268</td>\n",
       "      <td>5.652550</td>\n",
       "      <td>103.461827</td>\n",
       "    </tr>\n",
       "    <tr>\n",
       "      <th>1</th>\n",
       "      <td>12520.474132</td>\n",
       "      <td>67.478403</td>\n",
       "      <td>0.503482</td>\n",
       "      <td>61.580164</td>\n",
       "      <td>52.866922</td>\n",
       "      <td>24.333900</td>\n",
       "      <td>1.120365</td>\n",
       "      <td>6.258897</td>\n",
       "      <td>104.237438</td>\n",
       "    </tr>\n",
       "  </tbody>\n",
       "</table>\n",
       "</div>"
      ],
      "text/plain": [
       "       Capped Weighted_EWS_Score__c  TLP_30Days_SalesService__c  \\\n",
       "hasSM                                                             \n",
       "0                       6890.729949                   63.455387   \n",
       "1                      12520.474132                   67.478403   \n",
       "\n",
       "       Platform_Adoption__c  Core_Service_EWS_360_Score__c  \\\n",
       "hasSM                                                        \n",
       "0                  0.392360                      54.735025   \n",
       "1                  0.503482                      61.580164   \n",
       "\n",
       "       Core_SFA_EWS_360_Score__c  Capped Total Sprogs  High Count  Low Count  \\\n",
       "hasSM                                                                          \n",
       "0                      47.239110            28.164218    1.170268   5.652550   \n",
       "1                      52.866922            24.333900    1.120365   6.258897   \n",
       "\n",
       "       Tech Count  \n",
       "hasSM              \n",
       "0      103.461827  \n",
       "1      104.237438  "
      ]
     },
     "execution_count": 61,
     "metadata": {},
     "output_type": "execute_result"
    }
   ],
   "source": [
    "SMTable = AcctSuccessProgMergedSubset2.groupby(['hasSM']).mean()\n",
    "SMTable"
   ]
  },
  {
   "cell_type": "code",
   "execution_count": 62,
   "metadata": {},
   "outputs": [
    {
     "data": {
      "image/png": "[encoded data removed]",
      "text/plain": [
       "<Figure size 432x288 with 1 Axes>"
      ]
     },
     "metadata": {
      "needs_background": "light"
     },
     "output_type": "display_data"
    }
   ],
   "source": [
    "# Boxplot for Weighted EWS with outliers removed\n",
    "AcctSuccessProgMerged.boxplot(by ='hasSM', column =['Capped Weighted_EWS_Score__c'], grid = False, showfliers=False)\n",
    "plt.suptitle(\"\")\n",
    "plt.show()"
   ]
  },
  {
   "cell_type": "code",
   "execution_count": 63,
   "metadata": {},
   "outputs": [
    {
     "data": {
      "image/png": "[encoded data removed]",
      "text/plain": [
       "<Figure size 432x288 with 1 Axes>"
      ]
     },
     "metadata": {
      "needs_background": "light"
     },
     "output_type": "display_data"
    }
   ],
   "source": [
    "# Boxplot for Current_Adoption_Growth__c  with outliers \n",
    "AcctSuccessProgMerged.boxplot(by ='hasSM', column =['Current_Adoption_Growth__c'], grid = False)\n",
    "plt.suptitle(\"\")\n",
    "plt.show()"
   ]
  },
  {
   "cell_type": "code",
   "execution_count": 64,
   "metadata": {},
   "outputs": [
    {
     "data": {
      "image/png": "[encoded data removed]",
      "text/plain": [
       "<Figure size 432x288 with 1 Axes>"
      ]
     },
     "metadata": {
      "needs_background": "light"
     },
     "output_type": "display_data"
    }
   ],
   "source": [
    "# Boxplot for Current_Adoption_Growth__c  with outliers removed\n",
    "AcctSuccessProgMerged.boxplot(by ='hasSM', column =['Current_Adoption_Growth__c'], grid = False, showfliers=False)\n",
    "plt.suptitle(\"\")\n",
    "plt.show()"
   ]
  },
  {
   "cell_type": "code",
   "execution_count": 65,
   "metadata": {},
   "outputs": [
    {
     "data": {
      "image/png": "[encoded data removed]",
      "text/plain": [
       "<Figure size 432x288 with 1 Axes>"
      ]
     },
     "metadata": {
      "needs_background": "light"
     },
     "output_type": "display_data"
    }
   ],
   "source": [
    "# Boxplot for Platform Adoption with outliers\n",
    "AcctSuccessProgMerged.boxplot(by ='hasSM', column =['Platform_Adoption__c'], grid = False)\n",
    "plt.suptitle(\"\")\n",
    "plt.show()"
   ]
  },
  {
   "cell_type": "code",
   "execution_count": 66,
   "metadata": {},
   "outputs": [
    {
     "data": {
      "image/png": "[encoded data removed]",
      "text/plain": [
       "<Figure size 432x288 with 1 Axes>"
      ]
     },
     "metadata": {
      "needs_background": "light"
     },
     "output_type": "display_data"
    }
   ],
   "source": [
    "# Boxplot for Platform Adoption with outliers removed\n",
    "AcctSuccessProgMerged.boxplot(by ='hasSM', column =['Platform_Adoption__c'], grid = False, showfliers=False)\n",
    "plt.suptitle(\"\")\n",
    "plt.show()"
   ]
  },
  {
   "cell_type": "code",
   "execution_count": 67,
   "metadata": {},
   "outputs": [
    {
     "data": {
      "image/png": "[encoded data removed]",
      "text/plain": [
       "<Figure size 432x288 with 1 Axes>"
      ]
     },
     "metadata": {
      "needs_background": "light"
     },
     "output_type": "display_data"
    }
   ],
   "source": [
    "# Boxplot for Current_Adoption_Growth__c  with outliers\n",
    "AcctSuccessProgMerged.boxplot(by ='hasSM', column =['Current_Adoption_Growth__c'], grid = False)\n",
    "plt.suptitle(\"\")\n",
    "plt.show()"
   ]
  },
  {
   "cell_type": "code",
   "execution_count": 69,
   "metadata": {},
   "outputs": [
    {
     "data": {
      "image/png": "[encoded data removed]",
      "text/plain": [
       "<Figure size 432x288 with 1 Axes>"
      ]
     },
     "metadata": {
      "needs_background": "light"
     },
     "output_type": "display_data"
    }
   ],
   "source": [
    "# Boxplot for Current_Adoption_Growth__c  with outliers \n",
    "AcctSuccessProgMerged.boxplot(by ='hasSM', column =['Total Sprogs'], grid = False)\n",
    "plt.suptitle(\"\")\n",
    "plt.show()"
   ]
  },
  {
   "cell_type": "code",
   "execution_count": 68,
   "metadata": {},
   "outputs": [
    {
     "data": {
      "image/png": "[encoded data removed]",
      "text/plain": [
       "<Figure size 432x288 with 1 Axes>"
      ]
     },
     "metadata": {
      "needs_background": "light"
     },
     "output_type": "display_data"
    }
   ],
   "source": [
    "# Boxplot for Current_Adoption_Growth__c  with outliers removed\n",
    "AcctSuccessProgMerged.boxplot(by ='hasSM', column =['Capped Total Sprogs'], grid = False)\n",
    "plt.suptitle(\"\")\n",
    "plt.show()"
   ]
  },
  {
   "cell_type": "code",
   "execution_count": 70,
   "metadata": {},
   "outputs": [
    {
     "data": {
      "image/png": "[encoded data removed]",
      "text/plain": [
       "<Figure size 432x288 with 1 Axes>"
      ]
     },
     "metadata": {
      "needs_background": "light"
     },
     "output_type": "display_data"
    }
   ],
   "source": [
    "# Boxplot for Current_Adoption_Growth__c  with outliers\n",
    "AcctSuccessProgMerged.boxplot(by ='hasSM', column =['Current_Adoption_Growth__c'], grid = False, showfliers=False)\n",
    "plt.suptitle(\"\")\n",
    "plt.show()"
   ]
  },
  {
   "cell_type": "code",
   "execution_count": 71,
   "metadata": {},
   "outputs": [
    {
     "data": {
      "image/png": "[encoded data removed]",
      "text/plain": [
       "<Figure size 432x288 with 1 Axes>"
      ]
     },
     "metadata": {
      "needs_background": "light"
     },
     "output_type": "display_data"
    }
   ],
   "source": [
    "# Boxplot for Platform Adoption with outliers\n",
    "AcctSuccessProgMerged.boxplot(by ='hasSM', column =['Platform_Adoption__c'], grid = False)\n",
    "plt.suptitle(\"\")\n",
    "plt.show()"
   ]
  },
  {
   "cell_type": "code",
   "execution_count": 72,
   "metadata": {},
   "outputs": [
    {
     "data": {
      "image/png": "[encoded data removed]",
      "text/plain": [
       "<Figure size 432x288 with 1 Axes>"
      ]
     },
     "metadata": {
      "needs_background": "light"
     },
     "output_type": "display_data"
    }
   ],
   "source": [
    "# Boxplot for Platform Adoption with outliers\n",
    "AcctSuccessProgMerged.boxplot(by ='hasSM', column =['Platform_Adoption__c'], grid = False)\n",
    "plt.suptitle(\"\")\n",
    "plt.show()"
   ]
  },
  {
   "cell_type": "code",
   "execution_count": 73,
   "metadata": {},
   "outputs": [
    {
     "data": {
      "image/png": "[encoded data removed]",
      "text/plain": [
       "<Figure size 432x288 with 1 Axes>"
      ]
     },
     "metadata": {
      "needs_background": "light"
     },
     "output_type": "display_data"
    }
   ],
   "source": [
    "# Boxplot for 'Capped Weighted_EWS_Score__c' with outliers\n",
    "AcctSuccessProgMerged.boxplot(by ='hasSM', column =['Capped Weighted_EWS_Score__c'], grid = False)\n",
    "plt.suptitle(\"\")\n",
    "plt.show()"
   ]
  },
  {
   "cell_type": "code",
   "execution_count": 74,
   "metadata": {},
   "outputs": [
    {
     "data": {
      "image/png": "[encoded data removed]",
      "text/plain": [
       "<Figure size 432x288 with 1 Axes>"
      ]
     },
     "metadata": {
      "needs_background": "light"
     },
     "output_type": "display_data"
    }
   ],
   "source": [
    "# Boxplot for 'Capped Weighted_EWS_Score__c' with outliers removed\n",
    "AcctSuccessProgMerged.boxplot(by ='hasSM', column =['Capped Weighted_EWS_Score__c'], grid = False, showfliers=False)\n",
    "plt.suptitle(\"\")\n",
    "plt.show()"
   ]
  },
  {
   "cell_type": "code",
   "execution_count": 75,
   "metadata": {},
   "outputs": [
    {
     "data": {
      "text/plain": [
       "Index(['Account__r.CSG_Coverage__c', 'Account__r.AOV_Band__c',\n",
       "       'Account__r.CSM_lookup__r', 'Core_SFA_EWS_360_Score__c',\n",
       "       'Lightning_Adoption_Stage__c', 'Core_Service_EWS_360_Score__c',\n",
       "       'Weighted_EWS_Score__c', 'Platform_Adoption__c',\n",
       "       'Lightning_Adoption__c', 'Current_Adoption_Growth__c',\n",
       "       'TLP_TTM30Days_SalesService__c', 'FY_TLP_Baseline_SalesService__c',\n",
       "       'TLP_30Days_SalesService__c', 'EWS_360_Scores_Snap_Date__c', 'uuid',\n",
       "       'ADR', 'Accelerator', 'Admin Assist', 'Community',\n",
       "       'Customer Success Request', 'Digital Campaigns', 'Einstein Assessor',\n",
       "       'Email', 'Executive/Critical Incidents', 'High Touch',\n",
       "       'In Person Training', 'In-App', 'JavaScript Buttons Check',\n",
       "       'Live and Virtual Events', 'MANUAL_PROD', 'Optimizer',\n",
       "       'Readiness Check', 'Renewal Touch', 'SCHEDULED_PROD', 'Success Apps',\n",
       "       'Success Assessment', 'Success Play', 'Support Case', 'Trail',\n",
       "       'User Group', 'Video', 'Visualforce Check', 'Web', 'Webinar',\n",
       "       'Total Sprogs', 'High Count', 'Low Count', 'Tech Count',\n",
       "       'Capped Weighted_EWS_Score__c', 'Capped Total Sprogs', 'hasSM'],\n",
       "      dtype='object')"
      ]
     },
     "execution_count": 75,
     "metadata": {},
     "output_type": "execute_result"
    }
   ],
   "source": [
    "AcctSuccessProgMerged.columns"
   ]
  },
  {
   "cell_type": "code",
   "execution_count": 76,
   "metadata": {},
   "outputs": [
    {
     "data": {
      "image/png": "[encoded data removed]",
      "text/plain": [
       "<Figure size 432x288 with 1 Axes>"
      ]
     },
     "metadata": {
      "needs_background": "light"
     },
     "output_type": "display_data"
    }
   ],
   "source": [
    "# Boxplot for 'Total Succes Prog' with outliers removed\n",
    "AcctSuccessProgMerged.boxplot(by ='hasSM', column =['Capped Weighted_EWS_Score__c'], grid = False, showfliers=False)\n",
    "plt.suptitle(\"\")\n",
    "plt.show()"
   ]
  },
  {
   "cell_type": "markdown",
   "metadata": {},
   "source": [
    "# Investigate diferent delivery methods"
   ]
  },
  {
   "cell_type": "code",
   "execution_count": 77,
   "metadata": {},
   "outputs": [
    {
     "data": {
      "text/plain": [
       "Index(['Account__r.CSG_Coverage__c', 'Account__r.AOV_Band__c',\n",
       "       'Account__r.CSM_lookup__r', 'Core_SFA_EWS_360_Score__c',\n",
       "       'Lightning_Adoption_Stage__c', 'Core_Service_EWS_360_Score__c',\n",
       "       'Weighted_EWS_Score__c', 'Platform_Adoption__c',\n",
       "       'Lightning_Adoption__c', 'Current_Adoption_Growth__c',\n",
       "       'TLP_TTM30Days_SalesService__c', 'FY_TLP_Baseline_SalesService__c',\n",
       "       'TLP_30Days_SalesService__c', 'EWS_360_Scores_Snap_Date__c', 'uuid',\n",
       "       'ADR', 'Accelerator', 'Admin Assist', 'Community',\n",
       "       'Customer Success Request', 'Digital Campaigns', 'Einstein Assessor',\n",
       "       'Email', 'Executive/Critical Incidents', 'High Touch',\n",
       "       'In Person Training', 'In-App', 'JavaScript Buttons Check',\n",
       "       'Live and Virtual Events', 'MANUAL_PROD', 'Optimizer',\n",
       "       'Readiness Check', 'Renewal Touch', 'SCHEDULED_PROD', 'Success Apps',\n",
       "       'Success Assessment', 'Success Play', 'Support Case', 'Trail',\n",
       "       'User Group', 'Video', 'Visualforce Check', 'Web', 'Webinar',\n",
       "       'Total Sprogs', 'High Count', 'Low Count', 'Tech Count',\n",
       "       'Capped Weighted_EWS_Score__c', 'Capped Total Sprogs', 'hasSM'],\n",
       "      dtype='object')"
      ]
     },
     "execution_count": 77,
     "metadata": {},
     "output_type": "execute_result"
    }
   ],
   "source": [
    "AcctSuccessProgMerged.columns"
   ]
  },
  {
   "cell_type": "code",
   "execution_count": 111,
   "metadata": {},
   "outputs": [],
   "source": [
    "# Define Success Prog Category columns\n",
    "SuccOutcomeCat_cols =['High Count',\n",
    "                      'Low Count', 'Tech Count']"
   ]
  },
  {
   "cell_type": "code",
   "execution_count": 108,
   "metadata": {},
   "outputs": [],
   "source": [
    "# Define Success Prog Delivery Method columns\n",
    "SuccProgDelM_cols = ['ADR', 'Accelerator', 'Admin Assist', 'Community',\n",
    "       'Customer Success Request', 'Digital Campaigns', 'Einstein Assessor',\n",
    "       'Email', 'Executive/Critical Incidents', 'High Touch',\n",
    "       'In Person Training', 'In-App', 'JavaScript Buttons Check',\n",
    "       'Live and Virtual Events', 'MANUAL_PROD', 'Optimizer',\n",
    "       'Readiness Check', 'Renewal Touch', 'SCHEDULED_PROD', 'Success Apps',\n",
    "       'Success Assessment', 'Success Play', 'Support Case', 'Trail',\n",
    "       'User Group', 'Video', 'Visualforce Check', 'Web', 'Webinar',\n",
    "        'High Count', 'Low Count', 'Tech Count', 'Capped Total Sprogs']"
   ]
  },
  {
   "cell_type": "code",
   "execution_count": null,
   "metadata": {},
   "outputs": [],
   "source": []
  },
  {
   "cell_type": "code",
   "execution_count": 118,
   "metadata": {},
   "outputs": [
    {
     "ename": "SyntaxError",
     "evalue": "can't assign to operator (<ipython-input-118-48e76a70a410>, line 2)",
     "output_type": "error",
     "traceback": [
      "\u001b[0;36m  File \u001b[0;32m\"<ipython-input-118-48e76a70a410>\"\u001b[0;36m, line \u001b[0;32m2\u001b[0m\n\u001b[0;31m    Full-SuccProgDelM_cols = ['Capped Weighted_EWS_Score__c', 'TLP_30Days_SalesService__c', 'Platform_Adoption__c','Core_Service_EWS_360_Score__c', 'Core_SFA_EWS_360_Score__c','ADR', 'Accelerator', 'Admin Assist', 'Community',  'Customer Success Request', 'Digital Campaigns', 'Einstein Assessor', 'Email', 'Executive/Critical Incidents', 'High Touch','In Person Training', 'In-App', 'JavaScript Buttons Check', 'Live and Virtual Events', 'MANUAL_PROD', 'Optimizer', 'Readiness Check', 'Renewal Touch', 'SCHEDULED_PROD', 'Success Apps', 'Success Assessment', 'Success Play', 'Support Case', 'Trail', 'User Group', 'Video', 'Visualforce Check', 'Web', 'Webinar','High Count', 'Low Count', 'Tech Count', 'Capped Total Sprogs']\u001b[0m\n\u001b[0m                                                                                                                                                                                                                                                                                                                                                                                                                                                                                                                                                                                                                                                                                                                                                    ^\u001b[0m\n\u001b[0;31mSyntaxError\u001b[0m\u001b[0;31m:\u001b[0m can't assign to operator\n"
     ]
    }
   ],
   "source": [
    "# Define Success Prog Delivery Method columns - all \n",
    "Full-SuccProgDelM_cols = ['Capped Weighted_EWS_Score__c', 'TLP_30Days_SalesService__c', 'Platform_Adoption__c','Core_Service_EWS_360_Score__c', 'Core_SFA_EWS_360_Score__c','ADR', 'Accelerator', 'Admin Assist', 'Community',  'Customer Success Request', 'Digital Campaigns', 'Einstein Assessor', 'Email', 'Executive/Critical Incidents', 'High Touch','In Person Training', 'In-App', 'JavaScript Buttons Check', 'Live and Virtual Events', 'MANUAL_PROD', 'Optimizer', 'Readiness Check', 'Renewal Touch', 'SCHEDULED_PROD', 'Success Apps', 'Success Assessment', 'Success Play', 'Support Case', 'Trail', 'User Group', 'Video', 'Visualforce Check', 'Web', 'Webinar','High Count', 'Low Count', 'Tech Count', 'Capped Total Sprogs']\n"
   ]
  },
  {
   "cell_type": "code",
   "execution_count": 100,
   "metadata": {},
   "outputs": [
    {
     "ename": "SyntaxError",
     "evalue": "can't assign to operator (<ipython-input-100-9bbacb524784>, line 2)",
     "output_type": "error",
     "traceback": [
      "\u001b[0;36m  File \u001b[0;32m\"<ipython-input-100-9bbacb524784>\"\u001b[0;36m, line \u001b[0;32m2\u001b[0m\n\u001b[0;31m    Cat-SuccProgDelM_cols =['Capped Weighted_EWS_Score__c', 'TLP_30Days_SalesService__c','Platform_Adoption__c', 'Core_Service_EWS_360_Score__c', 'Core_SFA_EWS_360_Score__c', 'High Count', 'Low Count', 'Tech Count', 'Capped Total Sprogs']\u001b[0m\n\u001b[0m                                                                                                                                                                                                                                              ^\u001b[0m\n\u001b[0;31mSyntaxError\u001b[0m\u001b[0;31m:\u001b[0m can't assign to operator\n"
     ]
    }
   ],
   "source": [
    "# Define Success Prog Delivery Method columns - Categories \n",
    "Cat-SuccProgDelM_cols =['Capped Weighted_EWS_Score__c', 'TLP_30Days_SalesService__c','Platform_Adoption__c', 'Core_Service_EWS_360_Score__c', 'Core_SFA_EWS_360_Score__c', 'High Count', 'Low Count', 'Tech Count', 'Capped Total Sprogs']\n"
   ]
  },
  {
   "cell_type": "code",
   "execution_count": null,
   "metadata": {},
   "outputs": [],
   "source": [
    "AcctSuccessProgMergedDelM1 = pd.DataFrame(AcctSuccessProgMerged,columns= ['Capped Weighted_EWS_Score__c',\n",
    "                                                 'TLP_30Days_SalesService__c',\n",
    "                                                 'Platform_Adoption__c',   \n",
    "                                                 'Core_Service_EWS_360_Score__c', \n",
    "                                                 'Core_SFA_EWS_360_Score__c',\n",
    "    'ADR', 'Accelerator', 'Admin Assist', 'Community',\n",
    "       'Customer Success Request', 'Digital Campaigns', 'Einstein Assessor',\n",
    "       'Email', 'Executive/Critical Incidents', 'High Touch',\n",
    "       'In Person Training', 'In-App', 'JavaScript Buttons Check',\n",
    "       'Live and Virtual Events', 'MANUAL_PROD', 'Optimizer',\n",
    "       'Readiness Check', 'Renewal Touch', 'SCHEDULED_PROD', 'Success Apps',\n",
    "       'Success Assessment', 'Success Play', 'Support Case', 'Trail',\n",
    "       'User Group', 'Video', 'Visualforce Check', 'Web', 'Webinar',\n",
    "        'High Count', 'Low Count', 'Tech Count', 'Capped Total Sprogs'])"
   ]
  },
  {
   "cell_type": "code",
   "execution_count": null,
   "metadata": {},
   "outputs": [],
   "source": [
    "AcctSuccessProgMergedDelMCat = pd.DataFrame(AcctSuccessProgMerged,columns= ['Capped Weighted_EWS_Score__c',\n",
    "                                                 'TLP_30Days_SalesService__c',\n",
    "                                                 'Platform_Adoption__c',   \n",
    "                                                 'Core_Service_EWS_360_Score__c', \n",
    "                                                 'Core_SFA_EWS_360_Score__c',\n",
    "        'High Count', 'Low Count', 'Tech Count', 'Capped Total Sprogs'])"
   ]
  },
  {
   "cell_type": "code",
   "execution_count": 101,
   "metadata": {},
   "outputs": [
    {
     "ename": "NameError",
     "evalue": "name 'AcctSuccessProgMergedDelM1' is not defined",
     "output_type": "error",
     "traceback": [
      "\u001b[0;31m---------------------------------------------------------------------------\u001b[0m",
      "\u001b[0;31mNameError\u001b[0m                                 Traceback (most recent call last)",
      "\u001b[0;32m<ipython-input-101-a9b0e8aa1e6a>\u001b[0m in \u001b[0;36m<module>\u001b[0;34m\u001b[0m\n\u001b[0;32m----> 1\u001b[0;31m \u001b[0mcorr\u001b[0m \u001b[0;34m=\u001b[0m \u001b[0mAcctSuccessProgMergedDelM1\u001b[0m\u001b[0;34m.\u001b[0m\u001b[0mcorr\u001b[0m\u001b[0;34m(\u001b[0m\u001b[0;34m)\u001b[0m\u001b[0;34m\u001b[0m\u001b[0;34m\u001b[0m\u001b[0m\n\u001b[0m\u001b[1;32m      2\u001b[0m \u001b[0mcorr\u001b[0m\u001b[0;34m.\u001b[0m\u001b[0mstyle\u001b[0m\u001b[0;34m.\u001b[0m\u001b[0mbackground_gradient\u001b[0m\u001b[0;34m(\u001b[0m\u001b[0mcmap\u001b[0m\u001b[0;34m=\u001b[0m\u001b[0;34m'Greens'\u001b[0m\u001b[0;34m)\u001b[0m\u001b[0;34m.\u001b[0m\u001b[0mset_precision\u001b[0m\u001b[0;34m(\u001b[0m\u001b[0;36m3\u001b[0m\u001b[0;34m)\u001b[0m\u001b[0;34m\u001b[0m\u001b[0;34m\u001b[0m\u001b[0m\n",
      "\u001b[0;31mNameError\u001b[0m: name 'AcctSuccessProgMergedDelM1' is not defined"
     ]
    }
   ],
   "source": [
    "corr = AcctSuccessProgMergedDelM1.corr()\n",
    "corr.style.background_gradient(cmap='Greens').set_precision(3)"
   ]
  },
  {
   "cell_type": "code",
   "execution_count": 102,
   "metadata": {},
   "outputs": [
    {
     "ename": "NameError",
     "evalue": "name 'AcctSuccessProgMergedDelMCat' is not defined",
     "output_type": "error",
     "traceback": [
      "\u001b[0;31m---------------------------------------------------------------------------\u001b[0m",
      "\u001b[0;31mNameError\u001b[0m                                 Traceback (most recent call last)",
      "\u001b[0;32m<ipython-input-102-df07ff7f5da5>\u001b[0m in \u001b[0;36m<module>\u001b[0;34m\u001b[0m\n\u001b[0;32m----> 1\u001b[0;31m \u001b[0mcorr\u001b[0m \u001b[0;34m=\u001b[0m \u001b[0mAcctSuccessProgMergedDelMCat\u001b[0m\u001b[0;34m.\u001b[0m\u001b[0mcorr\u001b[0m\u001b[0;34m(\u001b[0m\u001b[0;34m)\u001b[0m\u001b[0;34m\u001b[0m\u001b[0;34m\u001b[0m\u001b[0m\n\u001b[0m\u001b[1;32m      2\u001b[0m \u001b[0mcorr\u001b[0m\u001b[0;34m.\u001b[0m\u001b[0mstyle\u001b[0m\u001b[0;34m.\u001b[0m\u001b[0mbackground_gradient\u001b[0m\u001b[0;34m(\u001b[0m\u001b[0mcmap\u001b[0m\u001b[0;34m=\u001b[0m\u001b[0;34m'Greens'\u001b[0m\u001b[0;34m)\u001b[0m\u001b[0;34m.\u001b[0m\u001b[0mset_precision\u001b[0m\u001b[0;34m(\u001b[0m\u001b[0;36m3\u001b[0m\u001b[0;34m)\u001b[0m\u001b[0;34m\u001b[0m\u001b[0;34m\u001b[0m\u001b[0m\n",
      "\u001b[0;31mNameError\u001b[0m: name 'AcctSuccessProgMergedDelMCat' is not defined"
     ]
    }
   ],
   "source": [
    "corr = AcctSuccessProgMergedDelMCat.corr()\n",
    "corr.style.background_gradient(cmap='Greens').set_precision(3)"
   ]
  },
  {
   "cell_type": "code",
   "execution_count": 103,
   "metadata": {},
   "outputs": [
    {
     "ename": "NameError",
     "evalue": "name 'AcctSuccessProgMergedDelM1' is not defined",
     "output_type": "error",
     "traceback": [
      "\u001b[0;31m---------------------------------------------------------------------------\u001b[0m",
      "\u001b[0;31mNameError\u001b[0m                                 Traceback (most recent call last)",
      "\u001b[0;32m<ipython-input-103-d1177966d3d0>\u001b[0m in \u001b[0;36m<module>\u001b[0;34m\u001b[0m\n\u001b[0;32m----> 1\u001b[0;31m \u001b[0mcorr2\u001b[0m \u001b[0;34m=\u001b[0m \u001b[0mAcctSuccessProgMergedDelM1\u001b[0m\u001b[0;34m.\u001b[0m\u001b[0mcorr\u001b[0m\u001b[0;34m(\u001b[0m\u001b[0mmethod\u001b[0m\u001b[0;34m=\u001b[0m\u001b[0mpearsonr_pval\u001b[0m\u001b[0;34m)\u001b[0m\u001b[0;34m\u001b[0m\u001b[0;34m\u001b[0m\u001b[0m\n\u001b[0m\u001b[1;32m      2\u001b[0m \u001b[0mcorr2\u001b[0m\u001b[0;34m\u001b[0m\u001b[0;34m\u001b[0m\u001b[0m\n",
      "\u001b[0;31mNameError\u001b[0m: name 'AcctSuccessProgMergedDelM1' is not defined"
     ]
    }
   ],
   "source": [
    "corr2 = AcctSuccessProgMergedDelM1.corr(method=pearsonr_pval)\n",
    "corr2"
   ]
  },
  {
   "cell_type": "code",
   "execution_count": null,
   "metadata": {},
   "outputs": [],
   "source": []
  },
  {
   "cell_type": "markdown",
   "metadata": {},
   "source": [
    "# Investigate clustering of accounts"
   ]
  },
  {
   "cell_type": "code",
   "execution_count": null,
   "metadata": {},
   "outputs": [],
   "source": [
    "# Cluster by SM activities\n",
    "ClusterModel = AcctSuccessProgMerged.filter(SMActivities_cols,axis=1)"
   ]
  },
  {
   "cell_type": "code",
   "execution_count": null,
   "metadata": {},
   "outputs": [],
   "source": [
    "ClusterModel.head(5)"
   ]
  },
  {
   "cell_type": "code",
   "execution_count": null,
   "metadata": {},
   "outputs": [],
   "source": [
    "# Cluster by SM activities - Categories\n",
    "ClusterModelCat = AcctSuccessProgMerged.filter(SuccOutcomeCat_cols,axis=1)"
   ]
  },
  {
   "cell_type": "code",
   "execution_count": null,
   "metadata": {},
   "outputs": [],
   "source": [
    "ClusterModelCat.head(5)"
   ]
  },
  {
   "cell_type": "code",
   "execution_count": null,
   "metadata": {},
   "outputs": [],
   "source": [
    "n_clusters = 4\n",
    "\n",
    "scaler = StandardScaler()\n",
    "X_scale = scaler.fit_transform(ClusterModel.fillna(0))\n",
    "\n",
    "model = KMeans(n_clusters, init='k-means++', max_iter=1000, n_init=10, random_state=0)\n",
    "\n",
    "model.fit(X_scale)\n",
    "\n",
    "#add cluster column to df\n",
    "AcctSuccessProgMerged['Cluster'] = model.labels_"
   ]
  },
  {
   "cell_type": "code",
   "execution_count": null,
   "metadata": {},
   "outputs": [],
   "source": [
    "AcctSuccessProgMerged.head(5)"
   ]
  },
  {
   "cell_type": "code",
   "execution_count": null,
   "metadata": {},
   "outputs": [],
   "source": [
    "clustertable = AcctSuccessProgMerged.groupby(['Cluster'])\n",
    "clustertable"
   ]
  },
  {
   "cell_type": "code",
   "execution_count": null,
   "metadata": {},
   "outputs": [],
   "source": [
    "AcctSuccessProgMerged['Cluster'].value_counts().sort_index()"
   ]
  },
  {
   "cell_type": "code",
   "execution_count": null,
   "metadata": {},
   "outputs": [],
   "source": [
    "table = AcctSuccessProgMerged.groupby(['Cluster']).mean().transpose()\n",
    "table"
   ]
  },
  {
   "cell_type": "code",
   "execution_count": null,
   "metadata": {},
   "outputs": [],
   "source": [
    "scaler = StandardScaler()\n",
    "X_scale = scaler.fit_transform(ClusterModel.fillna(0))"
   ]
  },
  {
   "cell_type": "code",
   "execution_count": null,
   "metadata": {},
   "outputs": [],
   "source": [
    "# Calc K means 1-K groups \n",
    "Sum_of_squared_distances = []\n",
    "K = range(1,20)\n",
    "for k in K:\n",
    "    km = KMeans(n_clusters=k)\n",
    "    km = km.fit(X_scale)\n",
    "    Sum_of_squared_distances.append(km.inertia_)"
   ]
  },
  {
   "cell_type": "code",
   "execution_count": null,
   "metadata": {},
   "outputs": [],
   "source": [
    "# Plot K means sum of squares\n",
    "plt.plot(K, Sum_of_squared_distances, 'bx-')\n",
    "plt.xlabel('k')\n",
    "plt.ylabel('Sum_of_squared_distances')\n",
    "plt.title('Elbow Method For Optimal k')\n",
    "plt.show()"
   ]
  },
  {
   "cell_type": "code",
   "execution_count": null,
   "metadata": {},
   "outputs": [],
   "source": [
    "print(km)"
   ]
  },
  {
   "cell_type": "code",
   "execution_count": null,
   "metadata": {},
   "outputs": [],
   "source": [
    "# Scale for Categories\n",
    "scaler = StandardScaler()\n",
    "X_scale2 = scaler.fit_transform(ClusterModelCat.fillna(0))"
   ]
  },
  {
   "cell_type": "code",
   "execution_count": null,
   "metadata": {},
   "outputs": [],
   "source": [
    "# Calc K means for Categories\n",
    "Sum_of_squared_distances = []\n",
    "K = range(1,20)\n",
    "for k in K:\n",
    "    km = KMeans(n_clusters=k)\n",
    "    km = km.fit(X_scale2)\n",
    "    Sum_of_squared_distances.append(km.inertia_)"
   ]
  },
  {
   "cell_type": "code",
   "execution_count": null,
   "metadata": {},
   "outputs": [],
   "source": [
    "# Plot K means sum of squares for Cats\n",
    "plt.plot(K, Sum_of_squared_distances, 'bx-')\n",
    "plt.xlabel('k')\n",
    "plt.ylabel('Sum_of_squared_distances')\n",
    "plt.title('Elbow Method For Optimal k')\n",
    "plt.show()"
   ]
  },
  {
   "cell_type": "code",
   "execution_count": null,
   "metadata": {},
   "outputs": [],
   "source": [
    "# Cat Cluster \n",
    "\n",
    "n_clusters = 4\n",
    "\n",
    "scaler = StandardScaler()\n",
    "X_scale2 = scaler.fit_transform(ClusterModelCat.fillna(0))\n",
    "\n",
    "model = KMeans(n_clusters, init='k-means++', max_iter=1000, n_init=10, random_state=0)\n",
    "\n",
    "model.fit(X_scale2)\n",
    "\n",
    "#add cluster column to df\n",
    "AcctSuccessProgMerged['ClusterCat'] = model.labels_"
   ]
  },
  {
   "cell_type": "code",
   "execution_count": null,
   "metadata": {},
   "outputs": [],
   "source": [
    "Catclustertable = AcctSuccessProgMerged.groupby(['ClusterCat'])\n",
    "Catclustertable"
   ]
  },
  {
   "cell_type": "code",
   "execution_count": null,
   "metadata": {},
   "outputs": [],
   "source": [
    "AcctSuccessProgMerged['ClusterCat'].value_counts().sort_index()"
   ]
  },
  {
   "cell_type": "code",
   "execution_count": null,
   "metadata": {},
   "outputs": [],
   "source": [
    "Cattable = AcctSuccessProgMerged.groupby(['ClusterCat']).mean().transpose()\n",
    "Cattable"
   ]
  },
  {
   "cell_type": "code",
   "execution_count": null,
   "metadata": {},
   "outputs": [],
   "source": []
  },
  {
   "cell_type": "code",
   "execution_count": null,
   "metadata": {},
   "outputs": [],
   "source": []
  }
 ],
 "metadata": {
  "kernelspec": {
   "display_name": "Python 3",
   "language": "python",
   "name": "python3"
  },
  "language_info": {
   "codemirror_mode": {
    "name": "ipython",
    "version": 3
   },
   "file_extension": ".py",
   "mimetype": "text/x-python",
   "name": "python",
   "nbconvert_exporter": "python",
   "pygments_lexer": "ipython3",
   "version": "3.7.3"
  }
 },
 "nbformat": 4,
 "nbformat_minor": 2
}
